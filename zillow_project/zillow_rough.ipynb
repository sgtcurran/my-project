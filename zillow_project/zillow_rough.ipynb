{
 "cells": [
  {
   "cell_type": "code",
   "execution_count": 1,
   "metadata": {},
   "outputs": [],
   "source": [
    "import pandas as pd\n",
    "import matplotlib.pyplot as plt\n",
    "import seaborn as sns\n",
    "import numpy as np\n",
    "import env\n",
    "import acquire\n",
    "import wrangle\n",
    "from scipy import stats\n",
    "import sklearn.preprocessing\n",
    "from sklearn.impute import SimpleImputer\n",
    "from sklearn.model_selection import train_test_split, GridSearchCV\n",
    "from numpy import percentile\n",
    "\n",
    "\n",
    "from sklearn.experimental import enable_iterative_imputer  # noqa\n",
    "from sklearn.impute import IterativeImputer\n",
    "from sklearn.linear_model import BayesianRidge, SGDRegressor, LinearRegression, Lasso, Ridge, ElasticNet, RidgeCV\n",
    "from sklearn.svm import SVR, LinearSVR, NuSVR\n",
    "from sklearn.tree import DecisionTreeRegressor\n",
    "from sklearn.ensemble import ExtraTreesRegressor\n",
    "from sklearn.neighbors import KNeighborsRegressor\n",
    "from sklearn.pipeline import make_pipeline\n",
    "from sklearn.model_selection import cross_val_score\n",
    "from sklearn.feature_selection import SelectKBest, f_regression\n",
    "from sklearn.feature_selection import RFE\n",
    "from sklearn.metrics import mean_squared_error, r2_score\n",
    "from sklearn.preprocessing import MinMaxScaler, PolynomialFeatures, RobustScaler, QuantileTransformer\n",
    "from sklearn.discriminant_analysis import LinearDiscriminantAnalysis\n",
    "from sklearn.model_selection import KFold\n",
    "from sklearn.metrics import f1_score, make_scorer\n",
    "from sklearn.pipeline import Pipeline, make_pipeline\n",
    "from sklearn.neural_network import MLPRegressor\n",
    "import math\n",
    "\n",
    "\n",
    "sns.set()"
   ]
  },
  {
   "cell_type": "markdown",
   "metadata": {},
   "source": [
    "    Filter out data using SQL propertylandusetypeid = 261 and transactiondate 2017"
   ]
  },
  {
   "cell_type": "code",
   "execution_count": 2,
   "metadata": {},
   "outputs": [
    {
     "name": "stdout",
     "output_type": "stream",
     "text": [
      "Reading from csv file...\n"
     ]
    }
   ],
   "source": [
    "df = acquire.get_zillow_data()"
   ]
  },
  {
   "cell_type": "code",
   "execution_count": 3,
   "metadata": {},
   "outputs": [
    {
     "name": "stdout",
     "output_type": "stream",
     "text": [
      "<class 'pandas.core.frame.DataFrame'>\n",
      "RangeIndex: 52441 entries, 0 to 52440\n",
      "Data columns (total 22 columns):\n",
      " #   Column                        Non-Null Count  Dtype  \n",
      "---  ------                        --------------  -----  \n",
      " 0   parcelid                      52441 non-null  int64  \n",
      " 1   bedroomcnt                    52441 non-null  float64\n",
      " 2   bathroomcnt                   52441 non-null  float64\n",
      " 3   calculatedfinishedsquarefeet  52359 non-null  float64\n",
      " 4   poolcnt                       11096 non-null  float64\n",
      " 5   pooltypeid2                   1071 non-null   float64\n",
      " 6   hashottuborspa                1515 non-null   float64\n",
      " 7   fireplacecnt                  7243 non-null   float64\n",
      " 8   garagecarcnt                  18015 non-null  float64\n",
      " 9   numberofstories               14561 non-null  float64\n",
      " 10  airconditioningtypeid         13638 non-null  float64\n",
      " 11  heatingorsystemtypeid         33935 non-null  float64\n",
      " 12  yearbuilt                     52325 non-null  float64\n",
      " 13  lotsizesquarefeet             52072 non-null  float64\n",
      " 14  latitude                      52441 non-null  float64\n",
      " 15  longitude                     52441 non-null  float64\n",
      " 16  regionidcounty                52441 non-null  float64\n",
      " 17  regionidzip                   52415 non-null  float64\n",
      " 18  fips                          52441 non-null  float64\n",
      " 19  taxvaluedollarcnt             52440 non-null  float64\n",
      " 20  transactiondate               52441 non-null  object \n",
      " 21  propertylandusetypeid         52441 non-null  float64\n",
      "dtypes: float64(20), int64(1), object(1)\n",
      "memory usage: 8.8+ MB\n"
     ]
    }
   ],
   "source": [
    "df.info()"
   ]
  },
  {
   "cell_type": "markdown",
   "metadata": {},
   "source": [
    "    Verify there are no duplicates in df. Yay no duplicates"
   ]
  },
  {
   "cell_type": "code",
   "execution_count": 4,
   "metadata": {},
   "outputs": [
    {
     "data": {
      "text/plain": [
       "0"
      ]
     },
     "execution_count": 4,
     "metadata": {},
     "output_type": "execute_result"
    }
   ],
   "source": [
    "df.duplicated().sum()"
   ]
  },
  {
   "cell_type": "code",
   "execution_count": 5,
   "metadata": {},
   "outputs": [
    {
     "data": {
      "text/plain": [
       "(52441, 22)"
      ]
     },
     "execution_count": 5,
     "metadata": {},
     "output_type": "execute_result"
    }
   ],
   "source": [
    "df.shape"
   ]
  },
  {
   "cell_type": "markdown",
   "metadata": {},
   "source": [
    "    How many NaN values in df"
   ]
  },
  {
   "cell_type": "code",
   "execution_count": 6,
   "metadata": {},
   "outputs": [
    {
     "data": {
      "text/plain": [
       "parcelid                            0\n",
       "bedroomcnt                          0\n",
       "bathroomcnt                         0\n",
       "calculatedfinishedsquarefeet       82\n",
       "poolcnt                         41345\n",
       "pooltypeid2                     51370\n",
       "hashottuborspa                  50926\n",
       "fireplacecnt                    45198\n",
       "garagecarcnt                    34426\n",
       "numberofstories                 37880\n",
       "airconditioningtypeid           38803\n",
       "heatingorsystemtypeid           18506\n",
       "yearbuilt                         116\n",
       "lotsizesquarefeet                 369\n",
       "latitude                            0\n",
       "longitude                           0\n",
       "regionidcounty                      0\n",
       "regionidzip                        26\n",
       "fips                                0\n",
       "taxvaluedollarcnt                   1\n",
       "transactiondate                     0\n",
       "propertylandusetypeid               0\n",
       "dtype: int64"
      ]
     },
     "execution_count": 6,
     "metadata": {},
     "output_type": "execute_result"
    }
   ],
   "source": [
    "df_prep = df.copy(deep=True)\n",
    "df_prep.isnull().sum()"
   ]
  },
  {
   "cell_type": "markdown",
   "metadata": {},
   "source": [
    "    Determine the number of unique values in each column"
   ]
  },
  {
   "cell_type": "code",
   "execution_count": 7,
   "metadata": {},
   "outputs": [
    {
     "data": {
      "text/plain": [
       "2.0     14802\n",
       "1.0      2202\n",
       "3.0       621\n",
       "4.0       254\n",
       "0.0        65\n",
       "5.0        45\n",
       "6.0        13\n",
       "7.0         3\n",
       "10.0        3\n",
       "8.0         2\n",
       "9.0         2\n",
       "11.0        1\n",
       "13.0        1\n",
       "14.0        1\n",
       "Name: garagecarcnt, dtype: int64"
      ]
     },
     "execution_count": 7,
     "metadata": {},
     "output_type": "execute_result"
    }
   ],
   "source": [
    "df_prep.garagecarcnt.value_counts()"
   ]
  },
  {
   "cell_type": "code",
   "execution_count": 8,
   "metadata": {},
   "outputs": [
    {
     "data": {
      "text/plain": [
       "2.0     21893\n",
       "3.0     10673\n",
       "1.0      9568\n",
       "2.5      3934\n",
       "4.0      2227\n",
       "3.5       918\n",
       "1.5       841\n",
       "5.0       803\n",
       "4.5       687\n",
       "6.0       322\n",
       "5.5       224\n",
       "0.0       121\n",
       "7.0        88\n",
       "8.0        53\n",
       "6.5        47\n",
       "7.5        16\n",
       "9.0        13\n",
       "10.0        5\n",
       "11.0        3\n",
       "8.5         3\n",
       "18.0        1\n",
       "13.0        1\n",
       "Name: bathroomcnt, dtype: int64"
      ]
     },
     "execution_count": 8,
     "metadata": {},
     "output_type": "execute_result"
    }
   ],
   "source": [
    "df_prep.bathroomcnt.value_counts()"
   ]
  },
  {
   "cell_type": "code",
   "execution_count": 9,
   "metadata": {},
   "outputs": [
    {
     "data": {
      "text/plain": [
       "3.0     23359\n",
       "4.0     15240\n",
       "2.0      8340\n",
       "5.0      3973\n",
       "6.0       635\n",
       "1.0       612\n",
       "0.0       137\n",
       "7.0       106\n",
       "8.0        24\n",
       "9.0         8\n",
       "12.0        3\n",
       "10.0        2\n",
       "14.0        1\n",
       "11.0        1\n",
       "Name: bedroomcnt, dtype: int64"
      ]
     },
     "execution_count": 9,
     "metadata": {},
     "output_type": "execute_result"
    }
   ],
   "source": [
    "df_prep.bedroomcnt.value_counts()"
   ]
  },
  {
   "cell_type": "code",
   "execution_count": 10,
   "metadata": {},
   "outputs": [
    {
     "data": {
      "text/plain": [
       "1.0    11096\n",
       "Name: poolcnt, dtype: int64"
      ]
     },
     "execution_count": 10,
     "metadata": {},
     "output_type": "execute_result"
    }
   ],
   "source": [
    "df_prep.poolcnt.value_counts()"
   ]
  },
  {
   "cell_type": "code",
   "execution_count": 11,
   "metadata": {},
   "outputs": [
    {
     "data": {
      "text/plain": [
       "1.0    1071\n",
       "Name: pooltypeid2, dtype: int64"
      ]
     },
     "execution_count": 11,
     "metadata": {},
     "output_type": "execute_result"
    }
   ],
   "source": [
    "df_prep.pooltypeid2.value_counts()"
   ]
  },
  {
   "cell_type": "code",
   "execution_count": 12,
   "metadata": {},
   "outputs": [
    {
     "data": {
      "text/plain": [
       "1.0    1515\n",
       "Name: hashottuborspa, dtype: int64"
      ]
     },
     "execution_count": 12,
     "metadata": {},
     "output_type": "execute_result"
    }
   ],
   "source": [
    "df_prep.hashottuborspa.value_counts()"
   ]
  },
  {
   "cell_type": "markdown",
   "metadata": {},
   "source": [
    "    Since there is not a reasonable way of determining the unique number of rooms and bathroom I will replace zero values in bath & bed with NaN."
   ]
  },
  {
   "cell_type": "code",
   "execution_count": 13,
   "metadata": {},
   "outputs": [],
   "source": [
    "bed_bath_0_columns = ['bedroomcnt', 'bathroomcnt']\n",
    "df_prep[bed_bath_0_columns] = df_prep[bed_bath_0_columns].replace(0, np.NaN)\n",
    "df_prep = df_prep.reset_index(drop=True)"
   ]
  },
  {
   "cell_type": "code",
   "execution_count": 14,
   "metadata": {},
   "outputs": [
    {
     "data": {
      "text/plain": [
       "parcelid                            0\n",
       "bedroomcnt                        137\n",
       "bathroomcnt                       121\n",
       "calculatedfinishedsquarefeet       82\n",
       "poolcnt                         41345\n",
       "pooltypeid2                     51370\n",
       "hashottuborspa                  50926\n",
       "fireplacecnt                    45198\n",
       "garagecarcnt                    34426\n",
       "numberofstories                 37880\n",
       "airconditioningtypeid           38803\n",
       "heatingorsystemtypeid           18506\n",
       "yearbuilt                         116\n",
       "lotsizesquarefeet                 369\n",
       "latitude                            0\n",
       "longitude                           0\n",
       "regionidcounty                      0\n",
       "regionidzip                        26\n",
       "fips                                0\n",
       "taxvaluedollarcnt                   1\n",
       "transactiondate                     0\n",
       "propertylandusetypeid               0\n",
       "dtype: int64"
      ]
     },
     "execution_count": 14,
     "metadata": {},
     "output_type": "execute_result"
    }
   ],
   "source": [
    "df_prep.isnull().sum()"
   ]
  },
  {
   "cell_type": "markdown",
   "metadata": {},
   "source": [
    "    Since all fire/pool/gareage that NaN are 0 we will replace NaN values with 0 for pool, fire, and garage"
   ]
  },
  {
   "cell_type": "code",
   "execution_count": 15,
   "metadata": {},
   "outputs": [],
   "source": [
    "fire_garge_pool_0_columns = ['poolcnt','pooltypeid2','hashottuborspa', 'fireplacecnt','garagecarcnt']\n",
    "df_prep[fire_garge_pool_0_columns] = df_prep[fire_garge_pool_0_columns].replace(np.NaN, 0)\n",
    "df_prep = df_prep.reset_index(drop=True)\n"
   ]
  },
  {
   "cell_type": "code",
   "execution_count": 16,
   "metadata": {},
   "outputs": [
    {
     "data": {
      "text/plain": [
       "parcelid                            0\n",
       "bedroomcnt                        137\n",
       "bathroomcnt                       121\n",
       "calculatedfinishedsquarefeet       82\n",
       "poolcnt                             0\n",
       "pooltypeid2                         0\n",
       "hashottuborspa                      0\n",
       "fireplacecnt                        0\n",
       "garagecarcnt                        0\n",
       "numberofstories                 37880\n",
       "airconditioningtypeid           38803\n",
       "heatingorsystemtypeid           18506\n",
       "yearbuilt                         116\n",
       "lotsizesquarefeet                 369\n",
       "latitude                            0\n",
       "longitude                           0\n",
       "regionidcounty                      0\n",
       "regionidzip                        26\n",
       "fips                                0\n",
       "taxvaluedollarcnt                   1\n",
       "transactiondate                     0\n",
       "propertylandusetypeid               0\n",
       "dtype: int64"
      ]
     },
     "execution_count": 16,
     "metadata": {},
     "output_type": "execute_result"
    }
   ],
   "source": [
    "df_prep.isnull().sum()"
   ]
  },
  {
   "cell_type": "markdown",
   "metadata": {},
   "source": [
    "    Replace airconditioningtypeid value 5 to 0 and value 13 to 1 "
   ]
  },
  {
   "cell_type": "code",
   "execution_count": 17,
   "metadata": {},
   "outputs": [],
   "source": [
    "df_prep.airconditioningtypeid.replace(5, 0, inplace=True) # No AC   \n",
    "df_prep.airconditioningtypeid.replace(13, 1, inplace=True) # Central AC"
   ]
  },
  {
   "cell_type": "code",
   "execution_count": 18,
   "metadata": {},
   "outputs": [
    {
     "data": {
      "text/plain": [
       "1.0     13463\n",
       "0.0       159\n",
       "11.0       16\n",
       "Name: airconditioningtypeid, dtype: int64"
      ]
     },
     "execution_count": 18,
     "metadata": {},
     "output_type": "execute_result"
    }
   ],
   "source": [
    "df_prep.airconditioningtypeid.value_counts()"
   ]
  },
  {
   "cell_type": "code",
   "execution_count": 19,
   "metadata": {},
   "outputs": [
    {
     "data": {
      "text/plain": [
       "2.0     20736\n",
       "7.0     12565\n",
       "6.0       517\n",
       "20.0       85\n",
       "13.0       16\n",
       "1.0         7\n",
       "18.0        6\n",
       "10.0        2\n",
       "24.0        1\n",
       "Name: heatingorsystemtypeid, dtype: int64"
      ]
     },
     "execution_count": 19,
     "metadata": {},
     "output_type": "execute_result"
    }
   ],
   "source": [
    "df_prep.heatingorsystemtypeid.value_counts()"
   ]
  },
  {
   "cell_type": "markdown",
   "metadata": {},
   "source": [
    "    replace heatingorsystemtypeid value 13 = no heating with 0 and replace NaN with most frequent value"
   ]
  },
  {
   "cell_type": "code",
   "execution_count": 20,
   "metadata": {},
   "outputs": [],
   "source": [
    "df_prep.heatingorsystemtypeid.replace(13, 0, inplace=True) # no heat\n",
    "df_prep.heatingorsystemtypeid.replace(np.NaN, 2, inplace=True) # replace nan with 2 most frequent value "
   ]
  },
  {
   "cell_type": "markdown",
   "metadata": {},
   "source": [
    "    Replace NaN values in airconditioningtypeid with most frequent value of 2"
   ]
  },
  {
   "cell_type": "code",
   "execution_count": 21,
   "metadata": {},
   "outputs": [],
   "source": [
    "df_prep.airconditioningtypeid.replace(np.NaN, 2, inplace=True) # Central AC"
   ]
  },
  {
   "cell_type": "code",
   "execution_count": 22,
   "metadata": {},
   "outputs": [
    {
     "data": {
      "text/plain": [
       "parcelid                            0\n",
       "bedroomcnt                        137\n",
       "bathroomcnt                       121\n",
       "calculatedfinishedsquarefeet       82\n",
       "poolcnt                             0\n",
       "pooltypeid2                         0\n",
       "hashottuborspa                      0\n",
       "fireplacecnt                        0\n",
       "garagecarcnt                        0\n",
       "numberofstories                 37880\n",
       "airconditioningtypeid               0\n",
       "heatingorsystemtypeid               0\n",
       "yearbuilt                         116\n",
       "lotsizesquarefeet                 369\n",
       "latitude                            0\n",
       "longitude                           0\n",
       "regionidcounty                      0\n",
       "regionidzip                        26\n",
       "fips                                0\n",
       "taxvaluedollarcnt                   1\n",
       "transactiondate                     0\n",
       "propertylandusetypeid               0\n",
       "dtype: int64"
      ]
     },
     "execution_count": 22,
     "metadata": {},
     "output_type": "execute_result"
    }
   ],
   "source": [
    "df_prep.isnull().sum()"
   ]
  },
  {
   "cell_type": "markdown",
   "metadata": {},
   "source": [
    "    There is 37880 NaN values in column numberofstories which is 72% of the dataset. I will be dropping this column for the sake of time and inputing them most likely will negatively effect the model."
   ]
  },
  {
   "cell_type": "code",
   "execution_count": 23,
   "metadata": {},
   "outputs": [],
   "source": [
    "# df_prep = df_prep.drop(columns='numberofstories', axis=1)"
   ]
  },
  {
   "cell_type": "code",
   "execution_count": 24,
   "metadata": {},
   "outputs": [
    {
     "data": {
      "text/plain": [
       "(52441, 22)"
      ]
     },
     "execution_count": 24,
     "metadata": {},
     "output_type": "execute_result"
    }
   ],
   "source": [
    "df_prep.shape"
   ]
  },
  {
   "cell_type": "code",
   "execution_count": 25,
   "metadata": {},
   "outputs": [
    {
     "data": {
      "text/plain": [
       "parcelid                            0\n",
       "bedroomcnt                        137\n",
       "bathroomcnt                       121\n",
       "calculatedfinishedsquarefeet       82\n",
       "poolcnt                             0\n",
       "pooltypeid2                         0\n",
       "hashottuborspa                      0\n",
       "fireplacecnt                        0\n",
       "garagecarcnt                        0\n",
       "numberofstories                 37880\n",
       "airconditioningtypeid               0\n",
       "heatingorsystemtypeid               0\n",
       "yearbuilt                         116\n",
       "lotsizesquarefeet                 369\n",
       "latitude                            0\n",
       "longitude                           0\n",
       "regionidcounty                      0\n",
       "regionidzip                        26\n",
       "fips                                0\n",
       "taxvaluedollarcnt                   1\n",
       "transactiondate                     0\n",
       "propertylandusetypeid               0\n",
       "dtype: int64"
      ]
     },
     "execution_count": 25,
     "metadata": {},
     "output_type": "execute_result"
    }
   ],
   "source": [
    "df_prep.isnull().sum()"
   ]
  },
  {
   "cell_type": "code",
   "execution_count": 26,
   "metadata": {},
   "outputs": [
    {
     "data": {
      "text/plain": [
       "Index(['parcelid', 'bedroomcnt', 'bathroomcnt', 'calculatedfinishedsquarefeet',\n",
       "       'poolcnt', 'pooltypeid2', 'hashottuborspa', 'fireplacecnt',\n",
       "       'garagecarcnt', 'numberofstories', 'airconditioningtypeid',\n",
       "       'heatingorsystemtypeid', 'yearbuilt', 'lotsizesquarefeet', 'latitude',\n",
       "       'longitude', 'regionidcounty', 'regionidzip', 'fips',\n",
       "       'taxvaluedollarcnt', 'transactiondate', 'propertylandusetypeid'],\n",
       "      dtype='object')"
      ]
     },
     "execution_count": 26,
     "metadata": {},
     "output_type": "execute_result"
    }
   ],
   "source": [
    "df_prep.columns"
   ]
  },
  {
   "cell_type": "markdown",
   "metadata": {},
   "source": [
    "    I am going to drop the following columns: parcelid, propertylandusetypeid, and transactiondate since they are not needed for the model and was used only to verify there are no duplicates and correct data."
   ]
  },
  {
   "cell_type": "code",
   "execution_count": 27,
   "metadata": {},
   "outputs": [],
   "source": [
    "df_prep = df_prep.drop(columns=['parcelid', 'propertylandusetypeid', 'transactiondate'])"
   ]
  },
  {
   "cell_type": "code",
   "execution_count": 28,
   "metadata": {},
   "outputs": [
    {
     "data": {
      "text/plain": [
       "Index(['bedroomcnt', 'bathroomcnt', 'calculatedfinishedsquarefeet', 'poolcnt',\n",
       "       'pooltypeid2', 'hashottuborspa', 'fireplacecnt', 'garagecarcnt',\n",
       "       'numberofstories', 'airconditioningtypeid', 'heatingorsystemtypeid',\n",
       "       'yearbuilt', 'lotsizesquarefeet', 'latitude', 'longitude',\n",
       "       'regionidcounty', 'regionidzip', 'fips', 'taxvaluedollarcnt'],\n",
       "      dtype='object')"
      ]
     },
     "execution_count": 28,
     "metadata": {},
     "output_type": "execute_result"
    }
   ],
   "source": [
    "df_prep.columns"
   ]
  },
  {
   "cell_type": "markdown",
   "metadata": {},
   "source": [
    "    Rename columns for better visualization and eda"
   ]
  },
  {
   "cell_type": "code",
   "execution_count": 29,
   "metadata": {},
   "outputs": [],
   "source": [
    "df_prep = df_prep.rename(columns={'bedroomcnt':'bedrooms', 'bathroomcnt':'bathrooms', 'calculatedfinishedsquarefeet':'sqft_living', 'poolcnt':'num_pools', 'pooltypeid2':'pool_w_spa_or_hottub','hashottuborspa':'has_hottub_or_spa' ,'fireplacecnt':'fireplaces', 'garagecarcnt':'garage_cars', 'airconditioningtypeid':'ac_type','heatingorsystemtypeid':'heating_type' ,'yearbuilt':'year_built', 'lotsizesquarefeet':'sqft_lot', 'latitude':'lat', 'longitude':'long', 'regionidcounty':'countyid', 'regionidzip':'zip', 'fips':'fips','taxvaluedollarcnt': 'taxvalue'})"
   ]
  },
  {
   "cell_type": "code",
   "execution_count": 30,
   "metadata": {},
   "outputs": [
    {
     "data": {
      "text/plain": [
       "Index(['bedrooms', 'bathrooms', 'sqft_living', 'num_pools',\n",
       "       'pool_w_spa_or_hottub', 'has_hottub_or_spa', 'fireplaces',\n",
       "       'garage_cars', 'numberofstories', 'ac_type', 'heating_type',\n",
       "       'year_built', 'sqft_lot', 'lat', 'long', 'countyid', 'zip', 'fips',\n",
       "       'taxvalue'],\n",
       "      dtype='object')"
      ]
     },
     "execution_count": 30,
     "metadata": {},
     "output_type": "execute_result"
    }
   ],
   "source": [
    "df_prep.columns"
   ]
  },
  {
   "cell_type": "code",
   "execution_count": 31,
   "metadata": {},
   "outputs": [
    {
     "data": {
      "text/plain": [
       "3101.0    33910\n",
       "1286.0    14136\n",
       "2061.0     4395\n",
       "Name: countyid, dtype: int64"
      ]
     },
     "execution_count": 31,
     "metadata": {},
     "output_type": "execute_result"
    }
   ],
   "source": [
    "df_prep.countyid.value_counts()"
   ]
  },
  {
   "cell_type": "code",
   "execution_count": 32,
   "metadata": {},
   "outputs": [
    {
     "name": "stdout",
     "output_type": "stream",
     "text": [
      "97319.0    776\n",
      "97318.0    674\n",
      "97329.0    564\n",
      "97328.0    519\n",
      "97118.0    498\n",
      "          ... \n",
      "96467.0      1\n",
      "97092.0      1\n",
      "96148.0      1\n",
      "96038.0      1\n",
      "97088.0      1\n",
      "Name: zip, Length: 381, dtype: int64\n"
     ]
    }
   ],
   "source": [
    "print(df_prep.zip.value_counts())"
   ]
  },
  {
   "cell_type": "markdown",
   "metadata": {},
   "source": [
    "    Since there are only 37880 unique homes that contain NaN values we are going to drop all for the sake of time."
   ]
  },
  {
   "cell_type": "code",
   "execution_count": 33,
   "metadata": {},
   "outputs": [],
   "source": [
    "df_prep = df_prep.dropna(axis=0)\n",
    "df_prep = df_prep.reset_index(drop=True)"
   ]
  },
  {
   "cell_type": "markdown",
   "metadata": {},
   "source": [
    "    Remove outliers"
   ]
  },
  {
   "cell_type": "code",
   "execution_count": 34,
   "metadata": {},
   "outputs": [
    {
     "data": {
      "text/plain": [
       "Index(['bedrooms', 'bathrooms', 'sqft_living', 'num_pools',\n",
       "       'pool_w_spa_or_hottub', 'has_hottub_or_spa', 'fireplaces',\n",
       "       'garage_cars', 'numberofstories', 'ac_type', 'heating_type',\n",
       "       'year_built', 'sqft_lot', 'lat', 'long', 'countyid', 'zip', 'fips',\n",
       "       'taxvalue'],\n",
       "      dtype='object')"
      ]
     },
     "execution_count": 34,
     "metadata": {},
     "output_type": "execute_result"
    }
   ],
   "source": [
    "df_prep.columns\n"
   ]
  },
  {
   "cell_type": "code",
   "execution_count": 35,
   "metadata": {},
   "outputs": [
    {
     "data": {
      "text/plain": [
       "(14473, 19)"
      ]
     },
     "execution_count": 35,
     "metadata": {},
     "output_type": "execute_result"
    }
   ],
   "source": [
    "df_prep.shape"
   ]
  },
  {
   "cell_type": "code",
   "execution_count": 36,
   "metadata": {},
   "outputs": [],
   "source": [
    "def remove_outliers(df, k, col_list):\n",
    "    ''' \n",
    "    This function remove outliers from a list of columns in a dataframe \n",
    "    and returns that dataframe\n",
    "    '''\n",
    "    \n",
    "    # loop through each column\n",
    "    for col in col_list:\n",
    "        \n",
    "        # Get the quantiles\n",
    "        q1, q3 = df[col].quantile([.25, .75])\n",
    "        \n",
    "        # Get the quantile range\n",
    "        iqr = q3 - q1\n",
    "        \n",
    "        # Establish the upper and lower\n",
    "        upper_bound = q3 + k * iqr  \n",
    "        lower_bound = q1 - k * iqr   \n",
    "\n",
    "        # Redefine the DataFrame with removed outliers\n",
    "        df = df[(df[col] > lower_bound) & (df[col] < upper_bound)]\n",
    "        \n",
    "    return df"
   ]
  },
  {
   "cell_type": "markdown",
   "metadata": {},
   "source": [
    "# dont use IQR negative on Models"
   ]
  },
  {
   "cell_type": "code",
   "execution_count": 37,
   "metadata": {},
   "outputs": [],
   "source": [
    "# df_prep = remove_outliers(df_prep, 1.5, ['taxvalue'])"
   ]
  },
  {
   "cell_type": "code",
   "execution_count": 38,
   "metadata": {},
   "outputs": [
    {
     "data": {
      "text/plain": [
       "(14473, 19)"
      ]
     },
     "execution_count": 38,
     "metadata": {},
     "output_type": "execute_result"
    }
   ],
   "source": [
    "df_prep.shape"
   ]
  },
  {
   "cell_type": "code",
   "execution_count": 39,
   "metadata": {},
   "outputs": [
    {
     "name": "stdout",
     "output_type": "stream",
     "text": [
      "2874     13198250.0\n",
      "8881     11317682.0\n",
      "11695     9837578.0\n",
      "6787      9323011.0\n",
      "2073      7073588.0\n",
      "6029      6878585.0\n",
      "150       6689970.0\n",
      "4332      6091500.0\n",
      "12972     6000000.0\n",
      "2911      5990937.0\n",
      "11223     5873737.0\n",
      "6009      5805199.0\n",
      "10009     5729619.0\n",
      "13977     5722661.0\n",
      "5819      5422228.0\n",
      "253       5368861.0\n",
      "325       5361000.0\n",
      "7340      5197978.0\n",
      "1308      5173428.0\n",
      "3556      5156959.0\n",
      "Name: taxvalue, dtype: float64\n"
     ]
    }
   ],
   "source": [
    "print(df_prep.taxvalue.sort_values(ascending=False).head(20))"
   ]
  },
  {
   "cell_type": "markdown",
   "metadata": {},
   "source": [
    "    Drop outlier rows in column taxvalue above 707400 "
   ]
  },
  {
   "cell_type": "code",
   "execution_count": 40,
   "metadata": {},
   "outputs": [],
   "source": [
    "df_prep.drop([2874,8881,11695,6787], axis=0, inplace=True)"
   ]
  },
  {
   "cell_type": "code",
   "execution_count": 41,
   "metadata": {},
   "outputs": [
    {
     "data": {
      "text/plain": [
       "(14469, 19)"
      ]
     },
     "execution_count": 41,
     "metadata": {},
     "output_type": "execute_result"
    }
   ],
   "source": [
    "df_prep.shape"
   ]
  },
  {
   "cell_type": "markdown",
   "metadata": {},
   "source": [
    "# dont use IQR for outliers"
   ]
  },
  {
   "cell_type": "code",
   "execution_count": 42,
   "metadata": {},
   "outputs": [],
   "source": [
    "df_in=df_prep.copy()"
   ]
  },
  {
   "cell_type": "code",
   "execution_count": 43,
   "metadata": {},
   "outputs": [],
   "source": [
    "q1 = df_in['taxvalue'].quantile(0.25)\n",
    "q3 = df_in['taxvalue'].quantile(0.75)\n",
    "iqr = q3-q1 #Interquartile range\n",
    "fence_low  = q1-1.5*iqr\n",
    "fence_high = q3+1.5*iqr\n",
    "df_in['taxvalue'] = df_in['taxvalue'].apply(lambda x: np.where((x>fence_low) & (x<fence_high), x, np.NaN))\n",
    "df_out = df_in"
   ]
  },
  {
   "cell_type": "code",
   "execution_count": 44,
   "metadata": {},
   "outputs": [
    {
     "data": {
      "text/plain": [
       "bedrooms                  0\n",
       "bathrooms                 0\n",
       "sqft_living               0\n",
       "num_pools                 0\n",
       "pool_w_spa_or_hottub      0\n",
       "has_hottub_or_spa         0\n",
       "fireplaces                0\n",
       "garage_cars               0\n",
       "numberofstories           0\n",
       "ac_type                   0\n",
       "heating_type              0\n",
       "year_built                0\n",
       "sqft_lot                  0\n",
       "lat                       0\n",
       "long                      0\n",
       "countyid                  0\n",
       "zip                       0\n",
       "fips                      0\n",
       "taxvalue                734\n",
       "dtype: int64"
      ]
     },
     "execution_count": 44,
     "metadata": {},
     "output_type": "execute_result"
    }
   ],
   "source": [
    "df_out.isnull().sum()"
   ]
  },
  {
   "cell_type": "code",
   "execution_count": 45,
   "metadata": {},
   "outputs": [],
   "source": [
    "df_out.dropna(axis=0,inplace=True)"
   ]
  },
  {
   "cell_type": "code",
   "execution_count": 46,
   "metadata": {},
   "outputs": [
    {
     "data": {
      "text/plain": [
       "455000.0     15\n",
       "381640.0     13\n",
       "530000.0     12\n",
       "569544.0     11\n",
       "441633.0     10\n",
       "             ..\n",
       "197071.0      1\n",
       "1013168.0     1\n",
       "53157.0       1\n",
       "431060.0      1\n",
       "67205.0       1\n",
       "Name: taxvalue, Length: 11077, dtype: int64"
      ]
     },
     "execution_count": 46,
     "metadata": {},
     "output_type": "execute_result"
    }
   ],
   "source": [
    "df_out.taxvalue.value_counts()"
   ]
  },
  {
   "cell_type": "code",
   "execution_count": 47,
   "metadata": {},
   "outputs": [
    {
     "data": {
      "text/html": [
       "<div>\n",
       "<style scoped>\n",
       "    .dataframe tbody tr th:only-of-type {\n",
       "        vertical-align: middle;\n",
       "    }\n",
       "\n",
       "    .dataframe tbody tr th {\n",
       "        vertical-align: top;\n",
       "    }\n",
       "\n",
       "    .dataframe thead th {\n",
       "        text-align: right;\n",
       "    }\n",
       "</style>\n",
       "<table border=\"1\" class=\"dataframe\">\n",
       "  <thead>\n",
       "    <tr style=\"text-align: right;\">\n",
       "      <th></th>\n",
       "      <th>bedrooms</th>\n",
       "      <th>bathrooms</th>\n",
       "      <th>sqft_living</th>\n",
       "      <th>num_pools</th>\n",
       "      <th>pool_w_spa_or_hottub</th>\n",
       "      <th>has_hottub_or_spa</th>\n",
       "      <th>fireplaces</th>\n",
       "      <th>garage_cars</th>\n",
       "      <th>numberofstories</th>\n",
       "      <th>ac_type</th>\n",
       "      <th>heating_type</th>\n",
       "      <th>year_built</th>\n",
       "      <th>sqft_lot</th>\n",
       "      <th>lat</th>\n",
       "      <th>long</th>\n",
       "      <th>countyid</th>\n",
       "      <th>zip</th>\n",
       "      <th>fips</th>\n",
       "      <th>taxvalue</th>\n",
       "    </tr>\n",
       "  </thead>\n",
       "  <tbody>\n",
       "    <tr>\n",
       "      <th>0</th>\n",
       "      <td>2.0</td>\n",
       "      <td>1.0</td>\n",
       "      <td>1465.0</td>\n",
       "      <td>0.0</td>\n",
       "      <td>0.0</td>\n",
       "      <td>0.0</td>\n",
       "      <td>1.0</td>\n",
       "      <td>1.0</td>\n",
       "      <td>1.0</td>\n",
       "      <td>2.0</td>\n",
       "      <td>2.0</td>\n",
       "      <td>1967.0</td>\n",
       "      <td>12647.0</td>\n",
       "      <td>34449266.0</td>\n",
       "      <td>-119281531.0</td>\n",
       "      <td>2061.0</td>\n",
       "      <td>97099.0</td>\n",
       "      <td>6111.0</td>\n",
       "      <td>464000.0</td>\n",
       "    </tr>\n",
       "    <tr>\n",
       "      <th>1</th>\n",
       "      <td>3.0</td>\n",
       "      <td>2.0</td>\n",
       "      <td>1243.0</td>\n",
       "      <td>1.0</td>\n",
       "      <td>0.0</td>\n",
       "      <td>0.0</td>\n",
       "      <td>0.0</td>\n",
       "      <td>2.0</td>\n",
       "      <td>1.0</td>\n",
       "      <td>2.0</td>\n",
       "      <td>2.0</td>\n",
       "      <td>1962.0</td>\n",
       "      <td>8432.0</td>\n",
       "      <td>33886168.0</td>\n",
       "      <td>-117823170.0</td>\n",
       "      <td>1286.0</td>\n",
       "      <td>97078.0</td>\n",
       "      <td>6059.0</td>\n",
       "      <td>564778.0</td>\n",
       "    </tr>\n",
       "    <tr>\n",
       "      <th>2</th>\n",
       "      <td>3.0</td>\n",
       "      <td>2.5</td>\n",
       "      <td>1340.0</td>\n",
       "      <td>0.0</td>\n",
       "      <td>0.0</td>\n",
       "      <td>0.0</td>\n",
       "      <td>1.0</td>\n",
       "      <td>2.0</td>\n",
       "      <td>2.0</td>\n",
       "      <td>1.0</td>\n",
       "      <td>2.0</td>\n",
       "      <td>1980.0</td>\n",
       "      <td>1199.0</td>\n",
       "      <td>33771438.0</td>\n",
       "      <td>-117982834.0</td>\n",
       "      <td>1286.0</td>\n",
       "      <td>97051.0</td>\n",
       "      <td>6059.0</td>\n",
       "      <td>319668.0</td>\n",
       "    </tr>\n",
       "    <tr>\n",
       "      <th>3</th>\n",
       "      <td>3.0</td>\n",
       "      <td>2.5</td>\n",
       "      <td>1371.0</td>\n",
       "      <td>0.0</td>\n",
       "      <td>0.0</td>\n",
       "      <td>0.0</td>\n",
       "      <td>0.0</td>\n",
       "      <td>2.0</td>\n",
       "      <td>2.0</td>\n",
       "      <td>2.0</td>\n",
       "      <td>2.0</td>\n",
       "      <td>2004.0</td>\n",
       "      <td>3445.0</td>\n",
       "      <td>34238229.0</td>\n",
       "      <td>-119170633.0</td>\n",
       "      <td>2061.0</td>\n",
       "      <td>97107.0</td>\n",
       "      <td>6111.0</td>\n",
       "      <td>198054.0</td>\n",
       "    </tr>\n",
       "    <tr>\n",
       "      <th>4</th>\n",
       "      <td>4.0</td>\n",
       "      <td>2.0</td>\n",
       "      <td>1677.0</td>\n",
       "      <td>0.0</td>\n",
       "      <td>0.0</td>\n",
       "      <td>0.0</td>\n",
       "      <td>0.0</td>\n",
       "      <td>2.0</td>\n",
       "      <td>1.0</td>\n",
       "      <td>1.0</td>\n",
       "      <td>2.0</td>\n",
       "      <td>1981.0</td>\n",
       "      <td>5304.0</td>\n",
       "      <td>33642800.0</td>\n",
       "      <td>-117707211.0</td>\n",
       "      <td>1286.0</td>\n",
       "      <td>96962.0</td>\n",
       "      <td>6059.0</td>\n",
       "      <td>528847.0</td>\n",
       "    </tr>\n",
       "  </tbody>\n",
       "</table>\n",
       "</div>"
      ],
      "text/plain": [
       "   bedrooms  bathrooms  sqft_living  num_pools  pool_w_spa_or_hottub  \\\n",
       "0       2.0        1.0       1465.0        0.0                   0.0   \n",
       "1       3.0        2.0       1243.0        1.0                   0.0   \n",
       "2       3.0        2.5       1340.0        0.0                   0.0   \n",
       "3       3.0        2.5       1371.0        0.0                   0.0   \n",
       "4       4.0        2.0       1677.0        0.0                   0.0   \n",
       "\n",
       "   has_hottub_or_spa  fireplaces  garage_cars  numberofstories  ac_type  \\\n",
       "0                0.0         1.0          1.0              1.0      2.0   \n",
       "1                0.0         0.0          2.0              1.0      2.0   \n",
       "2                0.0         1.0          2.0              2.0      1.0   \n",
       "3                0.0         0.0          2.0              2.0      2.0   \n",
       "4                0.0         0.0          2.0              1.0      1.0   \n",
       "\n",
       "   heating_type  year_built  sqft_lot         lat         long  countyid  \\\n",
       "0           2.0      1967.0   12647.0  34449266.0 -119281531.0    2061.0   \n",
       "1           2.0      1962.0    8432.0  33886168.0 -117823170.0    1286.0   \n",
       "2           2.0      1980.0    1199.0  33771438.0 -117982834.0    1286.0   \n",
       "3           2.0      2004.0    3445.0  34238229.0 -119170633.0    2061.0   \n",
       "4           2.0      1981.0    5304.0  33642800.0 -117707211.0    1286.0   \n",
       "\n",
       "       zip    fips  taxvalue  \n",
       "0  97099.0  6111.0  464000.0  \n",
       "1  97078.0  6059.0  564778.0  \n",
       "2  97051.0  6059.0  319668.0  \n",
       "3  97107.0  6111.0  198054.0  \n",
       "4  96962.0  6059.0  528847.0  "
      ]
     },
     "execution_count": 47,
     "metadata": {},
     "output_type": "execute_result"
    }
   ],
   "source": [
    "df_out.head()"
   ]
  },
  {
   "cell_type": "code",
   "execution_count": 48,
   "metadata": {},
   "outputs": [
    {
     "data": {
      "text/plain": [
       "bedrooms                0\n",
       "bathrooms               0\n",
       "sqft_living             0\n",
       "num_pools               0\n",
       "pool_w_spa_or_hottub    0\n",
       "has_hottub_or_spa       0\n",
       "fireplaces              0\n",
       "garage_cars             0\n",
       "numberofstories         0\n",
       "ac_type                 0\n",
       "heating_type            0\n",
       "year_built              0\n",
       "sqft_lot                0\n",
       "lat                     0\n",
       "long                    0\n",
       "countyid                0\n",
       "zip                     0\n",
       "fips                    0\n",
       "taxvalue                0\n",
       "dtype: int64"
      ]
     },
     "execution_count": 48,
     "metadata": {},
     "output_type": "execute_result"
    }
   ],
   "source": [
    "df_prep.isnull().sum()"
   ]
  },
  {
   "cell_type": "code",
   "execution_count": 49,
   "metadata": {},
   "outputs": [],
   "source": [
    "eda = df_prep.copy(deep=True)"
   ]
  },
  {
   "cell_type": "code",
   "execution_count": 50,
   "metadata": {},
   "outputs": [],
   "source": [
    "eda_iqr = df_out.copy(deep=True)"
   ]
  },
  {
   "cell_type": "markdown",
   "metadata": {},
   "source": [
    "    EDA"
   ]
  },
  {
   "cell_type": "markdown",
   "metadata": {},
   "source": [
    "    split data"
   ]
  },
  {
   "cell_type": "code",
   "execution_count": 51,
   "metadata": {},
   "outputs": [],
   "source": [
    "train_and_validate, test_iqr = train_test_split(eda_iqr, random_state=123, test_size=.2)\n",
    "train_iqr, validate_iqr = train_test_split(train_and_validate, random_state=123, test_size=.3)"
   ]
  },
  {
   "cell_type": "code",
   "execution_count": 52,
   "metadata": {},
   "outputs": [
    {
     "data": {
      "text/plain": [
       "Text(25, 120, 'r = 0.4857, p = 0.0000')"
      ]
     },
     "execution_count": 52,
     "metadata": {},
     "output_type": "execute_result"
    },
    {
     "data": {
      "image/png": "[encoded data removed]",
      "text/plain": [
       "<Figure size 936x504 with 1 Axes>"
      ]
     },
     "metadata": {},
     "output_type": "display_data"
    }
   ],
   "source": [
    "fig, axes = plt.subplots(figsize=(13, 7))\n",
    "\n",
    "r, p = stats.pearsonr(test_iqr.sqft_living, test_iqr.taxvalue)\n",
    "\n",
    "sns.scatterplot(data=test_iqr, x=test_iqr.sqft_living, y=test_iqr.taxvalue)\n",
    "axes.set(\n",
    "    xlabel='Sqft Living',\n",
    "    ylabel='tax value',\n",
    "    title='Sqft Living vs. tax value',\n",
    ")\n",
    "text = f'r = {r:.4f}, p = {p:.4f}'\n",
    "axes.text(25, 120, text, va='top', ha='right')"
   ]
  },
  {
   "cell_type": "code",
   "execution_count": 53,
   "metadata": {},
   "outputs": [],
   "source": [
    "train_and_validate, test = train_test_split(eda, random_state=123, test_size=.2)\n",
    "train, validate = train_test_split(train_and_validate, random_state=123, test_size=.3)"
   ]
  },
  {
   "cell_type": "code",
   "execution_count": 54,
   "metadata": {},
   "outputs": [],
   "source": [
    "def corrstatsgraphs3(df):\n",
    "    \"\"\"\n",
    "    Description\n",
    "    ----\n",
    "    Outputs the general statistical description of the dataframe,\n",
    "    outputs the correlation heatmap with target label, and outputs a distribution plot.\n",
    "    \n",
    "    Parameters\n",
    "    ----\n",
    "    df(DataFrame):\n",
    "        The dataframe for which information will be displayed.\n",
    "        \n",
    "    Returns\n",
    "    ----\n",
    "    useful stats, correlation, and subplots\n",
    "    \n",
    "    \"\"\"\n",
    "       \n",
    "    # Heatmap with min -1 to max 1 to all variables\n",
    "    # https://pandas.pydata.org/docs/reference/api/pandas.DataFrame.corr.html\n",
    "    corr = df.corr()\n",
    "    plt.subplots(figsize=(22, 17))\n",
    "    plt.title(\"Heatmap\", fontsize = 'x-large')\n",
    "    mask = np.triu(np.ones_like(corr, dtype=bool))\n",
    "    cmap = sns.diverging_palette(230, 21, as_cmap=True)\n",
    "    sns.heatmap(corr, annot=True, mask = mask, cmap=cmap, vmin=-1, vmax=1\n",
    "    )\n",
    "    # Correlation Heatmap with min -1 to max 1 in conjuction with pd.corr \n",
    "    plt.figure(figsize=(10, 8)) \n",
    "    plt.title(\"Heatmap\", fontsize = 'x-large')\n",
    "    sns.heatmap(df.corr()[['taxvalue']].sort_values(by='taxvalue', \n",
    "    ascending=False), vmin=-1, vmax=1, annot=True, cmap='BrBG'\n",
    "    )\n",
    "    sns.pairplot(df[['bedrooms', 'bathrooms', 'sqft_living', 'num_pools',\n",
    "       'pool_w_spa_or_hottub', 'has_hottub_or_spa', 'fireplaces',\n",
    "       'garage_cars', 'ac_type', 'heating_type', 'year_built', 'sqft_lot',\n",
    "       'lat', 'long', 'countyid', 'zip', 'fips', 'taxvalue']], corner=True, kind='reg', plot_kws={'line_kws':{'color':'red'}}\n",
    "    )\n",
    "    # Correlation Heatmap with min -1 to max 1 in conjuction with pd.corr\n",
    "    plt.figure(figsize=(16,10))\n",
    "    df.corr()['taxvalue'].sort_values(ascending=False).plot(kind='bar', figsize=(20,5), cmap='BrBG'\n",
    "    )\n",
    "    sns.jointplot(x=\"bedrooms\", y=\"taxvalue\", data=df,  kind='reg', height=5, line_kws={'color': 'red'}\n",
    "    )\n",
    "    sns.jointplot(x=\"bedrooms\", y=\"taxvalue\", data=df,  kind='kde', line_kws={'color': 'red'}\n",
    "    )\n",
    "      \n",
    "    sns.jointplot(x=\"bathrooms\", y=\"taxvalue\", data=df, ratio=5, kind='reg', height=5, line_kws={'color': 'red'}\n",
    "    )\n",
    "    sns.jointplot(x=\"bathrooms\", y=\"taxvalue\", data=df,  kind='kde', line_kws={'color': 'red'})"
   ]
  },
  {
   "cell_type": "code",
   "execution_count": 55,
   "metadata": {},
   "outputs": [],
   "source": [
    "#corrstatsgraphs3(train)"
   ]
  },
  {
   "cell_type": "code",
   "execution_count": 56,
   "metadata": {},
   "outputs": [
    {
     "data": {
      "text/html": [
       "<div>\n",
       "<style scoped>\n",
       "    .dataframe tbody tr th:only-of-type {\n",
       "        vertical-align: middle;\n",
       "    }\n",
       "\n",
       "    .dataframe tbody tr th {\n",
       "        vertical-align: top;\n",
       "    }\n",
       "\n",
       "    .dataframe thead th {\n",
       "        text-align: right;\n",
       "    }\n",
       "</style>\n",
       "<table border=\"1\" class=\"dataframe\">\n",
       "  <thead>\n",
       "    <tr style=\"text-align: right;\">\n",
       "      <th></th>\n",
       "      <th>bedrooms</th>\n",
       "      <th>bathrooms</th>\n",
       "      <th>sqft_living</th>\n",
       "      <th>num_pools</th>\n",
       "      <th>pool_w_spa_or_hottub</th>\n",
       "      <th>has_hottub_or_spa</th>\n",
       "      <th>fireplaces</th>\n",
       "      <th>garage_cars</th>\n",
       "      <th>numberofstories</th>\n",
       "      <th>ac_type</th>\n",
       "      <th>heating_type</th>\n",
       "      <th>year_built</th>\n",
       "      <th>sqft_lot</th>\n",
       "      <th>lat</th>\n",
       "      <th>long</th>\n",
       "      <th>countyid</th>\n",
       "      <th>zip</th>\n",
       "      <th>fips</th>\n",
       "      <th>taxvalue</th>\n",
       "    </tr>\n",
       "  </thead>\n",
       "  <tbody>\n",
       "    <tr>\n",
       "      <th>1081</th>\n",
       "      <td>3.0</td>\n",
       "      <td>1.5</td>\n",
       "      <td>1289.0</td>\n",
       "      <td>0.0</td>\n",
       "      <td>0.0</td>\n",
       "      <td>0.0</td>\n",
       "      <td>0.0</td>\n",
       "      <td>2.0</td>\n",
       "      <td>1.0</td>\n",
       "      <td>2.0</td>\n",
       "      <td>2.0</td>\n",
       "      <td>1962.0</td>\n",
       "      <td>6000.0</td>\n",
       "      <td>33811957.0</td>\n",
       "      <td>-118032469.0</td>\n",
       "      <td>1286.0</td>\n",
       "      <td>96185.0</td>\n",
       "      <td>6059.0</td>\n",
       "      <td>141623.0</td>\n",
       "    </tr>\n",
       "    <tr>\n",
       "      <th>610</th>\n",
       "      <td>3.0</td>\n",
       "      <td>2.0</td>\n",
       "      <td>1823.0</td>\n",
       "      <td>0.0</td>\n",
       "      <td>0.0</td>\n",
       "      <td>0.0</td>\n",
       "      <td>0.0</td>\n",
       "      <td>1.0</td>\n",
       "      <td>1.0</td>\n",
       "      <td>2.0</td>\n",
       "      <td>2.0</td>\n",
       "      <td>1955.0</td>\n",
       "      <td>6600.0</td>\n",
       "      <td>33862309.0</td>\n",
       "      <td>-117948648.0</td>\n",
       "      <td>1286.0</td>\n",
       "      <td>97041.0</td>\n",
       "      <td>6059.0</td>\n",
       "      <td>432903.0</td>\n",
       "    </tr>\n",
       "    <tr>\n",
       "      <th>2069</th>\n",
       "      <td>3.0</td>\n",
       "      <td>2.0</td>\n",
       "      <td>1041.0</td>\n",
       "      <td>0.0</td>\n",
       "      <td>0.0</td>\n",
       "      <td>0.0</td>\n",
       "      <td>0.0</td>\n",
       "      <td>1.0</td>\n",
       "      <td>1.0</td>\n",
       "      <td>2.0</td>\n",
       "      <td>2.0</td>\n",
       "      <td>1957.0</td>\n",
       "      <td>5860.0</td>\n",
       "      <td>33935264.0</td>\n",
       "      <td>-117924937.0</td>\n",
       "      <td>1286.0</td>\n",
       "      <td>96186.0</td>\n",
       "      <td>6059.0</td>\n",
       "      <td>371706.0</td>\n",
       "    </tr>\n",
       "    <tr>\n",
       "      <th>7016</th>\n",
       "      <td>3.0</td>\n",
       "      <td>3.5</td>\n",
       "      <td>3113.0</td>\n",
       "      <td>1.0</td>\n",
       "      <td>0.0</td>\n",
       "      <td>0.0</td>\n",
       "      <td>2.0</td>\n",
       "      <td>2.0</td>\n",
       "      <td>2.0</td>\n",
       "      <td>0.0</td>\n",
       "      <td>6.0</td>\n",
       "      <td>1976.0</td>\n",
       "      <td>15180.0</td>\n",
       "      <td>33769498.0</td>\n",
       "      <td>-117776822.0</td>\n",
       "      <td>1286.0</td>\n",
       "      <td>97005.0</td>\n",
       "      <td>6059.0</td>\n",
       "      <td>870258.0</td>\n",
       "    </tr>\n",
       "    <tr>\n",
       "      <th>4871</th>\n",
       "      <td>2.0</td>\n",
       "      <td>1.0</td>\n",
       "      <td>899.0</td>\n",
       "      <td>0.0</td>\n",
       "      <td>0.0</td>\n",
       "      <td>0.0</td>\n",
       "      <td>1.0</td>\n",
       "      <td>1.0</td>\n",
       "      <td>1.0</td>\n",
       "      <td>2.0</td>\n",
       "      <td>2.0</td>\n",
       "      <td>1948.0</td>\n",
       "      <td>7048.0</td>\n",
       "      <td>33865021.0</td>\n",
       "      <td>-118006899.0</td>\n",
       "      <td>1286.0</td>\n",
       "      <td>96181.0</td>\n",
       "      <td>6059.0</td>\n",
       "      <td>45883.0</td>\n",
       "    </tr>\n",
       "  </tbody>\n",
       "</table>\n",
       "</div>"
      ],
      "text/plain": [
       "      bedrooms  bathrooms  sqft_living  num_pools  pool_w_spa_or_hottub  \\\n",
       "1081       3.0        1.5       1289.0        0.0                   0.0   \n",
       "610        3.0        2.0       1823.0        0.0                   0.0   \n",
       "2069       3.0        2.0       1041.0        0.0                   0.0   \n",
       "7016       3.0        3.5       3113.0        1.0                   0.0   \n",
       "4871       2.0        1.0        899.0        0.0                   0.0   \n",
       "\n",
       "      has_hottub_or_spa  fireplaces  garage_cars  numberofstories  ac_type  \\\n",
       "1081                0.0         0.0          2.0              1.0      2.0   \n",
       "610                 0.0         0.0          1.0              1.0      2.0   \n",
       "2069                0.0         0.0          1.0              1.0      2.0   \n",
       "7016                0.0         2.0          2.0              2.0      0.0   \n",
       "4871                0.0         1.0          1.0              1.0      2.0   \n",
       "\n",
       "      heating_type  year_built  sqft_lot         lat         long  countyid  \\\n",
       "1081           2.0      1962.0    6000.0  33811957.0 -118032469.0    1286.0   \n",
       "610            2.0      1955.0    6600.0  33862309.0 -117948648.0    1286.0   \n",
       "2069           2.0      1957.0    5860.0  33935264.0 -117924937.0    1286.0   \n",
       "7016           6.0      1976.0   15180.0  33769498.0 -117776822.0    1286.0   \n",
       "4871           2.0      1948.0    7048.0  33865021.0 -118006899.0    1286.0   \n",
       "\n",
       "          zip    fips  taxvalue  \n",
       "1081  96185.0  6059.0  141623.0  \n",
       "610   97041.0  6059.0  432903.0  \n",
       "2069  96186.0  6059.0  371706.0  \n",
       "7016  97005.0  6059.0  870258.0  \n",
       "4871  96181.0  6059.0   45883.0  "
      ]
     },
     "execution_count": 56,
     "metadata": {},
     "output_type": "execute_result"
    }
   ],
   "source": [
    "train.head()"
   ]
  },
  {
   "cell_type": "code",
   "execution_count": 57,
   "metadata": {},
   "outputs": [
    {
     "data": {
      "text/html": [
       "<style type=\"text/css\">\n",
       "#T_99b1f_row0_col0, #T_99b1f_row1_col1, #T_99b1f_row2_col2, #T_99b1f_row3_col3, #T_99b1f_row4_col4, #T_99b1f_row5_col5, #T_99b1f_row6_col6, #T_99b1f_row7_col7, #T_99b1f_row8_col8, #T_99b1f_row9_col9, #T_99b1f_row10_col10, #T_99b1f_row11_col11, #T_99b1f_row12_col12, #T_99b1f_row13_col13, #T_99b1f_row14_col14, #T_99b1f_row15_col15, #T_99b1f_row15_col17, #T_99b1f_row16_col16, #T_99b1f_row17_col15, #T_99b1f_row17_col17, #T_99b1f_row18_col18 {\n",
       "  background-color: #b40426;\n",
       "  color: #f1f1f1;\n",
       "}\n",
       "#T_99b1f_row0_col1, #T_99b1f_row0_col2, #T_99b1f_row1_col0, #T_99b1f_row2_col0 {\n",
       "  background-color: #f08b6e;\n",
       "  color: #f1f1f1;\n",
       "}\n",
       "#T_99b1f_row0_col3, #T_99b1f_row3_col0 {\n",
       "  background-color: #f3c7b1;\n",
       "  color: #000000;\n",
       "}\n",
       "#T_99b1f_row0_col4, #T_99b1f_row0_col5, #T_99b1f_row3_col11, #T_99b1f_row3_col14, #T_99b1f_row4_col0, #T_99b1f_row5_col0, #T_99b1f_row11_col3, #T_99b1f_row11_col12, #T_99b1f_row12_col11, #T_99b1f_row14_col3 {\n",
       "  background-color: #e7d7ce;\n",
       "  color: #000000;\n",
       "}\n",
       "#T_99b1f_row0_col6, #T_99b1f_row6_col0, #T_99b1f_row6_col18, #T_99b1f_row18_col6 {\n",
       "  background-color: #f3c8b2;\n",
       "  color: #000000;\n",
       "}\n",
       "#T_99b1f_row0_col7, #T_99b1f_row7_col0 {\n",
       "  background-color: #f6bfa6;\n",
       "  color: #000000;\n",
       "}\n",
       "#T_99b1f_row0_col8, #T_99b1f_row6_col7, #T_99b1f_row7_col6, #T_99b1f_row8_col0 {\n",
       "  background-color: #f4c6af;\n",
       "  color: #000000;\n",
       "}\n",
       "#T_99b1f_row0_col9, #T_99b1f_row2_col10, #T_99b1f_row7_col10, #T_99b1f_row7_col16, #T_99b1f_row9_col0, #T_99b1f_row10_col2, #T_99b1f_row10_col7, #T_99b1f_row10_col16, #T_99b1f_row13_col16, #T_99b1f_row16_col7, #T_99b1f_row16_col10, #T_99b1f_row16_col13 {\n",
       "  background-color: #dbdcde;\n",
       "  color: #000000;\n",
       "}\n",
       "#T_99b1f_row0_col10, #T_99b1f_row1_col16, #T_99b1f_row8_col13, #T_99b1f_row9_col16, #T_99b1f_row9_col18, #T_99b1f_row10_col0, #T_99b1f_row13_col8, #T_99b1f_row16_col1, #T_99b1f_row16_col9, #T_99b1f_row16_col18, #T_99b1f_row18_col9, #T_99b1f_row18_col16 {\n",
       "  background-color: #d9dce1;\n",
       "  color: #000000;\n",
       "}\n",
       "#T_99b1f_row0_col11, #T_99b1f_row11_col0 {\n",
       "  background-color: #f5c4ac;\n",
       "  color: #000000;\n",
       "}\n",
       "#T_99b1f_row0_col12, #T_99b1f_row5_col14, #T_99b1f_row12_col0, #T_99b1f_row14_col5 {\n",
       "  background-color: #edd1c2;\n",
       "  color: #000000;\n",
       "}\n",
       "#T_99b1f_row0_col13, #T_99b1f_row0_col15, #T_99b1f_row0_col17, #T_99b1f_row13_col0, #T_99b1f_row15_col0, #T_99b1f_row17_col0 {\n",
       "  background-color: #e9d5cb;\n",
       "  color: #000000;\n",
       "}\n",
       "#T_99b1f_row0_col14, #T_99b1f_row1_col14, #T_99b1f_row2_col14, #T_99b1f_row3_col9, #T_99b1f_row9_col3, #T_99b1f_row14_col0, #T_99b1f_row14_col1, #T_99b1f_row14_col2 {\n",
       "  background-color: #d3dbe7;\n",
       "  color: #000000;\n",
       "}\n",
       "#T_99b1f_row0_col16, #T_99b1f_row3_col15, #T_99b1f_row3_col17, #T_99b1f_row6_col16, #T_99b1f_row7_col14, #T_99b1f_row14_col7, #T_99b1f_row15_col3, #T_99b1f_row16_col0, #T_99b1f_row16_col6, #T_99b1f_row17_col3 {\n",
       "  background-color: #d6dce4;\n",
       "  color: #000000;\n",
       "}\n",
       "#T_99b1f_row0_col18, #T_99b1f_row7_col12, #T_99b1f_row12_col7, #T_99b1f_row18_col0 {\n",
       "  background-color: #f2cab5;\n",
       "  color: #000000;\n",
       "}\n",
       "#T_99b1f_row1_col2, #T_99b1f_row2_col1 {\n",
       "  background-color: #d1493f;\n",
       "  color: #f1f1f1;\n",
       "}\n",
       "#T_99b1f_row1_col3, #T_99b1f_row3_col1 {\n",
       "  background-color: #f5c2aa;\n",
       "  color: #000000;\n",
       "}\n",
       "#T_99b1f_row1_col4, #T_99b1f_row3_col8, #T_99b1f_row4_col1, #T_99b1f_row4_col14, #T_99b1f_row8_col3, #T_99b1f_row14_col4 {\n",
       "  background-color: #ead5c9;\n",
       "  color: #000000;\n",
       "}\n",
       "#T_99b1f_row1_col5, #T_99b1f_row4_col18, #T_99b1f_row5_col1, #T_99b1f_row7_col8, #T_99b1f_row8_col7, #T_99b1f_row18_col4 {\n",
       "  background-color: #ebd3c6;\n",
       "  color: #000000;\n",
       "}\n",
       "#T_99b1f_row1_col6, #T_99b1f_row6_col1 {\n",
       "  background-color: #f7b093;\n",
       "  color: #000000;\n",
       "}\n",
       "#T_99b1f_row1_col7, #T_99b1f_row2_col8, #T_99b1f_row6_col15, #T_99b1f_row6_col17, #T_99b1f_row7_col1, #T_99b1f_row8_col2, #T_99b1f_row15_col6, #T_99b1f_row17_col6 {\n",
       "  background-color: #f7ac8e;\n",
       "  color: #000000;\n",
       "}\n",
       "#T_99b1f_row1_col8, #T_99b1f_row8_col1 {\n",
       "  background-color: #f7aa8c;\n",
       "  color: #000000;\n",
       "}\n",
       "#T_99b1f_row1_col9, #T_99b1f_row9_col1, #T_99b1f_row13_col18, #T_99b1f_row18_col13 {\n",
       "  background-color: #d2dbe8;\n",
       "  color: #000000;\n",
       "}\n",
       "#T_99b1f_row1_col10, #T_99b1f_row6_col9, #T_99b1f_row9_col6, #T_99b1f_row10_col1, #T_99b1f_row12_col16, #T_99b1f_row16_col12 {\n",
       "  background-color: #dcdddd;\n",
       "  color: #000000;\n",
       "}\n",
       "#T_99b1f_row1_col11, #T_99b1f_row11_col1 {\n",
       "  background-color: #f39475;\n",
       "  color: #000000;\n",
       "}\n",
       "#T_99b1f_row1_col12, #T_99b1f_row12_col1 {\n",
       "  background-color: #f4c5ad;\n",
       "  color: #000000;\n",
       "}\n",
       "#T_99b1f_row1_col13, #T_99b1f_row2_col13, #T_99b1f_row7_col13, #T_99b1f_row13_col1, #T_99b1f_row13_col2, #T_99b1f_row13_col7 {\n",
       "  background-color: #e5d8d1;\n",
       "  color: #000000;\n",
       "}\n",
       "#T_99b1f_row1_col15, #T_99b1f_row1_col17, #T_99b1f_row15_col1, #T_99b1f_row17_col1 {\n",
       "  background-color: #ecd3c5;\n",
       "  color: #000000;\n",
       "}\n",
       "#T_99b1f_row1_col18, #T_99b1f_row2_col11, #T_99b1f_row11_col2, #T_99b1f_row18_col1 {\n",
       "  background-color: #f59c7d;\n",
       "  color: #000000;\n",
       "}\n",
       "#T_99b1f_row2_col3, #T_99b1f_row3_col2, #T_99b1f_row8_col11, #T_99b1f_row11_col8 {\n",
       "  background-color: #f7b89c;\n",
       "  color: #000000;\n",
       "}\n",
       "#T_99b1f_row2_col4, #T_99b1f_row2_col15, #T_99b1f_row2_col17, #T_99b1f_row4_col2, #T_99b1f_row15_col2, #T_99b1f_row17_col2 {\n",
       "  background-color: #edd2c3;\n",
       "  color: #000000;\n",
       "}\n",
       "#T_99b1f_row2_col5, #T_99b1f_row3_col12, #T_99b1f_row5_col2, #T_99b1f_row12_col3, #T_99b1f_row12_col13, #T_99b1f_row13_col12 {\n",
       "  background-color: #efcfbf;\n",
       "  color: #000000;\n",
       "}\n",
       "#T_99b1f_row2_col6, #T_99b1f_row6_col2 {\n",
       "  background-color: #f7a889;\n",
       "  color: #000000;\n",
       "}\n",
       "#T_99b1f_row2_col7, #T_99b1f_row7_col2 {\n",
       "  background-color: #f7a688;\n",
       "  color: #000000;\n",
       "}\n",
       "#T_99b1f_row2_col9, #T_99b1f_row4_col13, #T_99b1f_row9_col2, #T_99b1f_row13_col4 {\n",
       "  background-color: #cfdaea;\n",
       "  color: #000000;\n",
       "}\n",
       "#T_99b1f_row2_col12, #T_99b1f_row12_col2 {\n",
       "  background-color: #f7b99e;\n",
       "  color: #000000;\n",
       "}\n",
       "#T_99b1f_row2_col16, #T_99b1f_row4_col9, #T_99b1f_row9_col4, #T_99b1f_row16_col2 {\n",
       "  background-color: #d8dce2;\n",
       "  color: #000000;\n",
       "}\n",
       "#T_99b1f_row2_col18, #T_99b1f_row18_col2 {\n",
       "  background-color: #f18d6f;\n",
       "  color: #f1f1f1;\n",
       "}\n",
       "#T_99b1f_row3_col4, #T_99b1f_row4_col3 {\n",
       "  background-color: #f6bea4;\n",
       "  color: #000000;\n",
       "}\n",
       "#T_99b1f_row3_col5, #T_99b1f_row3_col18, #T_99b1f_row5_col3, #T_99b1f_row12_col18, #T_99b1f_row18_col3, #T_99b1f_row18_col12 {\n",
       "  background-color: #f0cdbb;\n",
       "  color: #000000;\n",
       "}\n",
       "#T_99b1f_row3_col6, #T_99b1f_row5_col18, #T_99b1f_row6_col3, #T_99b1f_row9_col13, #T_99b1f_row12_col15, #T_99b1f_row12_col17, #T_99b1f_row13_col9, #T_99b1f_row15_col12, #T_99b1f_row17_col12, #T_99b1f_row18_col5 {\n",
       "  background-color: #eed0c0;\n",
       "  color: #000000;\n",
       "}\n",
       "#T_99b1f_row3_col7, #T_99b1f_row7_col3, #T_99b1f_row8_col18, #T_99b1f_row18_col8 {\n",
       "  background-color: #efcebd;\n",
       "  color: #000000;\n",
       "}\n",
       "#T_99b1f_row3_col10, #T_99b1f_row5_col7, #T_99b1f_row7_col5, #T_99b1f_row10_col3 {\n",
       "  background-color: #e6d7cf;\n",
       "  color: #000000;\n",
       "}\n",
       "#T_99b1f_row3_col13, #T_99b1f_row13_col3 {\n",
       "  background-color: #d7dce3;\n",
       "  color: #000000;\n",
       "}\n",
       "#T_99b1f_row3_col16, #T_99b1f_row5_col9, #T_99b1f_row7_col9, #T_99b1f_row9_col5, #T_99b1f_row9_col7, #T_99b1f_row16_col3 {\n",
       "  background-color: #d5dbe5;\n",
       "  color: #000000;\n",
       "}\n",
       "#T_99b1f_row4_col5, #T_99b1f_row5_col4 {\n",
       "  background-color: #dd5f4b;\n",
       "  color: #f1f1f1;\n",
       "}\n",
       "#T_99b1f_row4_col6, #T_99b1f_row5_col12, #T_99b1f_row6_col4, #T_99b1f_row8_col10, #T_99b1f_row8_col14, #T_99b1f_row10_col8, #T_99b1f_row11_col16, #T_99b1f_row12_col5, #T_99b1f_row14_col8, #T_99b1f_row15_col16, #T_99b1f_row16_col11, #T_99b1f_row16_col15, #T_99b1f_row16_col17, #T_99b1f_row17_col16 {\n",
       "  background-color: #dfdbd9;\n",
       "  color: #000000;\n",
       "}\n",
       "#T_99b1f_row4_col7, #T_99b1f_row5_col11, #T_99b1f_row7_col4, #T_99b1f_row11_col5 {\n",
       "  background-color: #e4d9d2;\n",
       "  color: #000000;\n",
       "}\n",
       "#T_99b1f_row4_col8, #T_99b1f_row4_col16, #T_99b1f_row5_col6, #T_99b1f_row5_col16, #T_99b1f_row6_col5, #T_99b1f_row8_col4, #T_99b1f_row8_col15, #T_99b1f_row8_col17, #T_99b1f_row9_col12, #T_99b1f_row10_col18, #T_99b1f_row12_col9, #T_99b1f_row14_col16, #T_99b1f_row15_col8, #T_99b1f_row16_col4, #T_99b1f_row16_col5, #T_99b1f_row16_col14, #T_99b1f_row17_col8, #T_99b1f_row18_col10 {\n",
       "  background-color: #dedcdb;\n",
       "  color: #000000;\n",
       "}\n",
       "#T_99b1f_row4_col10, #T_99b1f_row5_col10, #T_99b1f_row10_col4, #T_99b1f_row10_col5, #T_99b1f_row15_col18, #T_99b1f_row17_col18, #T_99b1f_row18_col15, #T_99b1f_row18_col17 {\n",
       "  background-color: #e0dbd8;\n",
       "  color: #000000;\n",
       "}\n",
       "#T_99b1f_row4_col11, #T_99b1f_row5_col8, #T_99b1f_row8_col5, #T_99b1f_row11_col4 {\n",
       "  background-color: #e2dad5;\n",
       "  color: #000000;\n",
       "}\n",
       "#T_99b1f_row4_col12, #T_99b1f_row6_col10, #T_99b1f_row10_col6, #T_99b1f_row12_col4 {\n",
       "  background-color: #e1dad6;\n",
       "  color: #000000;\n",
       "}\n",
       "#T_99b1f_row4_col15, #T_99b1f_row4_col17, #T_99b1f_row8_col9, #T_99b1f_row9_col8, #T_99b1f_row10_col13, #T_99b1f_row10_col15, #T_99b1f_row10_col17, #T_99b1f_row13_col10, #T_99b1f_row15_col4, #T_99b1f_row15_col10, #T_99b1f_row17_col4, #T_99b1f_row17_col10 {\n",
       "  background-color: #cedaeb;\n",
       "  color: #000000;\n",
       "}\n",
       "#T_99b1f_row5_col13, #T_99b1f_row5_col15, #T_99b1f_row5_col17, #T_99b1f_row13_col5, #T_99b1f_row15_col5, #T_99b1f_row17_col5 {\n",
       "  background-color: #cad8ef;\n",
       "  color: #000000;\n",
       "}\n",
       "#T_99b1f_row6_col8, #T_99b1f_row6_col12, #T_99b1f_row8_col6, #T_99b1f_row9_col15, #T_99b1f_row9_col17, #T_99b1f_row12_col6, #T_99b1f_row15_col9, #T_99b1f_row17_col9 {\n",
       "  background-color: #f1cdba;\n",
       "  color: #000000;\n",
       "}\n",
       "#T_99b1f_row6_col11, #T_99b1f_row11_col6 {\n",
       "  background-color: #f7b497;\n",
       "  color: #000000;\n",
       "}\n",
       "#T_99b1f_row6_col13, #T_99b1f_row13_col6 {\n",
       "  background-color: #f7b79b;\n",
       "  color: #000000;\n",
       "}\n",
       "#T_99b1f_row6_col14, #T_99b1f_row14_col6 {\n",
       "  background-color: #a5c3fe;\n",
       "  color: #000000;\n",
       "}\n",
       "#T_99b1f_row7_col11, #T_99b1f_row11_col7 {\n",
       "  background-color: #f7b194;\n",
       "  color: #000000;\n",
       "}\n",
       "#T_99b1f_row7_col15, #T_99b1f_row7_col17, #T_99b1f_row15_col7, #T_99b1f_row17_col7 {\n",
       "  background-color: #e8d6cc;\n",
       "  color: #000000;\n",
       "}\n",
       "#T_99b1f_row7_col18, #T_99b1f_row18_col7 {\n",
       "  background-color: #f2cbb7;\n",
       "  color: #000000;\n",
       "}\n",
       "#T_99b1f_row8_col12, #T_99b1f_row10_col11, #T_99b1f_row11_col10, #T_99b1f_row12_col8, #T_99b1f_row14_col18, #T_99b1f_row18_col14 {\n",
       "  background-color: #dddcdc;\n",
       "  color: #000000;\n",
       "}\n",
       "#T_99b1f_row8_col16, #T_99b1f_row10_col12, #T_99b1f_row12_col10, #T_99b1f_row16_col8 {\n",
       "  background-color: #dadce0;\n",
       "  color: #000000;\n",
       "}\n",
       "#T_99b1f_row9_col10, #T_99b1f_row9_col14, #T_99b1f_row10_col9, #T_99b1f_row14_col9 {\n",
       "  background-color: #bfd3f6;\n",
       "  color: #000000;\n",
       "}\n",
       "#T_99b1f_row9_col11, #T_99b1f_row11_col9 {\n",
       "  background-color: #d1dae9;\n",
       "  color: #000000;\n",
       "}\n",
       "#T_99b1f_row10_col14, #T_99b1f_row14_col10 {\n",
       "  background-color: #ead4c8;\n",
       "  color: #000000;\n",
       "}\n",
       "#T_99b1f_row11_col13, #T_99b1f_row13_col11 {\n",
       "  background-color: #f1ccb8;\n",
       "  color: #000000;\n",
       "}\n",
       "#T_99b1f_row11_col14, #T_99b1f_row14_col11 {\n",
       "  background-color: #bed2f6;\n",
       "  color: #000000;\n",
       "}\n",
       "#T_99b1f_row11_col15, #T_99b1f_row11_col17, #T_99b1f_row11_col18, #T_99b1f_row15_col11, #T_99b1f_row17_col11, #T_99b1f_row18_col11 {\n",
       "  background-color: #f6bda2;\n",
       "  color: #000000;\n",
       "}\n",
       "#T_99b1f_row12_col14, #T_99b1f_row14_col12 {\n",
       "  background-color: #cbd8ee;\n",
       "  color: #000000;\n",
       "}\n",
       "#T_99b1f_row13_col14, #T_99b1f_row14_col13 {\n",
       "  background-color: #465ecf;\n",
       "  color: #f1f1f1;\n",
       "}\n",
       "#T_99b1f_row13_col15, #T_99b1f_row13_col17, #T_99b1f_row15_col13, #T_99b1f_row17_col13 {\n",
       "  background-color: #c43032;\n",
       "  color: #f1f1f1;\n",
       "}\n",
       "#T_99b1f_row14_col15, #T_99b1f_row14_col17, #T_99b1f_row15_col14, #T_99b1f_row17_col14 {\n",
       "  background-color: #3f53c6;\n",
       "  color: #f1f1f1;\n",
       "}\n",
       "</style>\n",
       "<table id=\"T_99b1f\">\n",
       "  <thead>\n",
       "    <tr>\n",
       "      <th class=\"blank level0\" >&nbsp;</th>\n",
       "      <th id=\"T_99b1f_level0_col0\" class=\"col_heading level0 col0\" >bedrooms</th>\n",
       "      <th id=\"T_99b1f_level0_col1\" class=\"col_heading level0 col1\" >bathrooms</th>\n",
       "      <th id=\"T_99b1f_level0_col2\" class=\"col_heading level0 col2\" >sqft_living</th>\n",
       "      <th id=\"T_99b1f_level0_col3\" class=\"col_heading level0 col3\" >num_pools</th>\n",
       "      <th id=\"T_99b1f_level0_col4\" class=\"col_heading level0 col4\" >pool_w_spa_or_hottub</th>\n",
       "      <th id=\"T_99b1f_level0_col5\" class=\"col_heading level0 col5\" >has_hottub_or_spa</th>\n",
       "      <th id=\"T_99b1f_level0_col6\" class=\"col_heading level0 col6\" >fireplaces</th>\n",
       "      <th id=\"T_99b1f_level0_col7\" class=\"col_heading level0 col7\" >garage_cars</th>\n",
       "      <th id=\"T_99b1f_level0_col8\" class=\"col_heading level0 col8\" >numberofstories</th>\n",
       "      <th id=\"T_99b1f_level0_col9\" class=\"col_heading level0 col9\" >ac_type</th>\n",
       "      <th id=\"T_99b1f_level0_col10\" class=\"col_heading level0 col10\" >heating_type</th>\n",
       "      <th id=\"T_99b1f_level0_col11\" class=\"col_heading level0 col11\" >year_built</th>\n",
       "      <th id=\"T_99b1f_level0_col12\" class=\"col_heading level0 col12\" >sqft_lot</th>\n",
       "      <th id=\"T_99b1f_level0_col13\" class=\"col_heading level0 col13\" >lat</th>\n",
       "      <th id=\"T_99b1f_level0_col14\" class=\"col_heading level0 col14\" >long</th>\n",
       "      <th id=\"T_99b1f_level0_col15\" class=\"col_heading level0 col15\" >countyid</th>\n",
       "      <th id=\"T_99b1f_level0_col16\" class=\"col_heading level0 col16\" >zip</th>\n",
       "      <th id=\"T_99b1f_level0_col17\" class=\"col_heading level0 col17\" >fips</th>\n",
       "      <th id=\"T_99b1f_level0_col18\" class=\"col_heading level0 col18\" >taxvalue</th>\n",
       "    </tr>\n",
       "  </thead>\n",
       "  <tbody>\n",
       "    <tr>\n",
       "      <th id=\"T_99b1f_level0_row0\" class=\"row_heading level0 row0\" >bedrooms</th>\n",
       "      <td id=\"T_99b1f_row0_col0\" class=\"data row0 col0\" >1.000000</td>\n",
       "      <td id=\"T_99b1f_row0_col1\" class=\"data row0 col1\" >0.566843</td>\n",
       "      <td id=\"T_99b1f_row0_col2\" class=\"data row0 col2\" >0.568140</td>\n",
       "      <td id=\"T_99b1f_row0_col3\" class=\"data row0 col3\" >0.231490</td>\n",
       "      <td id=\"T_99b1f_row0_col4\" class=\"data row0 col4\" >0.082292</td>\n",
       "      <td id=\"T_99b1f_row0_col5\" class=\"data row0 col5\" >0.081869</td>\n",
       "      <td id=\"T_99b1f_row0_col6\" class=\"data row0 col6\" >0.220747</td>\n",
       "      <td id=\"T_99b1f_row0_col7\" class=\"data row0 col7\" >0.285270</td>\n",
       "      <td id=\"T_99b1f_row0_col8\" class=\"data row0 col8\" >0.239887</td>\n",
       "      <td id=\"T_99b1f_row0_col9\" class=\"data row0 col9\" >-0.013658</td>\n",
       "      <td id=\"T_99b1f_row0_col10\" class=\"data row0 col10\" >-0.024637</td>\n",
       "      <td id=\"T_99b1f_row0_col11\" class=\"data row0 col11\" >0.252862</td>\n",
       "      <td id=\"T_99b1f_row0_col12\" class=\"data row0 col12\" >0.140750</td>\n",
       "      <td id=\"T_99b1f_row0_col13\" class=\"data row0 col13\" >0.096753</td>\n",
       "      <td id=\"T_99b1f_row0_col14\" class=\"data row0 col14\" >-0.075304</td>\n",
       "      <td id=\"T_99b1f_row0_col15\" class=\"data row0 col15\" >0.097077</td>\n",
       "      <td id=\"T_99b1f_row0_col16\" class=\"data row0 col16\" >-0.051227</td>\n",
       "      <td id=\"T_99b1f_row0_col17\" class=\"data row0 col17\" >0.097077</td>\n",
       "      <td id=\"T_99b1f_row0_col18\" class=\"data row0 col18\" >0.210934</td>\n",
       "    </tr>\n",
       "    <tr>\n",
       "      <th id=\"T_99b1f_level0_row1\" class=\"row_heading level0 row1\" >bathrooms</th>\n",
       "      <td id=\"T_99b1f_row1_col0\" class=\"data row1 col0\" >0.566843</td>\n",
       "      <td id=\"T_99b1f_row1_col1\" class=\"data row1 col1\" >1.000000</td>\n",
       "      <td id=\"T_99b1f_row1_col2\" class=\"data row1 col2\" >0.830976</td>\n",
       "      <td id=\"T_99b1f_row1_col3\" class=\"data row1 col3\" >0.260383</td>\n",
       "      <td id=\"T_99b1f_row1_col4\" class=\"data row1 col4\" >0.107995</td>\n",
       "      <td id=\"T_99b1f_row1_col5\" class=\"data row1 col5\" >0.124030</td>\n",
       "      <td id=\"T_99b1f_row1_col6\" class=\"data row1 col6\" >0.375762</td>\n",
       "      <td id=\"T_99b1f_row1_col7\" class=\"data row1 col7\" >0.398626</td>\n",
       "      <td id=\"T_99b1f_row1_col8\" class=\"data row1 col8\" >0.407371</td>\n",
       "      <td id=\"T_99b1f_row1_col9\" class=\"data row1 col9\" >-0.079519</td>\n",
       "      <td id=\"T_99b1f_row1_col10\" class=\"data row1 col10\" >-0.000398</td>\n",
       "      <td id=\"T_99b1f_row1_col11\" class=\"data row1 col11\" >0.525095</td>\n",
       "      <td id=\"T_99b1f_row1_col12\" class=\"data row1 col12\" >0.245695</td>\n",
       "      <td id=\"T_99b1f_row1_col13\" class=\"data row1 col13\" >0.066809</td>\n",
       "      <td id=\"T_99b1f_row1_col14\" class=\"data row1 col14\" >-0.076395</td>\n",
       "      <td id=\"T_99b1f_row1_col15\" class=\"data row1 col15\" >0.130237</td>\n",
       "      <td id=\"T_99b1f_row1_col16\" class=\"data row1 col16\" >-0.026345</td>\n",
       "      <td id=\"T_99b1f_row1_col17\" class=\"data row1 col17\" >0.130237</td>\n",
       "      <td id=\"T_99b1f_row1_col18\" class=\"data row1 col18\" >0.491879</td>\n",
       "    </tr>\n",
       "    <tr>\n",
       "      <th id=\"T_99b1f_level0_row2\" class=\"row_heading level0 row2\" >sqft_living</th>\n",
       "      <td id=\"T_99b1f_row2_col0\" class=\"data row2 col0\" >0.568140</td>\n",
       "      <td id=\"T_99b1f_row2_col1\" class=\"data row2 col1\" >0.830976</td>\n",
       "      <td id=\"T_99b1f_row2_col2\" class=\"data row2 col2\" >1.000000</td>\n",
       "      <td id=\"T_99b1f_row2_col3\" class=\"data row2 col3\" >0.329104</td>\n",
       "      <td id=\"T_99b1f_row2_col4\" class=\"data row2 col4\" >0.137957</td>\n",
       "      <td id=\"T_99b1f_row2_col5\" class=\"data row2 col5\" >0.160655</td>\n",
       "      <td id=\"T_99b1f_row2_col6\" class=\"data row2 col6\" >0.427590</td>\n",
       "      <td id=\"T_99b1f_row2_col7\" class=\"data row2 col7\" >0.431184</td>\n",
       "      <td id=\"T_99b1f_row2_col8\" class=\"data row2 col8\" >0.403581</td>\n",
       "      <td id=\"T_99b1f_row2_col9\" class=\"data row2 col9\" >-0.094894</td>\n",
       "      <td id=\"T_99b1f_row2_col10\" class=\"data row2 col10\" >-0.008689</td>\n",
       "      <td id=\"T_99b1f_row2_col11\" class=\"data row2 col11\" >0.491900</td>\n",
       "      <td id=\"T_99b1f_row2_col12\" class=\"data row2 col12\" >0.323822</td>\n",
       "      <td id=\"T_99b1f_row2_col13\" class=\"data row2 col13\" >0.068792</td>\n",
       "      <td id=\"T_99b1f_row2_col14\" class=\"data row2 col14\" >-0.076704</td>\n",
       "      <td id=\"T_99b1f_row2_col15\" class=\"data row2 col15\" >0.135547</td>\n",
       "      <td id=\"T_99b1f_row2_col16\" class=\"data row2 col16\" >-0.037724</td>\n",
       "      <td id=\"T_99b1f_row2_col17\" class=\"data row2 col17\" >0.135547</td>\n",
       "      <td id=\"T_99b1f_row2_col18\" class=\"data row2 col18\" >0.562445</td>\n",
       "    </tr>\n",
       "    <tr>\n",
       "      <th id=\"T_99b1f_level0_row3\" class=\"row_heading level0 row3\" >num_pools</th>\n",
       "      <td id=\"T_99b1f_row3_col0\" class=\"data row3 col0\" >0.231490</td>\n",
       "      <td id=\"T_99b1f_row3_col1\" class=\"data row3 col1\" >0.260383</td>\n",
       "      <td id=\"T_99b1f_row3_col2\" class=\"data row3 col2\" >0.329104</td>\n",
       "      <td id=\"T_99b1f_row3_col3\" class=\"data row3 col3\" >1.000000</td>\n",
       "      <td id=\"T_99b1f_row3_col4\" class=\"data row3 col4\" >0.293753</td>\n",
       "      <td id=\"T_99b1f_row3_col5\" class=\"data row3 col5\" >0.178673</td>\n",
       "      <td id=\"T_99b1f_row3_col6\" class=\"data row3 col6\" >0.155949</td>\n",
       "      <td id=\"T_99b1f_row3_col7\" class=\"data row3 col7\" >0.165869</td>\n",
       "      <td id=\"T_99b1f_row3_col8\" class=\"data row3 col8\" >0.106501</td>\n",
       "      <td id=\"T_99b1f_row3_col9\" class=\"data row3 col9\" >-0.073337</td>\n",
       "      <td id=\"T_99b1f_row3_col10\" class=\"data row3 col10\" >0.070875</td>\n",
       "      <td id=\"T_99b1f_row3_col11\" class=\"data row3 col11\" >0.082793</td>\n",
       "      <td id=\"T_99b1f_row3_col12\" class=\"data row3 col12\" >0.161222</td>\n",
       "      <td id=\"T_99b1f_row3_col13\" class=\"data row3 col13\" >-0.039396</td>\n",
       "      <td id=\"T_99b1f_row3_col14\" class=\"data row3 col14\" >0.082937</td>\n",
       "      <td id=\"T_99b1f_row3_col15\" class=\"data row3 col15\" >-0.054078</td>\n",
       "      <td id=\"T_99b1f_row3_col16\" class=\"data row3 col16\" >-0.057543</td>\n",
       "      <td id=\"T_99b1f_row3_col17\" class=\"data row3 col17\" >-0.054078</td>\n",
       "      <td id=\"T_99b1f_row3_col18\" class=\"data row3 col18\" >0.174491</td>\n",
       "    </tr>\n",
       "    <tr>\n",
       "      <th id=\"T_99b1f_level0_row4\" class=\"row_heading level0 row4\" >pool_w_spa_or_hottub</th>\n",
       "      <td id=\"T_99b1f_row4_col0\" class=\"data row4 col0\" >0.082292</td>\n",
       "      <td id=\"T_99b1f_row4_col1\" class=\"data row4 col1\" >0.107995</td>\n",
       "      <td id=\"T_99b1f_row4_col2\" class=\"data row4 col2\" >0.137957</td>\n",
       "      <td id=\"T_99b1f_row4_col3\" class=\"data row4 col3\" >0.293753</td>\n",
       "      <td id=\"T_99b1f_row4_col4\" class=\"data row4 col4\" >1.000000</td>\n",
       "      <td id=\"T_99b1f_row4_col5\" class=\"data row4 col5\" >0.757082</td>\n",
       "      <td id=\"T_99b1f_row4_col6\" class=\"data row4 col6\" >0.020729</td>\n",
       "      <td id=\"T_99b1f_row4_col7\" class=\"data row4 col7\" >0.061706</td>\n",
       "      <td id=\"T_99b1f_row4_col8\" class=\"data row4 col8\" >0.013063</td>\n",
       "      <td id=\"T_99b1f_row4_col9\" class=\"data row4 col9\" >-0.036907</td>\n",
       "      <td id=\"T_99b1f_row4_col10\" class=\"data row4 col10\" >0.025057</td>\n",
       "      <td id=\"T_99b1f_row4_col11\" class=\"data row4 col11\" >0.040789</td>\n",
       "      <td id=\"T_99b1f_row4_col12\" class=\"data row4 col12\" >0.033592</td>\n",
       "      <td id=\"T_99b1f_row4_col13\" class=\"data row4 col13\" >-0.097383</td>\n",
       "      <td id=\"T_99b1f_row4_col14\" class=\"data row4 col14\" >0.106062</td>\n",
       "      <td id=\"T_99b1f_row4_col15\" class=\"data row4 col15\" >-0.105064</td>\n",
       "      <td id=\"T_99b1f_row4_col16\" class=\"data row4 col16\" >0.010000</td>\n",
       "      <td id=\"T_99b1f_row4_col17\" class=\"data row4 col17\" >-0.105064</td>\n",
       "      <td id=\"T_99b1f_row4_col18\" class=\"data row4 col18\" >0.123975</td>\n",
       "    </tr>\n",
       "    <tr>\n",
       "      <th id=\"T_99b1f_level0_row5\" class=\"row_heading level0 row5\" >has_hottub_or_spa</th>\n",
       "      <td id=\"T_99b1f_row5_col0\" class=\"data row5 col0\" >0.081869</td>\n",
       "      <td id=\"T_99b1f_row5_col1\" class=\"data row5 col1\" >0.124030</td>\n",
       "      <td id=\"T_99b1f_row5_col2\" class=\"data row5 col2\" >0.160655</td>\n",
       "      <td id=\"T_99b1f_row5_col3\" class=\"data row5 col3\" >0.178673</td>\n",
       "      <td id=\"T_99b1f_row5_col4\" class=\"data row5 col4\" >0.757082</td>\n",
       "      <td id=\"T_99b1f_row5_col5\" class=\"data row5 col5\" >1.000000</td>\n",
       "      <td id=\"T_99b1f_row5_col6\" class=\"data row5 col6\" >0.014836</td>\n",
       "      <td id=\"T_99b1f_row5_col7\" class=\"data row5 col7\" >0.072105</td>\n",
       "      <td id=\"T_99b1f_row5_col8\" class=\"data row5 col8\" >0.039290</td>\n",
       "      <td id=\"T_99b1f_row5_col9\" class=\"data row5 col9\" >-0.057864</td>\n",
       "      <td id=\"T_99b1f_row5_col10\" class=\"data row5 col10\" >0.025756</td>\n",
       "      <td id=\"T_99b1f_row5_col11\" class=\"data row5 col11\" >0.061732</td>\n",
       "      <td id=\"T_99b1f_row5_col12\" class=\"data row5 col12\" >0.019652</td>\n",
       "      <td id=\"T_99b1f_row5_col13\" class=\"data row5 col13\" >-0.138208</td>\n",
       "      <td id=\"T_99b1f_row5_col14\" class=\"data row5 col14\" >0.143488</td>\n",
       "      <td id=\"T_99b1f_row5_col15\" class=\"data row5 col15\" >-0.138775</td>\n",
       "      <td id=\"T_99b1f_row5_col16\" class=\"data row5 col16\" >0.011030</td>\n",
       "      <td id=\"T_99b1f_row5_col17\" class=\"data row5 col17\" >-0.138775</td>\n",
       "      <td id=\"T_99b1f_row5_col18\" class=\"data row5 col18\" >0.152419</td>\n",
       "    </tr>\n",
       "    <tr>\n",
       "      <th id=\"T_99b1f_level0_row6\" class=\"row_heading level0 row6\" >fireplaces</th>\n",
       "      <td id=\"T_99b1f_row6_col0\" class=\"data row6 col0\" >0.220747</td>\n",
       "      <td id=\"T_99b1f_row6_col1\" class=\"data row6 col1\" >0.375762</td>\n",
       "      <td id=\"T_99b1f_row6_col2\" class=\"data row6 col2\" >0.427590</td>\n",
       "      <td id=\"T_99b1f_row6_col3\" class=\"data row6 col3\" >0.155949</td>\n",
       "      <td id=\"T_99b1f_row6_col4\" class=\"data row6 col4\" >0.020729</td>\n",
       "      <td id=\"T_99b1f_row6_col5\" class=\"data row6 col5\" >0.014836</td>\n",
       "      <td id=\"T_99b1f_row6_col6\" class=\"data row6 col6\" >1.000000</td>\n",
       "      <td id=\"T_99b1f_row6_col7\" class=\"data row6 col7\" >0.236307</td>\n",
       "      <td id=\"T_99b1f_row6_col8\" class=\"data row6 col8\" >0.186880</td>\n",
       "      <td id=\"T_99b1f_row6_col9\" class=\"data row6 col9\" >-0.000459</td>\n",
       "      <td id=\"T_99b1f_row6_col10\" class=\"data row6 col10\" >0.036066</td>\n",
       "      <td id=\"T_99b1f_row6_col11\" class=\"data row6 col11\" >0.357479</td>\n",
       "      <td id=\"T_99b1f_row6_col12\" class=\"data row6 col12\" >0.185086</td>\n",
       "      <td id=\"T_99b1f_row6_col13\" class=\"data row6 col13\" >0.338138</td>\n",
       "      <td id=\"T_99b1f_row6_col14\" class=\"data row6 col14\" >-0.361188</td>\n",
       "      <td id=\"T_99b1f_row6_col15\" class=\"data row6 col15\" >0.403971</td>\n",
       "      <td id=\"T_99b1f_row6_col16\" class=\"data row6 col16\" >-0.053068</td>\n",
       "      <td id=\"T_99b1f_row6_col17\" class=\"data row6 col17\" >0.403971</td>\n",
       "      <td id=\"T_99b1f_row6_col18\" class=\"data row6 col18\" >0.225645</td>\n",
       "    </tr>\n",
       "    <tr>\n",
       "      <th id=\"T_99b1f_level0_row7\" class=\"row_heading level0 row7\" >garage_cars</th>\n",
       "      <td id=\"T_99b1f_row7_col0\" class=\"data row7 col0\" >0.285270</td>\n",
       "      <td id=\"T_99b1f_row7_col1\" class=\"data row7 col1\" >0.398626</td>\n",
       "      <td id=\"T_99b1f_row7_col2\" class=\"data row7 col2\" >0.431184</td>\n",
       "      <td id=\"T_99b1f_row7_col3\" class=\"data row7 col3\" >0.165869</td>\n",
       "      <td id=\"T_99b1f_row7_col4\" class=\"data row7 col4\" >0.061706</td>\n",
       "      <td id=\"T_99b1f_row7_col5\" class=\"data row7 col5\" >0.072105</td>\n",
       "      <td id=\"T_99b1f_row7_col6\" class=\"data row7 col6\" >0.236307</td>\n",
       "      <td id=\"T_99b1f_row7_col7\" class=\"data row7 col7\" >1.000000</td>\n",
       "      <td id=\"T_99b1f_row7_col8\" class=\"data row7 col8\" >0.121390</td>\n",
       "      <td id=\"T_99b1f_row7_col9\" class=\"data row7 col9\" >-0.058778</td>\n",
       "      <td id=\"T_99b1f_row7_col10\" class=\"data row7 col10\" >-0.008898</td>\n",
       "      <td id=\"T_99b1f_row7_col11\" class=\"data row7 col11\" >0.371415</td>\n",
       "      <td id=\"T_99b1f_row7_col12\" class=\"data row7 col12\" >0.209122</td>\n",
       "      <td id=\"T_99b1f_row7_col13\" class=\"data row7 col13\" >0.066180</td>\n",
       "      <td id=\"T_99b1f_row7_col14\" class=\"data row7 col14\" >-0.052846</td>\n",
       "      <td id=\"T_99b1f_row7_col15\" class=\"data row7 col15\" >0.089636</td>\n",
       "      <td id=\"T_99b1f_row7_col16\" class=\"data row7 col16\" >-0.012524</td>\n",
       "      <td id=\"T_99b1f_row7_col17\" class=\"data row7 col17\" >0.089636</td>\n",
       "      <td id=\"T_99b1f_row7_col18\" class=\"data row7 col18\" >0.201860</td>\n",
       "    </tr>\n",
       "    <tr>\n",
       "      <th id=\"T_99b1f_level0_row8\" class=\"row_heading level0 row8\" >numberofstories</th>\n",
       "      <td id=\"T_99b1f_row8_col0\" class=\"data row8 col0\" >0.239887</td>\n",
       "      <td id=\"T_99b1f_row8_col1\" class=\"data row8 col1\" >0.407371</td>\n",
       "      <td id=\"T_99b1f_row8_col2\" class=\"data row8 col2\" >0.403581</td>\n",
       "      <td id=\"T_99b1f_row8_col3\" class=\"data row8 col3\" >0.106501</td>\n",
       "      <td id=\"T_99b1f_row8_col4\" class=\"data row8 col4\" >0.013063</td>\n",
       "      <td id=\"T_99b1f_row8_col5\" class=\"data row8 col5\" >0.039290</td>\n",
       "      <td id=\"T_99b1f_row8_col6\" class=\"data row8 col6\" >0.186880</td>\n",
       "      <td id=\"T_99b1f_row8_col7\" class=\"data row8 col7\" >0.121390</td>\n",
       "      <td id=\"T_99b1f_row8_col8\" class=\"data row8 col8\" >1.000000</td>\n",
       "      <td id=\"T_99b1f_row8_col9\" class=\"data row8 col9\" >-0.103031</td>\n",
       "      <td id=\"T_99b1f_row8_col10\" class=\"data row8 col10\" >0.016143</td>\n",
       "      <td id=\"T_99b1f_row8_col11\" class=\"data row8 col11\" >0.333062</td>\n",
       "      <td id=\"T_99b1f_row8_col12\" class=\"data row8 col12\" >0.002125</td>\n",
       "      <td id=\"T_99b1f_row8_col13\" class=\"data row8 col13\" >-0.027503</td>\n",
       "      <td id=\"T_99b1f_row8_col14\" class=\"data row8 col14\" >0.017758</td>\n",
       "      <td id=\"T_99b1f_row8_col15\" class=\"data row8 col15\" >0.011849</td>\n",
       "      <td id=\"T_99b1f_row8_col16\" class=\"data row8 col16\" >-0.015672</td>\n",
       "      <td id=\"T_99b1f_row8_col17\" class=\"data row8 col17\" >0.011849</td>\n",
       "      <td id=\"T_99b1f_row8_col18\" class=\"data row8 col18\" >0.165148</td>\n",
       "    </tr>\n",
       "    <tr>\n",
       "      <th id=\"T_99b1f_level0_row9\" class=\"row_heading level0 row9\" >ac_type</th>\n",
       "      <td id=\"T_99b1f_row9_col0\" class=\"data row9 col0\" >-0.013658</td>\n",
       "      <td id=\"T_99b1f_row9_col1\" class=\"data row9 col1\" >-0.079519</td>\n",
       "      <td id=\"T_99b1f_row9_col2\" class=\"data row9 col2\" >-0.094894</td>\n",
       "      <td id=\"T_99b1f_row9_col3\" class=\"data row9 col3\" >-0.073337</td>\n",
       "      <td id=\"T_99b1f_row9_col4\" class=\"data row9 col4\" >-0.036907</td>\n",
       "      <td id=\"T_99b1f_row9_col5\" class=\"data row9 col5\" >-0.057864</td>\n",
       "      <td id=\"T_99b1f_row9_col6\" class=\"data row9 col6\" >-0.000459</td>\n",
       "      <td id=\"T_99b1f_row9_col7\" class=\"data row9 col7\" >-0.058778</td>\n",
       "      <td id=\"T_99b1f_row9_col8\" class=\"data row9 col8\" >-0.103031</td>\n",
       "      <td id=\"T_99b1f_row9_col9\" class=\"data row9 col9\" >1.000000</td>\n",
       "      <td id=\"T_99b1f_row9_col10\" class=\"data row9 col10\" >-0.205841</td>\n",
       "      <td id=\"T_99b1f_row9_col11\" class=\"data row9 col11\" >-0.092665</td>\n",
       "      <td id=\"T_99b1f_row9_col12\" class=\"data row9 col12\" >0.007996</td>\n",
       "      <td id=\"T_99b1f_row9_col13\" class=\"data row9 col13\" >0.152733</td>\n",
       "      <td id=\"T_99b1f_row9_col14\" class=\"data row9 col14\" >-0.206991</td>\n",
       "      <td id=\"T_99b1f_row9_col15\" class=\"data row9 col15\" >0.184994</td>\n",
       "      <td id=\"T_99b1f_row9_col16\" class=\"data row9 col16\" >-0.025454</td>\n",
       "      <td id=\"T_99b1f_row9_col17\" class=\"data row9 col17\" >0.184994</td>\n",
       "      <td id=\"T_99b1f_row9_col18\" class=\"data row9 col18\" >-0.027197</td>\n",
       "    </tr>\n",
       "    <tr>\n",
       "      <th id=\"T_99b1f_level0_row10\" class=\"row_heading level0 row10\" >heating_type</th>\n",
       "      <td id=\"T_99b1f_row10_col0\" class=\"data row10 col0\" >-0.024637</td>\n",
       "      <td id=\"T_99b1f_row10_col1\" class=\"data row10 col1\" >-0.000398</td>\n",
       "      <td id=\"T_99b1f_row10_col2\" class=\"data row10 col2\" >-0.008689</td>\n",
       "      <td id=\"T_99b1f_row10_col3\" class=\"data row10 col3\" >0.070875</td>\n",
       "      <td id=\"T_99b1f_row10_col4\" class=\"data row10 col4\" >0.025057</td>\n",
       "      <td id=\"T_99b1f_row10_col5\" class=\"data row10 col5\" >0.025756</td>\n",
       "      <td id=\"T_99b1f_row10_col6\" class=\"data row10 col6\" >0.036066</td>\n",
       "      <td id=\"T_99b1f_row10_col7\" class=\"data row10 col7\" >-0.008898</td>\n",
       "      <td id=\"T_99b1f_row10_col8\" class=\"data row10 col8\" >0.016143</td>\n",
       "      <td id=\"T_99b1f_row10_col9\" class=\"data row10 col9\" >-0.205841</td>\n",
       "      <td id=\"T_99b1f_row10_col10\" class=\"data row10 col10\" >1.000000</td>\n",
       "      <td id=\"T_99b1f_row10_col11\" class=\"data row10 col11\" >0.002356</td>\n",
       "      <td id=\"T_99b1f_row10_col12\" class=\"data row10 col12\" >-0.017948</td>\n",
       "      <td id=\"T_99b1f_row10_col13\" class=\"data row10 col13\" >-0.106889</td>\n",
       "      <td id=\"T_99b1f_row10_col14\" class=\"data row10 col14\" >0.109876</td>\n",
       "      <td id=\"T_99b1f_row10_col15\" class=\"data row10 col15\" >-0.108961</td>\n",
       "      <td id=\"T_99b1f_row10_col16\" class=\"data row10 col16\" >-0.014481</td>\n",
       "      <td id=\"T_99b1f_row10_col17\" class=\"data row10 col17\" >-0.108961</td>\n",
       "      <td id=\"T_99b1f_row10_col18\" class=\"data row10 col18\" >0.009550</td>\n",
       "    </tr>\n",
       "    <tr>\n",
       "      <th id=\"T_99b1f_level0_row11\" class=\"row_heading level0 row11\" >year_built</th>\n",
       "      <td id=\"T_99b1f_row11_col0\" class=\"data row11 col0\" >0.252862</td>\n",
       "      <td id=\"T_99b1f_row11_col1\" class=\"data row11 col1\" >0.525095</td>\n",
       "      <td id=\"T_99b1f_row11_col2\" class=\"data row11 col2\" >0.491900</td>\n",
       "      <td id=\"T_99b1f_row11_col3\" class=\"data row11 col3\" >0.082793</td>\n",
       "      <td id=\"T_99b1f_row11_col4\" class=\"data row11 col4\" >0.040789</td>\n",
       "      <td id=\"T_99b1f_row11_col5\" class=\"data row11 col5\" >0.061732</td>\n",
       "      <td id=\"T_99b1f_row11_col6\" class=\"data row11 col6\" >0.357479</td>\n",
       "      <td id=\"T_99b1f_row11_col7\" class=\"data row11 col7\" >0.371415</td>\n",
       "      <td id=\"T_99b1f_row11_col8\" class=\"data row11 col8\" >0.333062</td>\n",
       "      <td id=\"T_99b1f_row11_col9\" class=\"data row11 col9\" >-0.092665</td>\n",
       "      <td id=\"T_99b1f_row11_col10\" class=\"data row11 col10\" >0.002356</td>\n",
       "      <td id=\"T_99b1f_row11_col11\" class=\"data row11 col11\" >1.000000</td>\n",
       "      <td id=\"T_99b1f_row11_col12\" class=\"data row11 col12\" >0.079504</td>\n",
       "      <td id=\"T_99b1f_row11_col13\" class=\"data row11 col13\" >0.190906</td>\n",
       "      <td id=\"T_99b1f_row11_col14\" class=\"data row11 col14\" >-0.216615</td>\n",
       "      <td id=\"T_99b1f_row11_col15\" class=\"data row11 col15\" >0.298308</td>\n",
       "      <td id=\"T_99b1f_row11_col16\" class=\"data row11 col16\" >0.021243</td>\n",
       "      <td id=\"T_99b1f_row11_col17\" class=\"data row11 col17\" >0.298308</td>\n",
       "      <td id=\"T_99b1f_row11_col18\" class=\"data row11 col18\" >0.297187</td>\n",
       "    </tr>\n",
       "    <tr>\n",
       "      <th id=\"T_99b1f_level0_row12\" class=\"row_heading level0 row12\" >sqft_lot</th>\n",
       "      <td id=\"T_99b1f_row12_col0\" class=\"data row12 col0\" >0.140750</td>\n",
       "      <td id=\"T_99b1f_row12_col1\" class=\"data row12 col1\" >0.245695</td>\n",
       "      <td id=\"T_99b1f_row12_col2\" class=\"data row12 col2\" >0.323822</td>\n",
       "      <td id=\"T_99b1f_row12_col3\" class=\"data row12 col3\" >0.161222</td>\n",
       "      <td id=\"T_99b1f_row12_col4\" class=\"data row12 col4\" >0.033592</td>\n",
       "      <td id=\"T_99b1f_row12_col5\" class=\"data row12 col5\" >0.019652</td>\n",
       "      <td id=\"T_99b1f_row12_col6\" class=\"data row12 col6\" >0.185086</td>\n",
       "      <td id=\"T_99b1f_row12_col7\" class=\"data row12 col7\" >0.209122</td>\n",
       "      <td id=\"T_99b1f_row12_col8\" class=\"data row12 col8\" >0.002125</td>\n",
       "      <td id=\"T_99b1f_row12_col9\" class=\"data row12 col9\" >0.007996</td>\n",
       "      <td id=\"T_99b1f_row12_col10\" class=\"data row12 col10\" >-0.017948</td>\n",
       "      <td id=\"T_99b1f_row12_col11\" class=\"data row12 col11\" >0.079504</td>\n",
       "      <td id=\"T_99b1f_row12_col12\" class=\"data row12 col12\" >1.000000</td>\n",
       "      <td id=\"T_99b1f_row12_col13\" class=\"data row12 col13\" >0.158353</td>\n",
       "      <td id=\"T_99b1f_row12_col14\" class=\"data row12 col14\" >-0.129743</td>\n",
       "      <td id=\"T_99b1f_row12_col15\" class=\"data row12 col15\" >0.149154</td>\n",
       "      <td id=\"T_99b1f_row12_col16\" class=\"data row12 col16\" >-0.001704</td>\n",
       "      <td id=\"T_99b1f_row12_col17\" class=\"data row12 col17\" >0.149154</td>\n",
       "      <td id=\"T_99b1f_row12_col18\" class=\"data row12 col18\" >0.176980</td>\n",
       "    </tr>\n",
       "    <tr>\n",
       "      <th id=\"T_99b1f_level0_row13\" class=\"row_heading level0 row13\" >lat</th>\n",
       "      <td id=\"T_99b1f_row13_col0\" class=\"data row13 col0\" >0.096753</td>\n",
       "      <td id=\"T_99b1f_row13_col1\" class=\"data row13 col1\" >0.066809</td>\n",
       "      <td id=\"T_99b1f_row13_col2\" class=\"data row13 col2\" >0.068792</td>\n",
       "      <td id=\"T_99b1f_row13_col3\" class=\"data row13 col3\" >-0.039396</td>\n",
       "      <td id=\"T_99b1f_row13_col4\" class=\"data row13 col4\" >-0.097383</td>\n",
       "      <td id=\"T_99b1f_row13_col5\" class=\"data row13 col5\" >-0.138208</td>\n",
       "      <td id=\"T_99b1f_row13_col6\" class=\"data row13 col6\" >0.338138</td>\n",
       "      <td id=\"T_99b1f_row13_col7\" class=\"data row13 col7\" >0.066180</td>\n",
       "      <td id=\"T_99b1f_row13_col8\" class=\"data row13 col8\" >-0.027503</td>\n",
       "      <td id=\"T_99b1f_row13_col9\" class=\"data row13 col9\" >0.152733</td>\n",
       "      <td id=\"T_99b1f_row13_col10\" class=\"data row13 col10\" >-0.106889</td>\n",
       "      <td id=\"T_99b1f_row13_col11\" class=\"data row13 col11\" >0.190906</td>\n",
       "      <td id=\"T_99b1f_row13_col12\" class=\"data row13 col12\" >0.158353</td>\n",
       "      <td id=\"T_99b1f_row13_col13\" class=\"data row13 col13\" >1.000000</td>\n",
       "      <td id=\"T_99b1f_row13_col14\" class=\"data row13 col14\" >-0.920345</td>\n",
       "      <td id=\"T_99b1f_row13_col15\" class=\"data row13 col15\" >0.909018</td>\n",
       "      <td id=\"T_99b1f_row13_col16\" class=\"data row13 col16\" >-0.009105</td>\n",
       "      <td id=\"T_99b1f_row13_col17\" class=\"data row13 col17\" >0.909018</td>\n",
       "      <td id=\"T_99b1f_row13_col18\" class=\"data row13 col18\" >-0.078786</td>\n",
       "    </tr>\n",
       "    <tr>\n",
       "      <th id=\"T_99b1f_level0_row14\" class=\"row_heading level0 row14\" >long</th>\n",
       "      <td id=\"T_99b1f_row14_col0\" class=\"data row14 col0\" >-0.075304</td>\n",
       "      <td id=\"T_99b1f_row14_col1\" class=\"data row14 col1\" >-0.076395</td>\n",
       "      <td id=\"T_99b1f_row14_col2\" class=\"data row14 col2\" >-0.076704</td>\n",
       "      <td id=\"T_99b1f_row14_col3\" class=\"data row14 col3\" >0.082937</td>\n",
       "      <td id=\"T_99b1f_row14_col4\" class=\"data row14 col4\" >0.106062</td>\n",
       "      <td id=\"T_99b1f_row14_col5\" class=\"data row14 col5\" >0.143488</td>\n",
       "      <td id=\"T_99b1f_row14_col6\" class=\"data row14 col6\" >-0.361188</td>\n",
       "      <td id=\"T_99b1f_row14_col7\" class=\"data row14 col7\" >-0.052846</td>\n",
       "      <td id=\"T_99b1f_row14_col8\" class=\"data row14 col8\" >0.017758</td>\n",
       "      <td id=\"T_99b1f_row14_col9\" class=\"data row14 col9\" >-0.206991</td>\n",
       "      <td id=\"T_99b1f_row14_col10\" class=\"data row14 col10\" >0.109876</td>\n",
       "      <td id=\"T_99b1f_row14_col11\" class=\"data row14 col11\" >-0.216615</td>\n",
       "      <td id=\"T_99b1f_row14_col12\" class=\"data row14 col12\" >-0.129743</td>\n",
       "      <td id=\"T_99b1f_row14_col13\" class=\"data row14 col13\" >-0.920345</td>\n",
       "      <td id=\"T_99b1f_row14_col14\" class=\"data row14 col14\" >1.000000</td>\n",
       "      <td id=\"T_99b1f_row14_col15\" class=\"data row14 col15\" >-0.961789</td>\n",
       "      <td id=\"T_99b1f_row14_col16\" class=\"data row14 col16\" >0.009648</td>\n",
       "      <td id=\"T_99b1f_row14_col17\" class=\"data row14 col17\" >-0.961789</td>\n",
       "      <td id=\"T_99b1f_row14_col18\" class=\"data row14 col18\" >0.007466</td>\n",
       "    </tr>\n",
       "    <tr>\n",
       "      <th id=\"T_99b1f_level0_row15\" class=\"row_heading level0 row15\" >countyid</th>\n",
       "      <td id=\"T_99b1f_row15_col0\" class=\"data row15 col0\" >0.097077</td>\n",
       "      <td id=\"T_99b1f_row15_col1\" class=\"data row15 col1\" >0.130237</td>\n",
       "      <td id=\"T_99b1f_row15_col2\" class=\"data row15 col2\" >0.135547</td>\n",
       "      <td id=\"T_99b1f_row15_col3\" class=\"data row15 col3\" >-0.054078</td>\n",
       "      <td id=\"T_99b1f_row15_col4\" class=\"data row15 col4\" >-0.105064</td>\n",
       "      <td id=\"T_99b1f_row15_col5\" class=\"data row15 col5\" >-0.138775</td>\n",
       "      <td id=\"T_99b1f_row15_col6\" class=\"data row15 col6\" >0.403971</td>\n",
       "      <td id=\"T_99b1f_row15_col7\" class=\"data row15 col7\" >0.089636</td>\n",
       "      <td id=\"T_99b1f_row15_col8\" class=\"data row15 col8\" >0.011849</td>\n",
       "      <td id=\"T_99b1f_row15_col9\" class=\"data row15 col9\" >0.184994</td>\n",
       "      <td id=\"T_99b1f_row15_col10\" class=\"data row15 col10\" >-0.108961</td>\n",
       "      <td id=\"T_99b1f_row15_col11\" class=\"data row15 col11\" >0.298308</td>\n",
       "      <td id=\"T_99b1f_row15_col12\" class=\"data row15 col12\" >0.149154</td>\n",
       "      <td id=\"T_99b1f_row15_col13\" class=\"data row15 col13\" >0.909018</td>\n",
       "      <td id=\"T_99b1f_row15_col14\" class=\"data row15 col14\" >-0.961789</td>\n",
       "      <td id=\"T_99b1f_row15_col15\" class=\"data row15 col15\" >1.000000</td>\n",
       "      <td id=\"T_99b1f_row15_col16\" class=\"data row15 col16\" >0.018111</td>\n",
       "      <td id=\"T_99b1f_row15_col17\" class=\"data row15 col17\" >1.000000</td>\n",
       "      <td id=\"T_99b1f_row15_col18\" class=\"data row15 col18\" >0.024931</td>\n",
       "    </tr>\n",
       "    <tr>\n",
       "      <th id=\"T_99b1f_level0_row16\" class=\"row_heading level0 row16\" >zip</th>\n",
       "      <td id=\"T_99b1f_row16_col0\" class=\"data row16 col0\" >-0.051227</td>\n",
       "      <td id=\"T_99b1f_row16_col1\" class=\"data row16 col1\" >-0.026345</td>\n",
       "      <td id=\"T_99b1f_row16_col2\" class=\"data row16 col2\" >-0.037724</td>\n",
       "      <td id=\"T_99b1f_row16_col3\" class=\"data row16 col3\" >-0.057543</td>\n",
       "      <td id=\"T_99b1f_row16_col4\" class=\"data row16 col4\" >0.010000</td>\n",
       "      <td id=\"T_99b1f_row16_col5\" class=\"data row16 col5\" >0.011030</td>\n",
       "      <td id=\"T_99b1f_row16_col6\" class=\"data row16 col6\" >-0.053068</td>\n",
       "      <td id=\"T_99b1f_row16_col7\" class=\"data row16 col7\" >-0.012524</td>\n",
       "      <td id=\"T_99b1f_row16_col8\" class=\"data row16 col8\" >-0.015672</td>\n",
       "      <td id=\"T_99b1f_row16_col9\" class=\"data row16 col9\" >-0.025454</td>\n",
       "      <td id=\"T_99b1f_row16_col10\" class=\"data row16 col10\" >-0.014481</td>\n",
       "      <td id=\"T_99b1f_row16_col11\" class=\"data row16 col11\" >0.021243</td>\n",
       "      <td id=\"T_99b1f_row16_col12\" class=\"data row16 col12\" >-0.001704</td>\n",
       "      <td id=\"T_99b1f_row16_col13\" class=\"data row16 col13\" >-0.009105</td>\n",
       "      <td id=\"T_99b1f_row16_col14\" class=\"data row16 col14\" >0.009648</td>\n",
       "      <td id=\"T_99b1f_row16_col15\" class=\"data row16 col15\" >0.018111</td>\n",
       "      <td id=\"T_99b1f_row16_col16\" class=\"data row16 col16\" >1.000000</td>\n",
       "      <td id=\"T_99b1f_row16_col17\" class=\"data row16 col17\" >0.018111</td>\n",
       "      <td id=\"T_99b1f_row16_col18\" class=\"data row16 col18\" >-0.026744</td>\n",
       "    </tr>\n",
       "    <tr>\n",
       "      <th id=\"T_99b1f_level0_row17\" class=\"row_heading level0 row17\" >fips</th>\n",
       "      <td id=\"T_99b1f_row17_col0\" class=\"data row17 col0\" >0.097077</td>\n",
       "      <td id=\"T_99b1f_row17_col1\" class=\"data row17 col1\" >0.130237</td>\n",
       "      <td id=\"T_99b1f_row17_col2\" class=\"data row17 col2\" >0.135547</td>\n",
       "      <td id=\"T_99b1f_row17_col3\" class=\"data row17 col3\" >-0.054078</td>\n",
       "      <td id=\"T_99b1f_row17_col4\" class=\"data row17 col4\" >-0.105064</td>\n",
       "      <td id=\"T_99b1f_row17_col5\" class=\"data row17 col5\" >-0.138775</td>\n",
       "      <td id=\"T_99b1f_row17_col6\" class=\"data row17 col6\" >0.403971</td>\n",
       "      <td id=\"T_99b1f_row17_col7\" class=\"data row17 col7\" >0.089636</td>\n",
       "      <td id=\"T_99b1f_row17_col8\" class=\"data row17 col8\" >0.011849</td>\n",
       "      <td id=\"T_99b1f_row17_col9\" class=\"data row17 col9\" >0.184994</td>\n",
       "      <td id=\"T_99b1f_row17_col10\" class=\"data row17 col10\" >-0.108961</td>\n",
       "      <td id=\"T_99b1f_row17_col11\" class=\"data row17 col11\" >0.298308</td>\n",
       "      <td id=\"T_99b1f_row17_col12\" class=\"data row17 col12\" >0.149154</td>\n",
       "      <td id=\"T_99b1f_row17_col13\" class=\"data row17 col13\" >0.909018</td>\n",
       "      <td id=\"T_99b1f_row17_col14\" class=\"data row17 col14\" >-0.961789</td>\n",
       "      <td id=\"T_99b1f_row17_col15\" class=\"data row17 col15\" >1.000000</td>\n",
       "      <td id=\"T_99b1f_row17_col16\" class=\"data row17 col16\" >0.018111</td>\n",
       "      <td id=\"T_99b1f_row17_col17\" class=\"data row17 col17\" >1.000000</td>\n",
       "      <td id=\"T_99b1f_row17_col18\" class=\"data row17 col18\" >0.024931</td>\n",
       "    </tr>\n",
       "    <tr>\n",
       "      <th id=\"T_99b1f_level0_row18\" class=\"row_heading level0 row18\" >taxvalue</th>\n",
       "      <td id=\"T_99b1f_row18_col0\" class=\"data row18 col0\" >0.210934</td>\n",
       "      <td id=\"T_99b1f_row18_col1\" class=\"data row18 col1\" >0.491879</td>\n",
       "      <td id=\"T_99b1f_row18_col2\" class=\"data row18 col2\" >0.562445</td>\n",
       "      <td id=\"T_99b1f_row18_col3\" class=\"data row18 col3\" >0.174491</td>\n",
       "      <td id=\"T_99b1f_row18_col4\" class=\"data row18 col4\" >0.123975</td>\n",
       "      <td id=\"T_99b1f_row18_col5\" class=\"data row18 col5\" >0.152419</td>\n",
       "      <td id=\"T_99b1f_row18_col6\" class=\"data row18 col6\" >0.225645</td>\n",
       "      <td id=\"T_99b1f_row18_col7\" class=\"data row18 col7\" >0.201860</td>\n",
       "      <td id=\"T_99b1f_row18_col8\" class=\"data row18 col8\" >0.165148</td>\n",
       "      <td id=\"T_99b1f_row18_col9\" class=\"data row18 col9\" >-0.027197</td>\n",
       "      <td id=\"T_99b1f_row18_col10\" class=\"data row18 col10\" >0.009550</td>\n",
       "      <td id=\"T_99b1f_row18_col11\" class=\"data row18 col11\" >0.297187</td>\n",
       "      <td id=\"T_99b1f_row18_col12\" class=\"data row18 col12\" >0.176980</td>\n",
       "      <td id=\"T_99b1f_row18_col13\" class=\"data row18 col13\" >-0.078786</td>\n",
       "      <td id=\"T_99b1f_row18_col14\" class=\"data row18 col14\" >0.007466</td>\n",
       "      <td id=\"T_99b1f_row18_col15\" class=\"data row18 col15\" >0.024931</td>\n",
       "      <td id=\"T_99b1f_row18_col16\" class=\"data row18 col16\" >-0.026744</td>\n",
       "      <td id=\"T_99b1f_row18_col17\" class=\"data row18 col17\" >0.024931</td>\n",
       "      <td id=\"T_99b1f_row18_col18\" class=\"data row18 col18\" >1.000000</td>\n",
       "    </tr>\n",
       "  </tbody>\n",
       "</table>\n"
      ],
      "text/plain": [
       "<pandas.io.formats.style.Styler at 0x10f009a00>"
      ]
     },
     "execution_count": 57,
     "metadata": {},
     "output_type": "execute_result"
    }
   ],
   "source": [
    "train.corr().style.background_gradient(cmap='coolwarm', vmin=-1, vmax=1)"
   ]
  },
  {
   "cell_type": "code",
   "execution_count": 58,
   "metadata": {},
   "outputs": [
    {
     "data": {
      "image/png": "[encoded data removed]",
      "text/plain": [
       "<Figure size 576x396 with 2 Axes>"
      ]
     },
     "metadata": {},
     "output_type": "display_data"
    },
    {
     "data": {
      "text/plain": [
       "<AxesSubplot:title={'center':'Covariance Ranking of 19 Features'}>"
      ]
     },
     "execution_count": 58,
     "metadata": {},
     "output_type": "execute_result"
    }
   ],
   "source": [
    "from yellowbrick.features import Rank2D\n",
    "\n",
    "visualizer = Rank2D(algorithm=\"covariance\")\n",
    "visualizer.fit_transform(train)\n",
    "visualizer.show()"
   ]
  },
  {
   "cell_type": "markdown",
   "metadata": {},
   "source": [
    "# What is the relationship between sqft living space vs tax value"
   ]
  },
  {
   "cell_type": "code",
   "execution_count": 59,
   "metadata": {},
   "outputs": [
    {
     "data": {
      "text/plain": [
       "Text(25, 120, 'r = 0.5624, p = 0.0000')"
      ]
     },
     "execution_count": 59,
     "metadata": {},
     "output_type": "execute_result"
    },
    {
     "data": {
      "image/png": "[encoded data removed]",
      "text/plain": [
       "<Figure size 936x504 with 1 Axes>"
      ]
     },
     "metadata": {},
     "output_type": "display_data"
    }
   ],
   "source": [
    "fig, axes = plt.subplots(figsize=(13, 7))\n",
    "\n",
    "r, p = stats.pearsonr(train.sqft_living, train.taxvalue)\n",
    "\n",
    "sns.scatterplot(data=train, x=train.sqft_living, y=train.taxvalue)\n",
    "axes.set(\n",
    "    xlabel='Sqft Living',\n",
    "    ylabel='tax value',\n",
    "    title='Sqft Living vs. tax value',\n",
    ")\n",
    "text = f'r = {r:.4f}, p = {p:.4f}'\n",
    "axes.text(25, 120, text, va='top', ha='right')"
   ]
  },
  {
   "cell_type": "code",
   "execution_count": 60,
   "metadata": {},
   "outputs": [
    {
     "data": {
      "text/plain": [
       "Text(25, 120, 'r = 0.5624, p = 0.0000')"
      ]
     },
     "execution_count": 60,
     "metadata": {},
     "output_type": "execute_result"
    },
    {
     "data": {
      "image/png": "[encoded data removed]",
      "text/plain": [
       "<Figure size 936x504 with 1 Axes>"
      ]
     },
     "metadata": {},
     "output_type": "display_data"
    }
   ],
   "source": [
    "fig, axes = plt.subplots(figsize=(13, 7))\n",
    "\n",
    "r, p = stats.pearsonr(train.sqft_living, train.taxvalue)\n",
    "\n",
    "sns.scatterplot(data=train, x=train.sqft_living, y=train.taxvalue)\n",
    "axes.set(\n",
    "    xlabel='Sqft Living',\n",
    "    ylabel='tax value',\n",
    "    title='Sqft Living vs. tax value',\n",
    ")\n",
    "text = f'r = {r:.4f}, p = {p:.4f}'\n",
    "axes.text(25, 120, text, va='top', ha='right')"
   ]
  },
  {
   "cell_type": "markdown",
   "metadata": {},
   "source": [
    "    Seems to be a strong relationship between sqft living space and tax value"
   ]
  },
  {
   "cell_type": "markdown",
   "metadata": {},
   "source": [
    "# What is the relationship between number of bedrooms vs tax value?"
   ]
  },
  {
   "cell_type": "code",
   "execution_count": 61,
   "metadata": {},
   "outputs": [
    {
     "data": {
      "text/plain": [
       "Text(25, 50, 'r = 0.2109, p = 0.0000')"
      ]
     },
     "execution_count": 61,
     "metadata": {},
     "output_type": "execute_result"
    },
    {
     "data": {
      "image/png": "[encoded data removed]",
      "text/plain": [
       "<Figure size 504x432 with 1 Axes>"
      ]
     },
     "metadata": {},
     "output_type": "display_data"
    }
   ],
   "source": [
    "fig, axes = plt.subplots(figsize=(7, 6))\n",
    "\n",
    "r, p = stats.pearsonr(train.bedrooms, train.taxvalue)\n",
    "\n",
    "sns.scatterplot(data=train, x=train.bedrooms, y=train.taxvalue)\n",
    "axes.set(\n",
    "    xlabel='Bedrooms',\n",
    "    ylabel='tax value',\n",
    "    title='Number of bedrooms vs. tax value',\n",
    ")\n",
    "text = f'r = {r:.4f}, p = {p:.4f}'\n",
    "axes.text(25, 50, text, va='top', ha='right')"
   ]
  },
  {
   "cell_type": "markdown",
   "metadata": {},
   "source": [
    "    Seems to be a weak relationship between number of bedrooms and tax value"
   ]
  },
  {
   "cell_type": "markdown",
   "metadata": {},
   "source": [
    "# What is the relationship between number of bathrooms vs tax value? "
   ]
  },
  {
   "cell_type": "code",
   "execution_count": 62,
   "metadata": {},
   "outputs": [
    {
     "data": {
      "text/plain": [
       "Text(25, 50, 'r = 0.4919, p = 0.0000')"
      ]
     },
     "execution_count": 62,
     "metadata": {},
     "output_type": "execute_result"
    },
    {
     "data": {
      "image/png": "[encoded data removed]",
      "text/plain": [
       "<Figure size 504x432 with 1 Axes>"
      ]
     },
     "metadata": {},
     "output_type": "display_data"
    }
   ],
   "source": [
    "fig, axes = plt.subplots(figsize=(7, 6))\n",
    "\n",
    "r, p = stats.pearsonr(train.bathrooms, train.taxvalue)\n",
    "\n",
    "sns.scatterplot(data=train, x=train.bathrooms, y=train.taxvalue)\n",
    "axes.set(\n",
    "    xlabel='Bathrooms',\n",
    "    ylabel='tax value',\n",
    "    title='Number of Bathrooms vs. tax value',\n",
    ")\n",
    "text = f'r = {r:.4f}, p = {p:.4f}'\n",
    "axes.text(25, 50, text, va='top', ha='right')"
   ]
  },
  {
   "cell_type": "markdown",
   "metadata": {},
   "source": [
    "    Seems to be a relationship between number of bathrooms and tax value"
   ]
  },
  {
   "cell_type": "markdown",
   "metadata": {},
   "source": [
    "# What is the relationship between pools with or without hot tubs and spas vs tax value?"
   ]
  },
  {
   "cell_type": "code",
   "execution_count": 63,
   "metadata": {},
   "outputs": [
    {
     "name": "stdout",
     "output_type": "stream",
     "text": [
      "r = 0.1745, p = 0.0000\n"
     ]
    },
    {
     "data": {
      "image/png": "[encoded data removed]",
      "text/plain": [
       "<Figure size 720x648 with 1 Axes>"
      ]
     },
     "metadata": {},
     "output_type": "display_data"
    }
   ],
   "source": [
    "fig, axes = plt.subplots(figsize=(10, 9))\n",
    "\n",
    "r, p = stats.pearsonr(train.num_pools, train.taxvalue)\n",
    "\n",
    "sns.scatterplot(data=train, x=train.num_pools, y=train.taxvalue, hue=train.has_hottub_or_spa)\n",
    "axes.set(\n",
    "    xlabel='pools',\n",
    "    ylabel='tax value',\n",
    "    title='pools vs. tax value',\n",
    ")\n",
    "text = f'r = {r:.4f}, p = {p:.4f}'\n",
    "print(text)\n"
   ]
  },
  {
   "cell_type": "markdown",
   "metadata": {},
   "source": [
    "    preprocessing "
   ]
  },
  {
   "cell_type": "code",
   "execution_count": 64,
   "metadata": {},
   "outputs": [],
   "source": [
    "preprocessing = eda.copy(deep=True)"
   ]
  },
  {
   "cell_type": "code",
   "execution_count": 65,
   "metadata": {},
   "outputs": [],
   "source": [
    "preprocessing_iqr = eda_iqr.copy(deep=True)"
   ]
  },
  {
   "cell_type": "markdown",
   "metadata": {},
   "source": [
    "    Robust scaling remove outliers using IQR 75% and 25%"
   ]
  },
  {
   "cell_type": "code",
   "execution_count": 66,
   "metadata": {},
   "outputs": [],
   "source": [
    "robust = eda.copy(deep=True)"
   ]
  },
  {
   "cell_type": "code",
   "execution_count": 67,
   "metadata": {},
   "outputs": [],
   "source": [
    "robust = robust.drop(columns=['lat','long'])"
   ]
  },
  {
   "cell_type": "code",
   "execution_count": 68,
   "metadata": {},
   "outputs": [],
   "source": [
    "robust.countyid = robust.countyid.astype('category')\n",
    "robust.zip = robust.zip.astype('category')\n",
    "robust.fips = robust.fips.astype('category')\n",
    "robust.ac_type = robust.ac_type.astype('category')\n",
    "robust.heating_type = robust.heating_type.astype('category')\n",
    "robust.has_hottub_or_spa = robust.has_hottub_or_spa.astype('category')\n",
    "robust.pool_w_spa_or_hottub = robust.pool_w_spa_or_hottub.astype('category')\n",
    "robust.numberofstories = robust.numberofstories.astype('category')\n",
    "robust.fireplaces = robust.fireplaces.astype('category')\n",
    "robust.bedrooms = robust.bedrooms.astype('category')\n",
    "robust.bathrooms = robust.bathrooms.astype('category')\n",
    "robust.garage_cars = robust.garage_cars.astype('category')\n",
    "robust.year_built = robust.year_built.astype('category')\n",
    "robust.num_pools = robust.num_pools.astype('category')"
   ]
  },
  {
   "cell_type": "code",
   "execution_count": 69,
   "metadata": {},
   "outputs": [
    {
     "data": {
      "text/plain": [
       "bedrooms                0\n",
       "bathrooms               0\n",
       "sqft_living             0\n",
       "num_pools               0\n",
       "pool_w_spa_or_hottub    0\n",
       "has_hottub_or_spa       0\n",
       "fireplaces              0\n",
       "garage_cars             0\n",
       "numberofstories         0\n",
       "ac_type                 0\n",
       "heating_type            0\n",
       "year_built              0\n",
       "sqft_lot                0\n",
       "countyid                0\n",
       "zip                     0\n",
       "fips                    0\n",
       "taxvalue                0\n",
       "dtype: int64"
      ]
     },
     "execution_count": 69,
     "metadata": {},
     "output_type": "execute_result"
    }
   ],
   "source": [
    "robust.isnull().sum()"
   ]
  },
  {
   "cell_type": "markdown",
   "metadata": {},
   "source": [
    "    Drop columns that are not needed for the model and that have negivate correlation to target"
   ]
  },
  {
   "cell_type": "code",
   "execution_count": 70,
   "metadata": {},
   "outputs": [],
   "source": [
    "preprocessing =  preprocessing.drop(columns=['lat', 'long'])"
   ]
  },
  {
   "cell_type": "code",
   "execution_count": 71,
   "metadata": {},
   "outputs": [],
   "source": [
    "preprocessing_iqr =  preprocessing_iqr.drop(columns=['lat', 'long'])"
   ]
  },
  {
   "cell_type": "code",
   "execution_count": 72,
   "metadata": {},
   "outputs": [],
   "source": [
    "preprocessing.countyid = preprocessing.countyid.astype('category')\n",
    "preprocessing.zip = preprocessing.zip.astype('category')\n",
    "preprocessing.fips = preprocessing.fips.astype('category')\n",
    "preprocessing.ac_type = preprocessing.ac_type.astype('category')\n",
    "preprocessing.heating_type = preprocessing.heating_type.astype('category')\n",
    "preprocessing.has_hottub_or_spa = preprocessing.has_hottub_or_spa.astype('category')\n",
    "preprocessing.pool_w_spa_or_hottub = preprocessing.pool_w_spa_or_hottub.astype('category')\n",
    "preprocessing.numberofstories = preprocessing.numberofstories.astype('category')\n",
    "preprocessing.fireplaces = preprocessing.fireplaces.astype('category')\n",
    "preprocessing.bedrooms = preprocessing.bedrooms.astype('category')\n",
    "preprocessing.bathrooms = preprocessing.bathrooms.astype('category')\n",
    "preprocessing.garage_cars = preprocessing.garage_cars.astype('category')\n",
    "preprocessing.year_built = preprocessing.year_built.astype('category')\n",
    "preprocessing.num_pools = preprocessing.num_pools.astype('category')\n",
    "\n",
    "\n"
   ]
  },
  {
   "cell_type": "code",
   "execution_count": 73,
   "metadata": {},
   "outputs": [],
   "source": [
    "preprocessing_iqr.countyid = preprocessing_iqr.countyid.astype('category')\n",
    "preprocessing_iqr.zip = preprocessing_iqr.zip.astype('category')\n",
    "preprocessing_iqr.fips = preprocessing_iqr.fips.astype('category')\n",
    "preprocessing_iqr.ac_type = preprocessing_iqr.ac_type.astype('category')\n",
    "preprocessing_iqr.heating_type = preprocessing_iqr.heating_type.astype('category')\n",
    "preprocessing_iqr.has_hottub_or_spa = preprocessing_iqr.has_hottub_or_spa.astype('category')\n",
    "preprocessing_iqr.pool_w_spa_or_hottub = preprocessing_iqr.pool_w_spa_or_hottub.astype('category')\n",
    "preprocessing_iqr.numberofstories = preprocessing_iqr.numberofstories.astype('category')\n",
    "preprocessing_iqr.fireplaces = preprocessing_iqr.fireplaces.astype('category')\n",
    "preprocessing_iqr.bedrooms = preprocessing_iqr.bedrooms.astype('category')\n",
    "preprocessing_iqr.bathrooms = preprocessing_iqr.bathrooms.astype('category')\n",
    "preprocessing_iqr.garage_cars = preprocessing_iqr.garage_cars.astype('category')\n",
    "preprocessing_iqr.year_built = preprocessing_iqr.year_built.astype('category')\n",
    "preprocessing_iqr.num_pools = preprocessing_iqr.num_pools.astype('category')"
   ]
  },
  {
   "cell_type": "code",
   "execution_count": 74,
   "metadata": {},
   "outputs": [],
   "source": [
    "train_and_validate, iqr_test = train_test_split(preprocessing_iqr, random_state=123, test_size=.2)\n",
    "iqr_train, iqr_validate = train_test_split(train_and_validate, random_state=123, test_size=.3)"
   ]
  },
  {
   "cell_type": "code",
   "execution_count": 75,
   "metadata": {},
   "outputs": [],
   "source": [
    "dummy_train = pd.get_dummies(iqr_train[['bedrooms', 'bathrooms', 'num_pools','pool_w_spa_or_hottub', 'has_hottub_or_spa', 'fireplaces','garage_cars', 'numberofstories', 'heating_type',\n",
    "    'ac_type','year_built','countyid', 'fips', 'zip']], drop_first=[True])\n",
    "dummy_validate = pd.get_dummies(iqr_validate[['bedrooms', 'bathrooms', 'num_pools','pool_w_spa_or_hottub', 'has_hottub_or_spa', 'fireplaces','garage_cars', 'numberofstories', 'heating_type',\n",
    "    'ac_type','year_built','countyid', 'fips', 'zip']], drop_first=[True])\n",
    "dummy_test = pd.get_dummies(iqr_test[['bedrooms', 'bathrooms', 'num_pools','pool_w_spa_or_hottub', 'has_hottub_or_spa', 'fireplaces','garage_cars', 'numberofstories', 'heating_type',\n",
    "    'ac_type','year_built','countyid', 'fips', 'zip']], drop_first=[True])\n",
    "# merge dummies with orginal dataframe\n",
    "iqr_train = pd.concat([iqr_train, dummy_train], axis=1)\n",
    "iqr_validate = pd.concat([iqr_validate, dummy_validate], axis=1)\n",
    "iqr_test = pd.concat([iqr_test, dummy_test], axis=1)\n",
    "# drop columns with corresponding dummies\n",
    "iqr_train = iqr_train.drop(columns=['bedrooms', 'bathrooms', 'num_pools','pool_w_spa_or_hottub', 'has_hottub_or_spa', 'fireplaces','garage_cars', 'numberofstories', 'heating_type',\n",
    "    'ac_type','year_built','countyid', 'fips', 'zip'])\n",
    "iqr_validate = iqr_validate.drop(columns=['bedrooms', 'bathrooms', 'num_pools','pool_w_spa_or_hottub', 'has_hottub_or_spa', 'fireplaces','garage_cars', 'numberofstories', 'heating_type',\n",
    "    'ac_type','year_built','countyid', 'fips', 'zip'])\n",
    "iqr_test = iqr_test.drop(columns=['bedrooms', 'bathrooms', 'num_pools','pool_w_spa_or_hottub', 'has_hottub_or_spa', 'fireplaces','garage_cars', 'numberofstories', 'heating_type',\n",
    "    'ac_type','year_built','countyid', 'fips', 'zip'])"
   ]
  },
  {
   "cell_type": "code",
   "execution_count": 76,
   "metadata": {},
   "outputs": [],
   "source": [
    "def scale_data(train, validate, test, return_scaler=False):\n",
    "    '''\n",
    "    Scales the 3 data splits.\n",
    "    \n",
    "    takes in the train, validate, and test data splits and returns their scaled counterparts.\n",
    "    \n",
    "    If return_scaler is true, the scaler object will be returned as well.\n",
    "    '''\n",
    "    columns_to_scale = ['sqft_living','sqft_lot']\n",
    "    \n",
    "    train_scaled = train.copy()\n",
    "    validate_scaled = validate.copy()\n",
    "    test_scaled = test.copy()\n",
    "    \n",
    "    scaler = MinMaxScaler()\n",
    "    scaler.fit(train[columns_to_scale])\n",
    "    \n",
    "    train_scaled[columns_to_scale] = scaler.transform(train[columns_to_scale])\n",
    "    validate_scaled[columns_to_scale] = scaler.transform(validate[columns_to_scale])\n",
    "    test_scaled[columns_to_scale] = scaler.transform(test[columns_to_scale])\n",
    "    \n",
    "    if return_scaler:\n",
    "        return scaler, train_scaled, validate_scaled, test_scaled\n",
    "    else:\n",
    "        return train_scaled, validate_scaled, test_scaled"
   ]
  },
  {
   "cell_type": "code",
   "execution_count": 77,
   "metadata": {},
   "outputs": [],
   "source": [
    "train_scaled_iqr, validate_scaled_iqr, test_scaled_iqr = scale_data(iqr_train, iqr_validate, iqr_test, return_scaler=False)"
   ]
  },
  {
   "cell_type": "code",
   "execution_count": 78,
   "metadata": {},
   "outputs": [],
   "source": [
    "def iqr_X_y(bs_train, bs_validate, bs_test):\n",
    "\n",
    "    # drop target data for X_train and assign target data for y_train\n",
    "    X_train = bs_train.drop(columns=['taxvalue'])\n",
    "    y_train = bs_train.taxvalue\n",
    "    # drop target data for X_validate and assign target data for y_validate\n",
    "    X_validate = bs_validate.drop(columns=['taxvalue'])\n",
    "    y_validate = bs_validate.taxvalue\n",
    "    # drop target data for X_test and assign target data for y_test \n",
    "    X_test = bs_test.drop(columns=['taxvalue'])\n",
    "    y_test = bs_test.taxvalue\n",
    "    \n",
    "        \n",
    "    return X_train, y_train, X_validate, y_validate, X_test, y_test"
   ]
  },
  {
   "cell_type": "code",
   "execution_count": 79,
   "metadata": {},
   "outputs": [],
   "source": [
    "X_train_iqr, y_train_iqr, X_validate_iqr, y_validate_iqr, X_test_iqr, y_test_iqr = iqr_X_y(train_scaled_iqr, validate_scaled_iqr, test_scaled_iqr)"
   ]
  },
  {
   "cell_type": "code",
   "execution_count": 80,
   "metadata": {},
   "outputs": [],
   "source": [
    "predictions_scale_iqr = pd.DataFrame({'actual': validate_scaled_iqr.taxvalue})"
   ]
  },
  {
   "cell_type": "code",
   "execution_count": 81,
   "metadata": {},
   "outputs": [
    {
     "data": {
      "text/html": [
       "<div>\n",
       "<style scoped>\n",
       "    .dataframe tbody tr th:only-of-type {\n",
       "        vertical-align: middle;\n",
       "    }\n",
       "\n",
       "    .dataframe tbody tr th {\n",
       "        vertical-align: top;\n",
       "    }\n",
       "\n",
       "    .dataframe thead th {\n",
       "        text-align: right;\n",
       "    }\n",
       "</style>\n",
       "<table border=\"1\" class=\"dataframe\">\n",
       "  <thead>\n",
       "    <tr style=\"text-align: right;\">\n",
       "      <th></th>\n",
       "      <th>actual</th>\n",
       "    </tr>\n",
       "  </thead>\n",
       "  <tbody>\n",
       "    <tr>\n",
       "      <th>4345</th>\n",
       "      <td>735000.0</td>\n",
       "    </tr>\n",
       "    <tr>\n",
       "      <th>8442</th>\n",
       "      <td>370802.0</td>\n",
       "    </tr>\n",
       "    <tr>\n",
       "      <th>6575</th>\n",
       "      <td>661587.0</td>\n",
       "    </tr>\n",
       "    <tr>\n",
       "      <th>3903</th>\n",
       "      <td>77450.0</td>\n",
       "    </tr>\n",
       "    <tr>\n",
       "      <th>8195</th>\n",
       "      <td>77348.0</td>\n",
       "    </tr>\n",
       "  </tbody>\n",
       "</table>\n",
       "</div>"
      ],
      "text/plain": [
       "        actual\n",
       "4345  735000.0\n",
       "8442  370802.0\n",
       "6575  661587.0\n",
       "3903   77450.0\n",
       "8195   77348.0"
      ]
     },
     "execution_count": 81,
     "metadata": {},
     "output_type": "execute_result"
    }
   ],
   "source": [
    "predictions_scale_iqr.head()"
   ]
  },
  {
   "cell_type": "code",
   "execution_count": 82,
   "metadata": {},
   "outputs": [
    {
     "data": {
      "text/html": [
       "<div>\n",
       "<style scoped>\n",
       "    .dataframe tbody tr th:only-of-type {\n",
       "        vertical-align: middle;\n",
       "    }\n",
       "\n",
       "    .dataframe tbody tr th {\n",
       "        vertical-align: top;\n",
       "    }\n",
       "\n",
       "    .dataframe thead th {\n",
       "        text-align: right;\n",
       "    }\n",
       "</style>\n",
       "<table border=\"1\" class=\"dataframe\">\n",
       "  <thead>\n",
       "    <tr style=\"text-align: right;\">\n",
       "      <th></th>\n",
       "      <th>r2</th>\n",
       "      <th>mse</th>\n",
       "      <th>rmse</th>\n",
       "    </tr>\n",
       "  </thead>\n",
       "  <tbody>\n",
       "    <tr>\n",
       "      <th>actual</th>\n",
       "      <td>1.0</td>\n",
       "      <td>0.0</td>\n",
       "      <td>0.0</td>\n",
       "    </tr>\n",
       "  </tbody>\n",
       "</table>\n",
       "</div>"
      ],
      "text/plain": [
       "         r2  mse  rmse\n",
       "actual  1.0  0.0   0.0"
      ]
     },
     "execution_count": 82,
     "metadata": {},
     "output_type": "execute_result"
    }
   ],
   "source": [
    "pd.concat([\n",
    "    predictions_scale_iqr.apply(lambda col: r2_score(predictions_scale_iqr.actual, col)).rename('r2'),\n",
    "    predictions_scale_iqr.apply(lambda col: mean_squared_error(predictions_scale_iqr.actual, col)).rename('mse'),\n",
    "], axis=1).assign(\n",
    "    rmse=lambda df: df.mse.apply(math.sqrt)\n",
    ")"
   ]
  },
  {
   "cell_type": "code",
   "execution_count": 83,
   "metadata": {},
   "outputs": [
    {
     "data": {
      "text/plain": [
       "0.36733228742274093"
      ]
     },
     "execution_count": 83,
     "metadata": {},
     "output_type": "execute_result"
    }
   ],
   "source": [
    "model = Ridge()\n",
    "model.fit(X_train_iqr, y_train_iqr)\n",
    "predictions_scale_iqr['Ridge'] = model.predict(X_validate_iqr)\n",
    "model.score(X_train_iqr, y_train_iqr)"
   ]
  },
  {
   "cell_type": "code",
   "execution_count": 84,
   "metadata": {},
   "outputs": [
    {
     "name": "stdout",
     "output_type": "stream",
     "text": [
      "<class 'pandas.core.frame.DataFrame'>\n",
      "Int64Index: 14469 entries, 0 to 14472\n",
      "Data columns (total 17 columns):\n",
      " #   Column                Non-Null Count  Dtype   \n",
      "---  ------                --------------  -----   \n",
      " 0   bedrooms              14469 non-null  category\n",
      " 1   bathrooms             14469 non-null  category\n",
      " 2   sqft_living           14469 non-null  float64 \n",
      " 3   num_pools             14469 non-null  category\n",
      " 4   pool_w_spa_or_hottub  14469 non-null  category\n",
      " 5   has_hottub_or_spa     14469 non-null  category\n",
      " 6   fireplaces            14469 non-null  category\n",
      " 7   garage_cars           14469 non-null  category\n",
      " 8   numberofstories       14469 non-null  category\n",
      " 9   ac_type               14469 non-null  category\n",
      " 10  heating_type          14469 non-null  category\n",
      " 11  year_built            14469 non-null  category\n",
      " 12  sqft_lot              14469 non-null  float64 \n",
      " 13  countyid              14469 non-null  category\n",
      " 14  zip                   14469 non-null  category\n",
      " 15  fips                  14469 non-null  category\n",
      " 16  taxvalue              14469 non-null  float64 \n",
      "dtypes: category(14), float64(3)\n",
      "memory usage: 662.9 KB\n"
     ]
    }
   ],
   "source": [
    "preprocessing.info()"
   ]
  },
  {
   "cell_type": "markdown",
   "metadata": {},
   "source": [
    "    baseline "
   ]
  },
  {
   "cell_type": "code",
   "execution_count": 85,
   "metadata": {},
   "outputs": [],
   "source": [
    "baseline = eda.copy(deep=True)"
   ]
  },
  {
   "cell_type": "code",
   "execution_count": 86,
   "metadata": {},
   "outputs": [],
   "source": [
    "baseline =  baseline.drop(columns=['lat', 'long'])"
   ]
  },
  {
   "cell_type": "code",
   "execution_count": 87,
   "metadata": {},
   "outputs": [
    {
     "data": {
      "text/plain": [
       "Index(['bedrooms', 'bathrooms', 'sqft_living', 'num_pools',\n",
       "       'pool_w_spa_or_hottub', 'has_hottub_or_spa', 'fireplaces',\n",
       "       'garage_cars', 'numberofstories', 'ac_type', 'heating_type',\n",
       "       'year_built', 'sqft_lot', 'countyid', 'zip', 'fips', 'taxvalue'],\n",
       "      dtype='object')"
      ]
     },
     "execution_count": 87,
     "metadata": {},
     "output_type": "execute_result"
    }
   ],
   "source": [
    "baseline.columns"
   ]
  },
  {
   "cell_type": "code",
   "execution_count": 88,
   "metadata": {},
   "outputs": [],
   "source": [
    "baseline.countyid = baseline.countyid.astype('category')\n",
    "baseline.zip = baseline.zip.astype('category')\n",
    "baseline.fips = baseline.fips.astype('category')\n",
    "baseline.ac_type = baseline.ac_type.astype('category')\n",
    "baseline.heating_type = baseline.heating_type.astype('category')\n",
    "baseline.has_hottub_or_spa = baseline.has_hottub_or_spa.astype('category')\n",
    "baseline.pool_w_spa_or_hottub = baseline.pool_w_spa_or_hottub.astype('category')\n",
    "baseline.numberofstories = baseline.numberofstories.astype('category')\n"
   ]
  },
  {
   "cell_type": "code",
   "execution_count": 89,
   "metadata": {},
   "outputs": [],
   "source": [
    "train_and_validate, bs_test = train_test_split(baseline, random_state=123, test_size=.2)\n",
    "bs_train, bs_validate = train_test_split(train_and_validate, random_state=123, test_size=.3)"
   ]
  },
  {
   "cell_type": "code",
   "execution_count": 90,
   "metadata": {},
   "outputs": [],
   "source": [
    "dummy_train = pd.get_dummies(bs_train[['countyid', 'zip', 'fips', 'ac_type', 'heating_type', 'has_hottub_or_spa', 'numberofstories']], drop_first=[True])\n",
    "dummy_validate = pd.get_dummies(bs_validate[['countyid', 'zip', 'fips', 'ac_type', 'heating_type', 'has_hottub_or_spa', 'numberofstories']], drop_first=[True])\n",
    "dummy_test = pd.get_dummies(bs_test[['countyid', 'zip', 'fips', 'ac_type', 'heating_type', 'has_hottub_or_spa', 'numberofstories']], drop_first=[True])\n",
    "# merge dummies with orginal dataframe\n",
    "bs_train = pd.concat([bs_train, dummy_train], axis=1)\n",
    "bs_validate = pd.concat([bs_validate, dummy_validate], axis=1)\n",
    "bs_test = pd.concat([bs_test, dummy_test], axis=1)\n",
    "# drop columns with corresponding dummies\n",
    "bs_train = bs_train.drop(columns=['countyid', 'zip', 'fips', 'ac_type', 'heating_type', 'has_hottub_or_spa', 'numberofstories'])\n",
    "bs_validate = bs_validate.drop(columns=['countyid', 'zip', 'fips', 'ac_type', 'heating_type', 'has_hottub_or_spa', 'numberofstories'])\n",
    "bs_test = bs_test.drop(columns=['countyid', 'zip', 'fips', 'ac_type', 'heating_type', 'has_hottub_or_spa', 'numberofstories'])"
   ]
  },
  {
   "cell_type": "code",
   "execution_count": 91,
   "metadata": {},
   "outputs": [],
   "source": [
    "def bs_X_y(bs_train, bs_validate, bs_test):\n",
    "\n",
    "    # drop target data for X_train and assign target data for y_train\n",
    "    X_train = bs_train.drop(columns=['taxvalue'])\n",
    "    y_train = bs_train.taxvalue\n",
    "    # drop target data for X_validate and assign target data for y_validate\n",
    "    X_validate = bs_validate.drop(columns=['taxvalue'])\n",
    "    y_validate = bs_validate.taxvalue\n",
    "    # drop target data for X_test and assign target data for y_test \n",
    "    X_test = bs_test.drop(columns=['taxvalue'])\n",
    "    y_test = bs_test.taxvalue\n",
    "    \n",
    "        \n",
    "    return X_train, y_train, X_validate, y_validate, X_test, y_test"
   ]
  },
  {
   "cell_type": "code",
   "execution_count": 92,
   "metadata": {},
   "outputs": [],
   "source": [
    "X_train, y_train, X_validate, y_validate, X_test, y_test = bs_X_y(bs_train, bs_validate, bs_test)"
   ]
  },
  {
   "cell_type": "markdown",
   "metadata": {},
   "source": [
    "    Baseline w/ no feature selection, scaling, and outliers removal"
   ]
  },
  {
   "cell_type": "code",
   "execution_count": 93,
   "metadata": {},
   "outputs": [],
   "source": [
    "predictions = pd.DataFrame({'actual': validate.taxvalue})"
   ]
  },
  {
   "cell_type": "code",
   "execution_count": 94,
   "metadata": {},
   "outputs": [],
   "source": [
    "predictions_scale = pd.DataFrame({'actual': validate.taxvalue})"
   ]
  },
  {
   "cell_type": "markdown",
   "metadata": {},
   "source": [
    "    baseline based on median of target (taxvalue)"
   ]
  },
  {
   "cell_type": "code",
   "execution_count": 95,
   "metadata": {},
   "outputs": [],
   "source": [
    "predictions['baseline'] = train.taxvalue.median()"
   ]
  },
  {
   "cell_type": "markdown",
   "metadata": {},
   "source": [
    "    make simple model LinearRegression"
   ]
  },
  {
   "cell_type": "code",
   "execution_count": 96,
   "metadata": {},
   "outputs": [
    {
     "data": {
      "text/plain": [
       "0.316344184915749"
      ]
     },
     "execution_count": 96,
     "metadata": {},
     "output_type": "execute_result"
    }
   ],
   "source": [
    "X_train_sm = train[['sqft_living']]\n",
    "X_validate_sm  = validate[['sqft_living']]\n",
    "y_train_sm = train.taxvalue\n",
    "\n",
    "\n",
    "\n",
    "lm = LinearRegression()\n",
    "rfe = RFE(lm, n_features_to_select=4)\n",
    "lm.fit(X_train_sm, y_train_sm)\n",
    "predictions['simple_lm'] = lm.predict(X_validate_sm)\n",
    "lm.score(X_train_sm, y_train_sm)"
   ]
  },
  {
   "cell_type": "code",
   "execution_count": 119,
   "metadata": {},
   "outputs": [
    {
     "data": {
      "text/html": [
       "<div>\n",
       "<style scoped>\n",
       "    .dataframe tbody tr th:only-of-type {\n",
       "        vertical-align: middle;\n",
       "    }\n",
       "\n",
       "    .dataframe tbody tr th {\n",
       "        vertical-align: top;\n",
       "    }\n",
       "\n",
       "    .dataframe thead th {\n",
       "        text-align: right;\n",
       "    }\n",
       "</style>\n",
       "<table border=\"1\" class=\"dataframe\">\n",
       "  <thead>\n",
       "    <tr style=\"text-align: right;\">\n",
       "      <th></th>\n",
       "      <th>actual</th>\n",
       "      <th>baseline</th>\n",
       "      <th>simple_lm</th>\n",
       "      <th>multiple regr</th>\n",
       "      <th>scale_multiple_regr</th>\n",
       "      <th>DecisionTree</th>\n",
       "      <th>ExtraTree</th>\n",
       "      <th>SGDRegressor</th>\n",
       "      <th>BayesianRidge</th>\n",
       "      <th>KNeighborsRegressor</th>\n",
       "      <th>Ridge</th>\n",
       "      <th>SVR</th>\n",
       "    </tr>\n",
       "  </thead>\n",
       "  <tbody>\n",
       "    <tr>\n",
       "      <th>6146</th>\n",
       "      <td>973890.0</td>\n",
       "      <td>410190.0</td>\n",
       "      <td>1.272427e+06</td>\n",
       "      <td>1.817546e+06</td>\n",
       "      <td>1.726403e+06</td>\n",
       "      <td>1108000.0</td>\n",
       "      <td>2360402.200</td>\n",
       "      <td>3.056221e+16</td>\n",
       "      <td>1.274940e+06</td>\n",
       "      <td>2813557.0</td>\n",
       "      <td>1.740418e+06</td>\n",
       "      <td>1.740418e+06</td>\n",
       "    </tr>\n",
       "    <tr>\n",
       "      <th>11722</th>\n",
       "      <td>167725.0</td>\n",
       "      <td>410190.0</td>\n",
       "      <td>2.911690e+05</td>\n",
       "      <td>4.419140e+05</td>\n",
       "      <td>4.703497e+05</td>\n",
       "      <td>593921.0</td>\n",
       "      <td>443065.250</td>\n",
       "      <td>2.197101e+16</td>\n",
       "      <td>2.910759e+05</td>\n",
       "      <td>364979.6</td>\n",
       "      <td>4.651986e+05</td>\n",
       "      <td>4.651986e+05</td>\n",
       "    </tr>\n",
       "    <tr>\n",
       "      <th>13643</th>\n",
       "      <td>317147.0</td>\n",
       "      <td>410190.0</td>\n",
       "      <td>4.438989e+05</td>\n",
       "      <td>4.210354e+05</td>\n",
       "      <td>4.230044e+05</td>\n",
       "      <td>279209.0</td>\n",
       "      <td>534233.890</td>\n",
       "      <td>3.201889e+16</td>\n",
       "      <td>4.437116e+05</td>\n",
       "      <td>357602.4</td>\n",
       "      <td>4.219332e+05</td>\n",
       "      <td>4.219332e+05</td>\n",
       "    </tr>\n",
       "    <tr>\n",
       "      <th>3338</th>\n",
       "      <td>601000.0</td>\n",
       "      <td>410190.0</td>\n",
       "      <td>3.094842e+05</td>\n",
       "      <td>2.743488e+05</td>\n",
       "      <td>2.623687e+05</td>\n",
       "      <td>575646.0</td>\n",
       "      <td>385075.735</td>\n",
       "      <td>1.885791e+16</td>\n",
       "      <td>3.096723e+05</td>\n",
       "      <td>433198.8</td>\n",
       "      <td>2.612664e+05</td>\n",
       "      <td>2.612664e+05</td>\n",
       "    </tr>\n",
       "    <tr>\n",
       "      <th>13356</th>\n",
       "      <td>649760.0</td>\n",
       "      <td>410190.0</td>\n",
       "      <td>4.864273e+05</td>\n",
       "      <td>3.666512e+05</td>\n",
       "      <td>3.993883e+05</td>\n",
       "      <td>551273.0</td>\n",
       "      <td>373084.490</td>\n",
       "      <td>3.620541e+16</td>\n",
       "      <td>4.861065e+05</td>\n",
       "      <td>237807.6</td>\n",
       "      <td>4.007596e+05</td>\n",
       "      <td>4.007596e+05</td>\n",
       "    </tr>\n",
       "  </tbody>\n",
       "</table>\n",
       "</div>"
      ],
      "text/plain": [
       "         actual  baseline     simple_lm  multiple regr  scale_multiple_regr  \\\n",
       "6146   973890.0  410190.0  1.272427e+06   1.817546e+06         1.726403e+06   \n",
       "11722  167725.0  410190.0  2.911690e+05   4.419140e+05         4.703497e+05   \n",
       "13643  317147.0  410190.0  4.438989e+05   4.210354e+05         4.230044e+05   \n",
       "3338   601000.0  410190.0  3.094842e+05   2.743488e+05         2.623687e+05   \n",
       "13356  649760.0  410190.0  4.864273e+05   3.666512e+05         3.993883e+05   \n",
       "\n",
       "       DecisionTree    ExtraTree  SGDRegressor  BayesianRidge  \\\n",
       "6146      1108000.0  2360402.200  3.056221e+16   1.274940e+06   \n",
       "11722      593921.0   443065.250  2.197101e+16   2.910759e+05   \n",
       "13643      279209.0   534233.890  3.201889e+16   4.437116e+05   \n",
       "3338       575646.0   385075.735  1.885791e+16   3.096723e+05   \n",
       "13356      551273.0   373084.490  3.620541e+16   4.861065e+05   \n",
       "\n",
       "       KNeighborsRegressor         Ridge           SVR  \n",
       "6146             2813557.0  1.740418e+06  1.740418e+06  \n",
       "11722             364979.6  4.651986e+05  4.651986e+05  \n",
       "13643             357602.4  4.219332e+05  4.219332e+05  \n",
       "3338              433198.8  2.612664e+05  2.612664e+05  \n",
       "13356             237807.6  4.007596e+05  4.007596e+05  "
      ]
     },
     "execution_count": 119,
     "metadata": {},
     "output_type": "execute_result"
    }
   ],
   "source": [
    "predictions.head()"
   ]
  },
  {
   "cell_type": "code",
   "execution_count": 120,
   "metadata": {},
   "outputs": [
    {
     "data": {
      "text/html": [
       "<div>\n",
       "<style scoped>\n",
       "    .dataframe tbody tr th:only-of-type {\n",
       "        vertical-align: middle;\n",
       "    }\n",
       "\n",
       "    .dataframe tbody tr th {\n",
       "        vertical-align: top;\n",
       "    }\n",
       "\n",
       "    .dataframe thead th {\n",
       "        text-align: right;\n",
       "    }\n",
       "</style>\n",
       "<table border=\"1\" class=\"dataframe\">\n",
       "  <thead>\n",
       "    <tr style=\"text-align: right;\">\n",
       "      <th></th>\n",
       "      <th>r2</th>\n",
       "      <th>mse</th>\n",
       "      <th>rmse</th>\n",
       "    </tr>\n",
       "  </thead>\n",
       "  <tbody>\n",
       "    <tr>\n",
       "      <th>actual</th>\n",
       "      <td>1.000000e+00</td>\n",
       "      <td>0.000000e+00</td>\n",
       "      <td>0.000000e+00</td>\n",
       "    </tr>\n",
       "    <tr>\n",
       "      <th>baseline</th>\n",
       "      <td>-2.876567e-02</td>\n",
       "      <td>2.356057e+11</td>\n",
       "      <td>4.853923e+05</td>\n",
       "    </tr>\n",
       "    <tr>\n",
       "      <th>simple_lm</th>\n",
       "      <td>3.304373e-01</td>\n",
       "      <td>1.533418e+11</td>\n",
       "      <td>3.915888e+05</td>\n",
       "    </tr>\n",
       "    <tr>\n",
       "      <th>multiple regr</th>\n",
       "      <td>5.127963e-01</td>\n",
       "      <td>1.115783e+11</td>\n",
       "      <td>3.340334e+05</td>\n",
       "    </tr>\n",
       "    <tr>\n",
       "      <th>scale_multiple_regr</th>\n",
       "      <td>5.230320e-01</td>\n",
       "      <td>1.092342e+11</td>\n",
       "      <td>3.305059e+05</td>\n",
       "    </tr>\n",
       "    <tr>\n",
       "      <th>DecisionTree</th>\n",
       "      <td>1.272898e-01</td>\n",
       "      <td>1.998662e+11</td>\n",
       "      <td>4.470640e+05</td>\n",
       "    </tr>\n",
       "    <tr>\n",
       "      <th>ExtraTree</th>\n",
       "      <td>4.517240e-01</td>\n",
       "      <td>1.255650e+11</td>\n",
       "      <td>3.543515e+05</td>\n",
       "    </tr>\n",
       "    <tr>\n",
       "      <th>SGDRegressor</th>\n",
       "      <td>-2.203420e+22</td>\n",
       "      <td>5.046225e+33</td>\n",
       "      <td>7.103679e+16</td>\n",
       "    </tr>\n",
       "    <tr>\n",
       "      <th>BayesianRidge</th>\n",
       "      <td>3.302258e-01</td>\n",
       "      <td>1.533902e+11</td>\n",
       "      <td>3.916507e+05</td>\n",
       "    </tr>\n",
       "    <tr>\n",
       "      <th>KNeighborsRegressor</th>\n",
       "      <td>2.566861e-01</td>\n",
       "      <td>1.702321e+11</td>\n",
       "      <td>4.125920e+05</td>\n",
       "    </tr>\n",
       "    <tr>\n",
       "      <th>Ridge</th>\n",
       "      <td>5.263355e-01</td>\n",
       "      <td>1.084776e+11</td>\n",
       "      <td>3.293594e+05</td>\n",
       "    </tr>\n",
       "    <tr>\n",
       "      <th>SVR</th>\n",
       "      <td>5.263355e-01</td>\n",
       "      <td>1.084776e+11</td>\n",
       "      <td>3.293594e+05</td>\n",
       "    </tr>\n",
       "  </tbody>\n",
       "</table>\n",
       "</div>"
      ],
      "text/plain": [
       "                               r2           mse          rmse\n",
       "actual               1.000000e+00  0.000000e+00  0.000000e+00\n",
       "baseline            -2.876567e-02  2.356057e+11  4.853923e+05\n",
       "simple_lm            3.304373e-01  1.533418e+11  3.915888e+05\n",
       "multiple regr        5.127963e-01  1.115783e+11  3.340334e+05\n",
       "scale_multiple_regr  5.230320e-01  1.092342e+11  3.305059e+05\n",
       "DecisionTree         1.272898e-01  1.998662e+11  4.470640e+05\n",
       "ExtraTree            4.517240e-01  1.255650e+11  3.543515e+05\n",
       "SGDRegressor        -2.203420e+22  5.046225e+33  7.103679e+16\n",
       "BayesianRidge        3.302258e-01  1.533902e+11  3.916507e+05\n",
       "KNeighborsRegressor  2.566861e-01  1.702321e+11  4.125920e+05\n",
       "Ridge                5.263355e-01  1.084776e+11  3.293594e+05\n",
       "SVR                  5.263355e-01  1.084776e+11  3.293594e+05"
      ]
     },
     "execution_count": 120,
     "metadata": {},
     "output_type": "execute_result"
    }
   ],
   "source": [
    "pd.concat([\n",
    "    predictions.apply(lambda col: r2_score(predictions.actual, col)).rename('r2'),\n",
    "    predictions.apply(lambda col: mean_squared_error(predictions.actual, col)).rename('mse'),\n",
    "], axis=1).assign(\n",
    "    rmse=lambda df: df.mse.apply(math.sqrt)\n",
    ")\n",
    "\n"
   ]
  },
  {
   "cell_type": "code",
   "execution_count": 121,
   "metadata": {},
   "outputs": [
    {
     "name": "stdout",
     "output_type": "stream",
     "text": [
      "taxvalue = 310.427 x sqft_living + -108970.737\n"
     ]
    }
   ],
   "source": [
    "m, b = lm.coef_[0], lm.intercept_\n",
    "print(f'taxvalue = {m:.3f} x sqft_living + {b:.3f}')"
   ]
  },
  {
   "cell_type": "markdown",
   "metadata": {},
   "source": [
    "    Linear Regression model/all features "
   ]
  },
  {
   "cell_type": "code",
   "execution_count": 100,
   "metadata": {},
   "outputs": [
    {
     "data": {
      "text/plain": [
       "0.5043016741857835"
      ]
     },
     "execution_count": 100,
     "metadata": {},
     "output_type": "execute_result"
    }
   ],
   "source": [
    "model = LinearRegression()\n",
    "model.fit(X_train, y_train)\n",
    "predictions['multiple regr'] = model.predict(X_validate)\n",
    "model.score(X_train, y_train)"
   ]
  },
  {
   "cell_type": "markdown",
   "metadata": {},
   "source": [
    "    Linear Regression model/all features w/ scaled features"
   ]
  },
  {
   "cell_type": "code",
   "execution_count": 101,
   "metadata": {},
   "outputs": [],
   "source": [
    "train_and_validate, scale_test = train_test_split(preprocessing, random_state=123, test_size=.2)\n",
    "scale_train, scale_validate = train_test_split(train_and_validate, random_state=123, test_size=.3)"
   ]
  },
  {
   "cell_type": "code",
   "execution_count": 102,
   "metadata": {},
   "outputs": [
    {
     "data": {
      "text/plain": [
       "Index(['bedrooms', 'bathrooms', 'sqft_living', 'num_pools',\n",
       "       'pool_w_spa_or_hottub', 'has_hottub_or_spa', 'fireplaces',\n",
       "       'garage_cars', 'numberofstories', 'ac_type', 'heating_type',\n",
       "       'year_built', 'sqft_lot', 'countyid', 'zip', 'fips', 'taxvalue'],\n",
       "      dtype='object')"
      ]
     },
     "execution_count": 102,
     "metadata": {},
     "output_type": "execute_result"
    }
   ],
   "source": [
    "preprocessing.columns"
   ]
  },
  {
   "cell_type": "code",
   "execution_count": 103,
   "metadata": {},
   "outputs": [],
   "source": [
    "dummy_train = pd.get_dummies(scale_test[['bedrooms', 'bathrooms', 'num_pools','pool_w_spa_or_hottub', 'has_hottub_or_spa', 'fireplaces','garage_cars', 'numberofstories', 'heating_type',\n",
    "    'ac_type','year_built','countyid', 'fips', 'zip']], drop_first=[True])\n",
    "dummy_validate = pd.get_dummies(scale_validate[['bedrooms', 'bathrooms', 'num_pools','pool_w_spa_or_hottub', 'has_hottub_or_spa', 'fireplaces','garage_cars', 'numberofstories','heating_type',\n",
    "    'ac_type','year_built','countyid', 'fips', 'zip']], drop_first=[True])\n",
    "dummy_test = pd.get_dummies(scale_train[['bedrooms', 'bathrooms', 'num_pools','pool_w_spa_or_hottub', 'has_hottub_or_spa', 'fireplaces','garage_cars', 'numberofstories', 'heating_type',\n",
    "    'ac_type','year_built','countyid', 'fips', 'zip']], drop_first=[True])\n",
    "# merge dummies with orginal dataframe\n",
    "scale_test = pd.concat([scale_test, dummy_train], axis=1)\n",
    "scale_validate = pd.concat([scale_validate, dummy_validate], axis=1)\n",
    "scale_train = pd.concat([scale_train, dummy_test], axis=1)\n",
    "# drop columns with corresponding dummies\n",
    "scale_test = scale_test.drop(columns=['bedrooms', 'bathrooms', 'num_pools','pool_w_spa_or_hottub', 'has_hottub_or_spa', 'fireplaces','garage_cars', 'numberofstories', 'heating_type',\n",
    "    'ac_type','year_built','countyid', 'fips','zip'])\n",
    "scale_validate = scale_validate.drop(columns=['bedrooms', 'bathrooms', 'num_pools','pool_w_spa_or_hottub', 'has_hottub_or_spa', 'fireplaces','garage_cars', 'numberofstories', 'heating_type',\n",
    "    'ac_type','year_built','countyid', 'fips','zip'])\n",
    "scale_train = scale_train.drop(columns=['bedrooms', 'bathrooms', 'num_pools','pool_w_spa_or_hottub', 'has_hottub_or_spa', 'fireplaces','garage_cars', 'numberofstories', 'heating_type',\n",
    "    'ac_type','year_built','countyid', 'fips', 'zip'])"
   ]
  },
  {
   "cell_type": "code",
   "execution_count": 104,
   "metadata": {},
   "outputs": [
    {
     "data": {
      "text/html": [
       "<div>\n",
       "<style scoped>\n",
       "    .dataframe tbody tr th:only-of-type {\n",
       "        vertical-align: middle;\n",
       "    }\n",
       "\n",
       "    .dataframe tbody tr th {\n",
       "        vertical-align: top;\n",
       "    }\n",
       "\n",
       "    .dataframe thead th {\n",
       "        text-align: right;\n",
       "    }\n",
       "</style>\n",
       "<table border=\"1\" class=\"dataframe\">\n",
       "  <thead>\n",
       "    <tr style=\"text-align: right;\">\n",
       "      <th></th>\n",
       "      <th>sqft_living</th>\n",
       "      <th>sqft_lot</th>\n",
       "      <th>taxvalue</th>\n",
       "      <th>bedrooms_2.0</th>\n",
       "      <th>bedrooms_3.0</th>\n",
       "      <th>bedrooms_4.0</th>\n",
       "      <th>bedrooms_5.0</th>\n",
       "      <th>bedrooms_6.0</th>\n",
       "      <th>bedrooms_7.0</th>\n",
       "      <th>bedrooms_8.0</th>\n",
       "      <th>...</th>\n",
       "      <th>zip_97101.0</th>\n",
       "      <th>zip_97104.0</th>\n",
       "      <th>zip_97106.0</th>\n",
       "      <th>zip_97107.0</th>\n",
       "      <th>zip_97108.0</th>\n",
       "      <th>zip_97109.0</th>\n",
       "      <th>zip_97113.0</th>\n",
       "      <th>zip_97116.0</th>\n",
       "      <th>zip_97118.0</th>\n",
       "      <th>zip_97119.0</th>\n",
       "    </tr>\n",
       "  </thead>\n",
       "  <tbody>\n",
       "    <tr>\n",
       "      <th>1081</th>\n",
       "      <td>1289.0</td>\n",
       "      <td>6000.0</td>\n",
       "      <td>141623.0</td>\n",
       "      <td>0</td>\n",
       "      <td>1</td>\n",
       "      <td>0</td>\n",
       "      <td>0</td>\n",
       "      <td>0</td>\n",
       "      <td>0</td>\n",
       "      <td>0</td>\n",
       "      <td>...</td>\n",
       "      <td>0</td>\n",
       "      <td>0</td>\n",
       "      <td>0</td>\n",
       "      <td>0</td>\n",
       "      <td>0</td>\n",
       "      <td>0</td>\n",
       "      <td>0</td>\n",
       "      <td>0</td>\n",
       "      <td>0</td>\n",
       "      <td>0</td>\n",
       "    </tr>\n",
       "    <tr>\n",
       "      <th>610</th>\n",
       "      <td>1823.0</td>\n",
       "      <td>6600.0</td>\n",
       "      <td>432903.0</td>\n",
       "      <td>0</td>\n",
       "      <td>1</td>\n",
       "      <td>0</td>\n",
       "      <td>0</td>\n",
       "      <td>0</td>\n",
       "      <td>0</td>\n",
       "      <td>0</td>\n",
       "      <td>...</td>\n",
       "      <td>0</td>\n",
       "      <td>0</td>\n",
       "      <td>0</td>\n",
       "      <td>0</td>\n",
       "      <td>0</td>\n",
       "      <td>0</td>\n",
       "      <td>0</td>\n",
       "      <td>0</td>\n",
       "      <td>0</td>\n",
       "      <td>0</td>\n",
       "    </tr>\n",
       "    <tr>\n",
       "      <th>2069</th>\n",
       "      <td>1041.0</td>\n",
       "      <td>5860.0</td>\n",
       "      <td>371706.0</td>\n",
       "      <td>0</td>\n",
       "      <td>1</td>\n",
       "      <td>0</td>\n",
       "      <td>0</td>\n",
       "      <td>0</td>\n",
       "      <td>0</td>\n",
       "      <td>0</td>\n",
       "      <td>...</td>\n",
       "      <td>0</td>\n",
       "      <td>0</td>\n",
       "      <td>0</td>\n",
       "      <td>0</td>\n",
       "      <td>0</td>\n",
       "      <td>0</td>\n",
       "      <td>0</td>\n",
       "      <td>0</td>\n",
       "      <td>0</td>\n",
       "      <td>0</td>\n",
       "    </tr>\n",
       "    <tr>\n",
       "      <th>7016</th>\n",
       "      <td>3113.0</td>\n",
       "      <td>15180.0</td>\n",
       "      <td>870258.0</td>\n",
       "      <td>0</td>\n",
       "      <td>1</td>\n",
       "      <td>0</td>\n",
       "      <td>0</td>\n",
       "      <td>0</td>\n",
       "      <td>0</td>\n",
       "      <td>0</td>\n",
       "      <td>...</td>\n",
       "      <td>0</td>\n",
       "      <td>0</td>\n",
       "      <td>0</td>\n",
       "      <td>0</td>\n",
       "      <td>0</td>\n",
       "      <td>0</td>\n",
       "      <td>0</td>\n",
       "      <td>0</td>\n",
       "      <td>0</td>\n",
       "      <td>0</td>\n",
       "    </tr>\n",
       "    <tr>\n",
       "      <th>4871</th>\n",
       "      <td>899.0</td>\n",
       "      <td>7048.0</td>\n",
       "      <td>45883.0</td>\n",
       "      <td>1</td>\n",
       "      <td>0</td>\n",
       "      <td>0</td>\n",
       "      <td>0</td>\n",
       "      <td>0</td>\n",
       "      <td>0</td>\n",
       "      <td>0</td>\n",
       "      <td>...</td>\n",
       "      <td>0</td>\n",
       "      <td>0</td>\n",
       "      <td>0</td>\n",
       "      <td>0</td>\n",
       "      <td>0</td>\n",
       "      <td>0</td>\n",
       "      <td>0</td>\n",
       "      <td>0</td>\n",
       "      <td>0</td>\n",
       "      <td>0</td>\n",
       "    </tr>\n",
       "  </tbody>\n",
       "</table>\n",
       "<p>5 rows × 287 columns</p>\n",
       "</div>"
      ],
      "text/plain": [
       "      sqft_living  sqft_lot  taxvalue  bedrooms_2.0  bedrooms_3.0  \\\n",
       "1081       1289.0    6000.0  141623.0             0             1   \n",
       "610        1823.0    6600.0  432903.0             0             1   \n",
       "2069       1041.0    5860.0  371706.0             0             1   \n",
       "7016       3113.0   15180.0  870258.0             0             1   \n",
       "4871        899.0    7048.0   45883.0             1             0   \n",
       "\n",
       "      bedrooms_4.0  bedrooms_5.0  bedrooms_6.0  bedrooms_7.0  bedrooms_8.0  \\\n",
       "1081             0             0             0             0             0   \n",
       "610              0             0             0             0             0   \n",
       "2069             0             0             0             0             0   \n",
       "7016             0             0             0             0             0   \n",
       "4871             0             0             0             0             0   \n",
       "\n",
       "      ...  zip_97101.0  zip_97104.0  zip_97106.0  zip_97107.0  zip_97108.0  \\\n",
       "1081  ...            0            0            0            0            0   \n",
       "610   ...            0            0            0            0            0   \n",
       "2069  ...            0            0            0            0            0   \n",
       "7016  ...            0            0            0            0            0   \n",
       "4871  ...            0            0            0            0            0   \n",
       "\n",
       "      zip_97109.0  zip_97113.0  zip_97116.0  zip_97118.0  zip_97119.0  \n",
       "1081            0            0            0            0            0  \n",
       "610             0            0            0            0            0  \n",
       "2069            0            0            0            0            0  \n",
       "7016            0            0            0            0            0  \n",
       "4871            0            0            0            0            0  \n",
       "\n",
       "[5 rows x 287 columns]"
      ]
     },
     "execution_count": 104,
     "metadata": {},
     "output_type": "execute_result"
    }
   ],
   "source": [
    "scale_train.head()"
   ]
  },
  {
   "cell_type": "code",
   "execution_count": 105,
   "metadata": {},
   "outputs": [],
   "source": [
    "def scale_data(train, validate, test, return_scaler=False):\n",
    "    '''\n",
    "    Scales the 3 data splits.\n",
    "    \n",
    "    takes in the train, validate, and test data splits and returns their scaled counterparts.\n",
    "    \n",
    "    If return_scaler is true, the scaler object will be returned as well.\n",
    "    '''\n",
    "    columns_to_scale = ['sqft_living','sqft_lot']\n",
    "    \n",
    "    train_scaled = train.copy()\n",
    "    validate_scaled = validate.copy()\n",
    "    test_scaled = test.copy()\n",
    "    \n",
    "    scaler = MinMaxScaler()\n",
    "    scaler.fit(train[columns_to_scale])\n",
    "    \n",
    "    train_scaled[columns_to_scale] = scaler.transform(train[columns_to_scale])\n",
    "    validate_scaled[columns_to_scale] = scaler.transform(validate[columns_to_scale])\n",
    "    test_scaled[columns_to_scale] = scaler.transform(test[columns_to_scale])\n",
    "    \n",
    "    if return_scaler:\n",
    "        return scaler, train_scaled, validate_scaled, test_scaled\n",
    "    else:\n",
    "        return train_scaled, validate_scaled, test_scaled"
   ]
  },
  {
   "cell_type": "code",
   "execution_count": 106,
   "metadata": {},
   "outputs": [],
   "source": [
    "train_scaled, validate_scaled, test_scaled = scale_data(scale_train, scale_validate, scale_test)"
   ]
  },
  {
   "cell_type": "code",
   "execution_count": 107,
   "metadata": {},
   "outputs": [
    {
     "data": {
      "text/html": [
       "<div>\n",
       "<style scoped>\n",
       "    .dataframe tbody tr th:only-of-type {\n",
       "        vertical-align: middle;\n",
       "    }\n",
       "\n",
       "    .dataframe tbody tr th {\n",
       "        vertical-align: top;\n",
       "    }\n",
       "\n",
       "    .dataframe thead th {\n",
       "        text-align: right;\n",
       "    }\n",
       "</style>\n",
       "<table border=\"1\" class=\"dataframe\">\n",
       "  <thead>\n",
       "    <tr style=\"text-align: right;\">\n",
       "      <th></th>\n",
       "      <th>sqft_living</th>\n",
       "      <th>sqft_lot</th>\n",
       "      <th>taxvalue</th>\n",
       "      <th>bedrooms_2.0</th>\n",
       "      <th>bedrooms_3.0</th>\n",
       "      <th>bedrooms_4.0</th>\n",
       "      <th>bedrooms_5.0</th>\n",
       "      <th>bedrooms_6.0</th>\n",
       "      <th>bedrooms_7.0</th>\n",
       "      <th>bedrooms_8.0</th>\n",
       "      <th>...</th>\n",
       "      <th>zip_97101.0</th>\n",
       "      <th>zip_97104.0</th>\n",
       "      <th>zip_97106.0</th>\n",
       "      <th>zip_97107.0</th>\n",
       "      <th>zip_97108.0</th>\n",
       "      <th>zip_97109.0</th>\n",
       "      <th>zip_97113.0</th>\n",
       "      <th>zip_97116.0</th>\n",
       "      <th>zip_97118.0</th>\n",
       "      <th>zip_97119.0</th>\n",
       "    </tr>\n",
       "  </thead>\n",
       "  <tbody>\n",
       "    <tr>\n",
       "      <th>1081</th>\n",
       "      <td>0.105662</td>\n",
       "      <td>0.006209</td>\n",
       "      <td>141623.0</td>\n",
       "      <td>0</td>\n",
       "      <td>1</td>\n",
       "      <td>0</td>\n",
       "      <td>0</td>\n",
       "      <td>0</td>\n",
       "      <td>0</td>\n",
       "      <td>0</td>\n",
       "      <td>...</td>\n",
       "      <td>0</td>\n",
       "      <td>0</td>\n",
       "      <td>0</td>\n",
       "      <td>0</td>\n",
       "      <td>0</td>\n",
       "      <td>0</td>\n",
       "      <td>0</td>\n",
       "      <td>0</td>\n",
       "      <td>0</td>\n",
       "      <td>0</td>\n",
       "    </tr>\n",
       "    <tr>\n",
       "      <th>610</th>\n",
       "      <td>0.162714</td>\n",
       "      <td>0.006884</td>\n",
       "      <td>432903.0</td>\n",
       "      <td>0</td>\n",
       "      <td>1</td>\n",
       "      <td>0</td>\n",
       "      <td>0</td>\n",
       "      <td>0</td>\n",
       "      <td>0</td>\n",
       "      <td>0</td>\n",
       "      <td>...</td>\n",
       "      <td>0</td>\n",
       "      <td>0</td>\n",
       "      <td>0</td>\n",
       "      <td>0</td>\n",
       "      <td>0</td>\n",
       "      <td>0</td>\n",
       "      <td>0</td>\n",
       "      <td>0</td>\n",
       "      <td>0</td>\n",
       "      <td>0</td>\n",
       "    </tr>\n",
       "    <tr>\n",
       "      <th>2069</th>\n",
       "      <td>0.079167</td>\n",
       "      <td>0.006052</td>\n",
       "      <td>371706.0</td>\n",
       "      <td>0</td>\n",
       "      <td>1</td>\n",
       "      <td>0</td>\n",
       "      <td>0</td>\n",
       "      <td>0</td>\n",
       "      <td>0</td>\n",
       "      <td>0</td>\n",
       "      <td>...</td>\n",
       "      <td>0</td>\n",
       "      <td>0</td>\n",
       "      <td>0</td>\n",
       "      <td>0</td>\n",
       "      <td>0</td>\n",
       "      <td>0</td>\n",
       "      <td>0</td>\n",
       "      <td>0</td>\n",
       "      <td>0</td>\n",
       "      <td>0</td>\n",
       "    </tr>\n",
       "    <tr>\n",
       "      <th>7016</th>\n",
       "      <td>0.300534</td>\n",
       "      <td>0.016535</td>\n",
       "      <td>870258.0</td>\n",
       "      <td>0</td>\n",
       "      <td>1</td>\n",
       "      <td>0</td>\n",
       "      <td>0</td>\n",
       "      <td>0</td>\n",
       "      <td>0</td>\n",
       "      <td>0</td>\n",
       "      <td>...</td>\n",
       "      <td>0</td>\n",
       "      <td>0</td>\n",
       "      <td>0</td>\n",
       "      <td>0</td>\n",
       "      <td>0</td>\n",
       "      <td>0</td>\n",
       "      <td>0</td>\n",
       "      <td>0</td>\n",
       "      <td>0</td>\n",
       "      <td>0</td>\n",
       "    </tr>\n",
       "    <tr>\n",
       "      <th>4871</th>\n",
       "      <td>0.063996</td>\n",
       "      <td>0.007388</td>\n",
       "      <td>45883.0</td>\n",
       "      <td>1</td>\n",
       "      <td>0</td>\n",
       "      <td>0</td>\n",
       "      <td>0</td>\n",
       "      <td>0</td>\n",
       "      <td>0</td>\n",
       "      <td>0</td>\n",
       "      <td>...</td>\n",
       "      <td>0</td>\n",
       "      <td>0</td>\n",
       "      <td>0</td>\n",
       "      <td>0</td>\n",
       "      <td>0</td>\n",
       "      <td>0</td>\n",
       "      <td>0</td>\n",
       "      <td>0</td>\n",
       "      <td>0</td>\n",
       "      <td>0</td>\n",
       "    </tr>\n",
       "  </tbody>\n",
       "</table>\n",
       "<p>5 rows × 287 columns</p>\n",
       "</div>"
      ],
      "text/plain": [
       "      sqft_living  sqft_lot  taxvalue  bedrooms_2.0  bedrooms_3.0  \\\n",
       "1081     0.105662  0.006209  141623.0             0             1   \n",
       "610      0.162714  0.006884  432903.0             0             1   \n",
       "2069     0.079167  0.006052  371706.0             0             1   \n",
       "7016     0.300534  0.016535  870258.0             0             1   \n",
       "4871     0.063996  0.007388   45883.0             1             0   \n",
       "\n",
       "      bedrooms_4.0  bedrooms_5.0  bedrooms_6.0  bedrooms_7.0  bedrooms_8.0  \\\n",
       "1081             0             0             0             0             0   \n",
       "610              0             0             0             0             0   \n",
       "2069             0             0             0             0             0   \n",
       "7016             0             0             0             0             0   \n",
       "4871             0             0             0             0             0   \n",
       "\n",
       "      ...  zip_97101.0  zip_97104.0  zip_97106.0  zip_97107.0  zip_97108.0  \\\n",
       "1081  ...            0            0            0            0            0   \n",
       "610   ...            0            0            0            0            0   \n",
       "2069  ...            0            0            0            0            0   \n",
       "7016  ...            0            0            0            0            0   \n",
       "4871  ...            0            0            0            0            0   \n",
       "\n",
       "      zip_97109.0  zip_97113.0  zip_97116.0  zip_97118.0  zip_97119.0  \n",
       "1081            0            0            0            0            0  \n",
       "610             0            0            0            0            0  \n",
       "2069            0            0            0            0            0  \n",
       "7016            0            0            0            0            0  \n",
       "4871            0            0            0            0            0  \n",
       "\n",
       "[5 rows x 287 columns]"
      ]
     },
     "execution_count": 107,
     "metadata": {},
     "output_type": "execute_result"
    }
   ],
   "source": [
    "train_scaled.head()"
   ]
  },
  {
   "cell_type": "code",
   "execution_count": 108,
   "metadata": {},
   "outputs": [],
   "source": [
    "s_X_train, s_y_train, s_X_validate, s_y_validate, s_X_test, s_y_test = bs_X_y(scale_train, scale_validate, scale_test)"
   ]
  },
  {
   "cell_type": "code",
   "execution_count": 109,
   "metadata": {},
   "outputs": [
    {
     "data": {
      "text/html": [
       "<div>\n",
       "<style scoped>\n",
       "    .dataframe tbody tr th:only-of-type {\n",
       "        vertical-align: middle;\n",
       "    }\n",
       "\n",
       "    .dataframe tbody tr th {\n",
       "        vertical-align: top;\n",
       "    }\n",
       "\n",
       "    .dataframe thead th {\n",
       "        text-align: right;\n",
       "    }\n",
       "</style>\n",
       "<table border=\"1\" class=\"dataframe\">\n",
       "  <thead>\n",
       "    <tr style=\"text-align: right;\">\n",
       "      <th></th>\n",
       "      <th>actual</th>\n",
       "    </tr>\n",
       "  </thead>\n",
       "  <tbody>\n",
       "    <tr>\n",
       "      <th>6146</th>\n",
       "      <td>973890.0</td>\n",
       "    </tr>\n",
       "    <tr>\n",
       "      <th>11722</th>\n",
       "      <td>167725.0</td>\n",
       "    </tr>\n",
       "    <tr>\n",
       "      <th>13643</th>\n",
       "      <td>317147.0</td>\n",
       "    </tr>\n",
       "    <tr>\n",
       "      <th>3338</th>\n",
       "      <td>601000.0</td>\n",
       "    </tr>\n",
       "    <tr>\n",
       "      <th>13356</th>\n",
       "      <td>649760.0</td>\n",
       "    </tr>\n",
       "  </tbody>\n",
       "</table>\n",
       "</div>"
      ],
      "text/plain": [
       "         actual\n",
       "6146   973890.0\n",
       "11722  167725.0\n",
       "13643  317147.0\n",
       "3338   601000.0\n",
       "13356  649760.0"
      ]
     },
     "execution_count": 109,
     "metadata": {},
     "output_type": "execute_result"
    }
   ],
   "source": [
    "predictions_scale.head()"
   ]
  },
  {
   "cell_type": "code",
   "execution_count": 110,
   "metadata": {},
   "outputs": [
    {
     "data": {
      "text/plain": [
       "0.5466371663833529"
      ]
     },
     "execution_count": 110,
     "metadata": {},
     "output_type": "execute_result"
    }
   ],
   "source": [
    "model = LinearRegression()\n",
    "model.fit(s_X_train, s_y_train)\n",
    "predictions['scale_multiple_regr'] = model.predict(s_X_validate)\n",
    "model.score(s_X_train, s_y_train)"
   ]
  },
  {
   "cell_type": "code",
   "execution_count": 111,
   "metadata": {},
   "outputs": [
    {
     "data": {
      "text/plain": [
       "0.9985000971619652"
      ]
     },
     "execution_count": 111,
     "metadata": {},
     "output_type": "execute_result"
    }
   ],
   "source": [
    "model = DecisionTreeRegressor()\n",
    "model.fit(s_X_train, s_y_train)\n",
    "predictions['DecisionTree'] = model.predict(s_X_validate)\n",
    "model.score(s_X_train, s_y_train)"
   ]
  },
  {
   "cell_type": "code",
   "execution_count": 114,
   "metadata": {},
   "outputs": [
    {
     "data": {
      "text/plain": [
       "0.31646328686485936"
      ]
     },
     "execution_count": 114,
     "metadata": {},
     "output_type": "execute_result"
    }
   ],
   "source": [
    "model = BayesianRidge()\n",
    "model.fit(s_X_train, s_y_train)\n",
    "predictions['BayesianRidge'] = model.predict(s_X_validate)\n",
    "model.score(s_X_train, s_y_train)"
   ]
  },
  {
   "cell_type": "code",
   "execution_count": 115,
   "metadata": {},
   "outputs": [
    {
     "data": {
      "text/plain": [
       "0.5129869243474556"
      ]
     },
     "execution_count": 115,
     "metadata": {},
     "output_type": "execute_result"
    }
   ],
   "source": [
    "model = KNeighborsRegressor()\n",
    "model.fit(s_X_train, s_y_train)\n",
    "predictions['KNeighborsRegressor'] = model.predict(s_X_validate)\n",
    "model.score(s_X_train, s_y_train)"
   ]
  },
  {
   "cell_type": "code",
   "execution_count": 116,
   "metadata": {},
   "outputs": [
    {
     "data": {
      "text/plain": [
       "0.5447065126281421"
      ]
     },
     "execution_count": 116,
     "metadata": {},
     "output_type": "execute_result"
    }
   ],
   "source": [
    "model = Ridge()\n",
    "model.fit(s_X_train, s_y_train)\n",
    "predictions['Ridge'] = model.predict(s_X_validate)\n",
    "model.score(s_X_train, s_y_train)"
   ]
  },
  {
   "cell_type": "code",
   "execution_count": 117,
   "metadata": {},
   "outputs": [
    {
     "data": {
      "text/plain": [
       "0.5447065126281421"
      ]
     },
     "execution_count": 117,
     "metadata": {},
     "output_type": "execute_result"
    }
   ],
   "source": [
    "medal = SVR()\n",
    "model.fit(s_X_train, s_y_train)\n",
    "predictions['SVR'] = model.predict(s_X_validate)\n",
    "model.score(s_X_train, s_y_train)"
   ]
  },
  {
   "cell_type": "code",
   "execution_count": null,
   "metadata": {},
   "outputs": [
    {
     "data": {
      "text/plain": [
       "0.3593931331179667"
      ]
     },
     "execution_count": 301,
     "metadata": {},
     "output_type": "execute_result"
    }
   ],
   "source": [
    "model = RidgeCV(scoring='neg_mean_squared_error')\n",
    "model.fit(s_X_train, s_y_train)\n",
    "predictions['RidgeCV'] = model.predict(s_X_validate)\n",
    "model.score(s_X_train, s_y_train)"
   ]
  },
  {
   "cell_type": "code",
   "execution_count": null,
   "metadata": {},
   "outputs": [],
   "source": [
    "# specify number of folds for k-fold CV\n",
    "n_folds = 5\n",
    "\n",
    "# # parameters to build the model on\n",
    "mlp_parameters = {\n",
    "    'alpha': [1, 2, 3],\n",
    "    'fit_intercept': ['True', 'False'],\n",
    "    'max_iter': [10000],\n",
    "    'warm_start': ['True', 'False'],\n",
    "    'positive': ['True', 'False'],\n",
    "    'selection': ['cyclic', 'random']\n",
    "\n",
    "\n",
    "}\n",
    "\n",
    "# # instantiate the model\n",
    "mlp = Lasso()\n",
    "\n",
    "# # fit tree on training data\n",
    "mlp = GridSearchCV(mlp, mlp_parameters,\n",
    "                n_jobs=-1, cv=n_folds, \n",
    "                scoring='neg_mean_squared_error')\n",
    "mlp.fit(s_X_train, s_y_train)"
   ]
  },
  {
   "cell_type": "code",
   "execution_count": null,
   "metadata": {},
   "outputs": [
    {
     "name": "stdout",
     "output_type": "stream",
     "text": [
      "Best parameters found:\n",
      " {'alpha': 3, 'fit_intercept': 'True', 'max_iter': 10000, 'positive': 'True', 'selection': 'random', 'warm_start': 'False'}\n"
     ]
    }
   ],
   "source": [
    "print('Best parameters found:\\n', mlp.best_params_)"
   ]
  },
  {
   "cell_type": "code",
   "execution_count": null,
   "metadata": {},
   "outputs": [],
   "source": [
    "scores_activation = mlp.cv_results_\n",
    "pd.DataFrame(scores_activation).sort_values([\"rank_test_score\"], ascending=True).head(5)"
   ]
  },
  {
   "cell_type": "code",
   "execution_count": null,
   "metadata": {},
   "outputs": [
    {
     "data": {
      "text/plain": [
       "GridSearchCV(cv=5, estimator=LinearRegression(), n_jobs=-1,\n",
       "             param_grid={'fit_intercept': ['True', 'False'], 'n_jobs': [-1],\n",
       "                         'positive': ['True', 'False']},\n",
       "             scoring='neg_mean_squared_error')"
      ]
     },
     "execution_count": 213,
     "metadata": {},
     "output_type": "execute_result"
    }
   ],
   "source": [
    "# specify number of folds for k-fold CV\n",
    "n_folds = 5\n",
    "\n",
    "# # parameters to build the model on\n",
    "mlp_parameters = {\n",
    "    'fit_intercept': ['True', 'False'],\n",
    "    'n_jobs': [-1],\n",
    "    'positive': ['True', 'False'],\n",
    "\n",
    "\n",
    "}\n",
    "\n",
    "# # instantiate the model\n",
    "mlp = LinearRegression()\n",
    "\n",
    "# # fit tree on training data\n",
    "mlp = GridSearchCV(mlp, mlp_parameters,\n",
    "                n_jobs=-1, cv=n_folds, \n",
    "                scoring='neg_mean_squared_error')\n",
    "mlp.fit(s_X_train, s_y_train)"
   ]
  },
  {
   "cell_type": "code",
   "execution_count": null,
   "metadata": {},
   "outputs": [
    {
     "name": "stdout",
     "output_type": "stream",
     "text": [
      "Best parameters found:\n",
      " {'fit_intercept': 'True', 'n_jobs': -1, 'positive': 'True'}\n"
     ]
    }
   ],
   "source": [
    "print('Best parameters found:\\n', mlp.best_params_)"
   ]
  },
  {
   "cell_type": "code",
   "execution_count": null,
   "metadata": {},
   "outputs": [
    {
     "data": {
      "text/html": [
       "<div>\n",
       "<style scoped>\n",
       "    .dataframe tbody tr th:only-of-type {\n",
       "        vertical-align: middle;\n",
       "    }\n",
       "\n",
       "    .dataframe tbody tr th {\n",
       "        vertical-align: top;\n",
       "    }\n",
       "\n",
       "    .dataframe thead th {\n",
       "        text-align: right;\n",
       "    }\n",
       "</style>\n",
       "<table border=\"1\" class=\"dataframe\">\n",
       "  <thead>\n",
       "    <tr style=\"text-align: right;\">\n",
       "      <th></th>\n",
       "      <th>mean_fit_time</th>\n",
       "      <th>std_fit_time</th>\n",
       "      <th>mean_score_time</th>\n",
       "      <th>std_score_time</th>\n",
       "      <th>param_fit_intercept</th>\n",
       "      <th>param_n_jobs</th>\n",
       "      <th>param_positive</th>\n",
       "      <th>params</th>\n",
       "      <th>split0_test_score</th>\n",
       "      <th>split1_test_score</th>\n",
       "      <th>split2_test_score</th>\n",
       "      <th>split3_test_score</th>\n",
       "      <th>split4_test_score</th>\n",
       "      <th>mean_test_score</th>\n",
       "      <th>std_test_score</th>\n",
       "      <th>rank_test_score</th>\n",
       "    </tr>\n",
       "  </thead>\n",
       "  <tbody>\n",
       "    <tr>\n",
       "      <th>0</th>\n",
       "      <td>1.139715</td>\n",
       "      <td>0.068876</td>\n",
       "      <td>0.034779</td>\n",
       "      <td>0.061920</td>\n",
       "      <td>True</td>\n",
       "      <td>-1</td>\n",
       "      <td>True</td>\n",
       "      <td>{'fit_intercept': 'True', 'n_jobs': -1, 'posit...</td>\n",
       "      <td>-1.169166e+11</td>\n",
       "      <td>-6.333067e+32</td>\n",
       "      <td>-1.155858e+11</td>\n",
       "      <td>-1.128892e+11</td>\n",
       "      <td>-9.920751e+10</td>\n",
       "      <td>-1.266613e+32</td>\n",
       "      <td>2.533227e+32</td>\n",
       "      <td>1</td>\n",
       "    </tr>\n",
       "    <tr>\n",
       "      <th>1</th>\n",
       "      <td>1.162227</td>\n",
       "      <td>0.053294</td>\n",
       "      <td>0.004441</td>\n",
       "      <td>0.002540</td>\n",
       "      <td>True</td>\n",
       "      <td>-1</td>\n",
       "      <td>False</td>\n",
       "      <td>{'fit_intercept': 'True', 'n_jobs': -1, 'posit...</td>\n",
       "      <td>-1.169166e+11</td>\n",
       "      <td>-6.333067e+32</td>\n",
       "      <td>-1.155858e+11</td>\n",
       "      <td>-1.128892e+11</td>\n",
       "      <td>-9.920751e+10</td>\n",
       "      <td>-1.266613e+32</td>\n",
       "      <td>2.533227e+32</td>\n",
       "      <td>1</td>\n",
       "    </tr>\n",
       "    <tr>\n",
       "      <th>2</th>\n",
       "      <td>1.107087</td>\n",
       "      <td>0.018361</td>\n",
       "      <td>0.003120</td>\n",
       "      <td>0.001109</td>\n",
       "      <td>False</td>\n",
       "      <td>-1</td>\n",
       "      <td>True</td>\n",
       "      <td>{'fit_intercept': 'False', 'n_jobs': -1, 'posi...</td>\n",
       "      <td>-1.169166e+11</td>\n",
       "      <td>-6.333067e+32</td>\n",
       "      <td>-1.155858e+11</td>\n",
       "      <td>-1.128892e+11</td>\n",
       "      <td>-9.920751e+10</td>\n",
       "      <td>-1.266613e+32</td>\n",
       "      <td>2.533227e+32</td>\n",
       "      <td>1</td>\n",
       "    </tr>\n",
       "    <tr>\n",
       "      <th>3</th>\n",
       "      <td>0.884592</td>\n",
       "      <td>0.103866</td>\n",
       "      <td>0.002251</td>\n",
       "      <td>0.000475</td>\n",
       "      <td>False</td>\n",
       "      <td>-1</td>\n",
       "      <td>False</td>\n",
       "      <td>{'fit_intercept': 'False', 'n_jobs': -1, 'posi...</td>\n",
       "      <td>-1.169166e+11</td>\n",
       "      <td>-6.333067e+32</td>\n",
       "      <td>-1.155858e+11</td>\n",
       "      <td>-1.128892e+11</td>\n",
       "      <td>-9.920751e+10</td>\n",
       "      <td>-1.266613e+32</td>\n",
       "      <td>2.533227e+32</td>\n",
       "      <td>1</td>\n",
       "    </tr>\n",
       "  </tbody>\n",
       "</table>\n",
       "</div>"
      ],
      "text/plain": [
       "   mean_fit_time  std_fit_time  mean_score_time  std_score_time  \\\n",
       "0       1.139715      0.068876         0.034779        0.061920   \n",
       "1       1.162227      0.053294         0.004441        0.002540   \n",
       "2       1.107087      0.018361         0.003120        0.001109   \n",
       "3       0.884592      0.103866         0.002251        0.000475   \n",
       "\n",
       "  param_fit_intercept param_n_jobs param_positive  \\\n",
       "0                True           -1           True   \n",
       "1                True           -1          False   \n",
       "2               False           -1           True   \n",
       "3               False           -1          False   \n",
       "\n",
       "                                              params  split0_test_score  \\\n",
       "0  {'fit_intercept': 'True', 'n_jobs': -1, 'posit...      -1.169166e+11   \n",
       "1  {'fit_intercept': 'True', 'n_jobs': -1, 'posit...      -1.169166e+11   \n",
       "2  {'fit_intercept': 'False', 'n_jobs': -1, 'posi...      -1.169166e+11   \n",
       "3  {'fit_intercept': 'False', 'n_jobs': -1, 'posi...      -1.169166e+11   \n",
       "\n",
       "   split1_test_score  split2_test_score  split3_test_score  split4_test_score  \\\n",
       "0      -6.333067e+32      -1.155858e+11      -1.128892e+11      -9.920751e+10   \n",
       "1      -6.333067e+32      -1.155858e+11      -1.128892e+11      -9.920751e+10   \n",
       "2      -6.333067e+32      -1.155858e+11      -1.128892e+11      -9.920751e+10   \n",
       "3      -6.333067e+32      -1.155858e+11      -1.128892e+11      -9.920751e+10   \n",
       "\n",
       "   mean_test_score  std_test_score  rank_test_score  \n",
       "0    -1.266613e+32    2.533227e+32                1  \n",
       "1    -1.266613e+32    2.533227e+32                1  \n",
       "2    -1.266613e+32    2.533227e+32                1  \n",
       "3    -1.266613e+32    2.533227e+32                1  "
      ]
     },
     "execution_count": 215,
     "metadata": {},
     "output_type": "execute_result"
    }
   ],
   "source": [
    "scores_activation = mlp.cv_results_\n",
    "pd.DataFrame(scores_activation).sort_values([\"rank_test_score\"], ascending=True).head(5)"
   ]
  },
  {
   "cell_type": "markdown",
   "metadata": {},
   "source": [
    "# Robust scaling models"
   ]
  },
  {
   "cell_type": "markdown",
   "metadata": {},
   "source": [
    "    Models with robust scaling of continuous variables"
   ]
  },
  {
   "cell_type": "code",
   "execution_count": null,
   "metadata": {},
   "outputs": [
    {
     "data": {
      "text/html": [
       "<div>\n",
       "<style scoped>\n",
       "    .dataframe tbody tr th:only-of-type {\n",
       "        vertical-align: middle;\n",
       "    }\n",
       "\n",
       "    .dataframe tbody tr th {\n",
       "        vertical-align: top;\n",
       "    }\n",
       "\n",
       "    .dataframe thead th {\n",
       "        text-align: right;\n",
       "    }\n",
       "</style>\n",
       "<table border=\"1\" class=\"dataframe\">\n",
       "  <thead>\n",
       "    <tr style=\"text-align: right;\">\n",
       "      <th></th>\n",
       "      <th>bedrooms</th>\n",
       "      <th>bathrooms</th>\n",
       "      <th>sqft_living</th>\n",
       "      <th>num_pools</th>\n",
       "      <th>pool_w_spa_or_hottub</th>\n",
       "      <th>has_hottub_or_spa</th>\n",
       "      <th>fireplaces</th>\n",
       "      <th>garage_cars</th>\n",
       "      <th>numberofstories</th>\n",
       "      <th>ac_type</th>\n",
       "      <th>heating_type</th>\n",
       "      <th>year_built</th>\n",
       "      <th>sqft_lot</th>\n",
       "      <th>countyid</th>\n",
       "      <th>zip</th>\n",
       "      <th>fips</th>\n",
       "      <th>taxvalue</th>\n",
       "    </tr>\n",
       "  </thead>\n",
       "  <tbody>\n",
       "    <tr>\n",
       "      <th>0</th>\n",
       "      <td>2.0</td>\n",
       "      <td>1.0</td>\n",
       "      <td>1465.0</td>\n",
       "      <td>0.0</td>\n",
       "      <td>0.0</td>\n",
       "      <td>0.0</td>\n",
       "      <td>1.0</td>\n",
       "      <td>1.0</td>\n",
       "      <td>1.0</td>\n",
       "      <td>2.0</td>\n",
       "      <td>2.0</td>\n",
       "      <td>1967.0</td>\n",
       "      <td>12647.0</td>\n",
       "      <td>2061.0</td>\n",
       "      <td>97099.0</td>\n",
       "      <td>6111.0</td>\n",
       "      <td>464000.0</td>\n",
       "    </tr>\n",
       "    <tr>\n",
       "      <th>1</th>\n",
       "      <td>3.0</td>\n",
       "      <td>2.0</td>\n",
       "      <td>1243.0</td>\n",
       "      <td>1.0</td>\n",
       "      <td>0.0</td>\n",
       "      <td>0.0</td>\n",
       "      <td>0.0</td>\n",
       "      <td>2.0</td>\n",
       "      <td>1.0</td>\n",
       "      <td>2.0</td>\n",
       "      <td>2.0</td>\n",
       "      <td>1962.0</td>\n",
       "      <td>8432.0</td>\n",
       "      <td>1286.0</td>\n",
       "      <td>97078.0</td>\n",
       "      <td>6059.0</td>\n",
       "      <td>564778.0</td>\n",
       "    </tr>\n",
       "    <tr>\n",
       "      <th>2</th>\n",
       "      <td>3.0</td>\n",
       "      <td>2.5</td>\n",
       "      <td>1340.0</td>\n",
       "      <td>0.0</td>\n",
       "      <td>0.0</td>\n",
       "      <td>0.0</td>\n",
       "      <td>1.0</td>\n",
       "      <td>2.0</td>\n",
       "      <td>2.0</td>\n",
       "      <td>1.0</td>\n",
       "      <td>2.0</td>\n",
       "      <td>1980.0</td>\n",
       "      <td>1199.0</td>\n",
       "      <td>1286.0</td>\n",
       "      <td>97051.0</td>\n",
       "      <td>6059.0</td>\n",
       "      <td>319668.0</td>\n",
       "    </tr>\n",
       "    <tr>\n",
       "      <th>3</th>\n",
       "      <td>3.0</td>\n",
       "      <td>2.5</td>\n",
       "      <td>1371.0</td>\n",
       "      <td>0.0</td>\n",
       "      <td>0.0</td>\n",
       "      <td>0.0</td>\n",
       "      <td>0.0</td>\n",
       "      <td>2.0</td>\n",
       "      <td>2.0</td>\n",
       "      <td>2.0</td>\n",
       "      <td>2.0</td>\n",
       "      <td>2004.0</td>\n",
       "      <td>3445.0</td>\n",
       "      <td>2061.0</td>\n",
       "      <td>97107.0</td>\n",
       "      <td>6111.0</td>\n",
       "      <td>198054.0</td>\n",
       "    </tr>\n",
       "    <tr>\n",
       "      <th>4</th>\n",
       "      <td>4.0</td>\n",
       "      <td>2.0</td>\n",
       "      <td>1677.0</td>\n",
       "      <td>0.0</td>\n",
       "      <td>0.0</td>\n",
       "      <td>0.0</td>\n",
       "      <td>0.0</td>\n",
       "      <td>2.0</td>\n",
       "      <td>1.0</td>\n",
       "      <td>1.0</td>\n",
       "      <td>2.0</td>\n",
       "      <td>1981.0</td>\n",
       "      <td>5304.0</td>\n",
       "      <td>1286.0</td>\n",
       "      <td>96962.0</td>\n",
       "      <td>6059.0</td>\n",
       "      <td>528847.0</td>\n",
       "    </tr>\n",
       "  </tbody>\n",
       "</table>\n",
       "</div>"
      ],
      "text/plain": [
       "  bedrooms bathrooms  sqft_living num_pools pool_w_spa_or_hottub  \\\n",
       "0      2.0       1.0       1465.0       0.0                  0.0   \n",
       "1      3.0       2.0       1243.0       1.0                  0.0   \n",
       "2      3.0       2.5       1340.0       0.0                  0.0   \n",
       "3      3.0       2.5       1371.0       0.0                  0.0   \n",
       "4      4.0       2.0       1677.0       0.0                  0.0   \n",
       "\n",
       "  has_hottub_or_spa fireplaces garage_cars numberofstories ac_type  \\\n",
       "0               0.0        1.0         1.0             1.0     2.0   \n",
       "1               0.0        0.0         2.0             1.0     2.0   \n",
       "2               0.0        1.0         2.0             2.0     1.0   \n",
       "3               0.0        0.0         2.0             2.0     2.0   \n",
       "4               0.0        0.0         2.0             1.0     1.0   \n",
       "\n",
       "  heating_type year_built  sqft_lot countyid      zip    fips  taxvalue  \n",
       "0          2.0     1967.0   12647.0   2061.0  97099.0  6111.0  464000.0  \n",
       "1          2.0     1962.0    8432.0   1286.0  97078.0  6059.0  564778.0  \n",
       "2          2.0     1980.0    1199.0   1286.0  97051.0  6059.0  319668.0  \n",
       "3          2.0     2004.0    3445.0   2061.0  97107.0  6111.0  198054.0  \n",
       "4          2.0     1981.0    5304.0   1286.0  96962.0  6059.0  528847.0  "
      ]
     },
     "execution_count": 119,
     "metadata": {},
     "output_type": "execute_result"
    }
   ],
   "source": [
    "robust.head()"
   ]
  },
  {
   "cell_type": "code",
   "execution_count": null,
   "metadata": {},
   "outputs": [
    {
     "data": {
      "text/plain": [
       "(14469, 17)"
      ]
     },
     "execution_count": 120,
     "metadata": {},
     "output_type": "execute_result"
    }
   ],
   "source": [
    "robust.shape"
   ]
  },
  {
   "cell_type": "markdown",
   "metadata": {},
   "source": [
    "# Don't transform with Robust scaling\n",
    "\n",
    "    "
   ]
  },
  {
   "cell_type": "code",
   "execution_count": null,
   "metadata": {},
   "outputs": [],
   "source": [
    "#scaler = RobustScaler()\n",
    "#data = scaler.fit_transform(robust[['sqft_living','sqft_lot']])\n",
    "#robust[['sqft_living','sqft_lot']] = pd.DataFrame(data)\n"
   ]
  },
  {
   "cell_type": "code",
   "execution_count": null,
   "metadata": {},
   "outputs": [
    {
     "data": {
      "text/html": [
       "<div>\n",
       "<style scoped>\n",
       "    .dataframe tbody tr th:only-of-type {\n",
       "        vertical-align: middle;\n",
       "    }\n",
       "\n",
       "    .dataframe tbody tr th {\n",
       "        vertical-align: top;\n",
       "    }\n",
       "\n",
       "    .dataframe thead th {\n",
       "        text-align: right;\n",
       "    }\n",
       "</style>\n",
       "<table border=\"1\" class=\"dataframe\">\n",
       "  <thead>\n",
       "    <tr style=\"text-align: right;\">\n",
       "      <th></th>\n",
       "      <th>bedrooms</th>\n",
       "      <th>bathrooms</th>\n",
       "      <th>sqft_living</th>\n",
       "      <th>num_pools</th>\n",
       "      <th>pool_w_spa_or_hottub</th>\n",
       "      <th>has_hottub_or_spa</th>\n",
       "      <th>fireplaces</th>\n",
       "      <th>garage_cars</th>\n",
       "      <th>numberofstories</th>\n",
       "      <th>ac_type</th>\n",
       "      <th>heating_type</th>\n",
       "      <th>year_built</th>\n",
       "      <th>sqft_lot</th>\n",
       "      <th>countyid</th>\n",
       "      <th>zip</th>\n",
       "      <th>fips</th>\n",
       "      <th>taxvalue</th>\n",
       "    </tr>\n",
       "  </thead>\n",
       "  <tbody>\n",
       "    <tr>\n",
       "      <th>0</th>\n",
       "      <td>2.0</td>\n",
       "      <td>1.0</td>\n",
       "      <td>1465.0</td>\n",
       "      <td>0.0</td>\n",
       "      <td>0.0</td>\n",
       "      <td>0.0</td>\n",
       "      <td>1.0</td>\n",
       "      <td>1.0</td>\n",
       "      <td>1.0</td>\n",
       "      <td>2.0</td>\n",
       "      <td>2.0</td>\n",
       "      <td>1967.0</td>\n",
       "      <td>12647.0</td>\n",
       "      <td>2061.0</td>\n",
       "      <td>97099.0</td>\n",
       "      <td>6111.0</td>\n",
       "      <td>464000.0</td>\n",
       "    </tr>\n",
       "    <tr>\n",
       "      <th>1</th>\n",
       "      <td>3.0</td>\n",
       "      <td>2.0</td>\n",
       "      <td>1243.0</td>\n",
       "      <td>1.0</td>\n",
       "      <td>0.0</td>\n",
       "      <td>0.0</td>\n",
       "      <td>0.0</td>\n",
       "      <td>2.0</td>\n",
       "      <td>1.0</td>\n",
       "      <td>2.0</td>\n",
       "      <td>2.0</td>\n",
       "      <td>1962.0</td>\n",
       "      <td>8432.0</td>\n",
       "      <td>1286.0</td>\n",
       "      <td>97078.0</td>\n",
       "      <td>6059.0</td>\n",
       "      <td>564778.0</td>\n",
       "    </tr>\n",
       "    <tr>\n",
       "      <th>2</th>\n",
       "      <td>3.0</td>\n",
       "      <td>2.5</td>\n",
       "      <td>1340.0</td>\n",
       "      <td>0.0</td>\n",
       "      <td>0.0</td>\n",
       "      <td>0.0</td>\n",
       "      <td>1.0</td>\n",
       "      <td>2.0</td>\n",
       "      <td>2.0</td>\n",
       "      <td>1.0</td>\n",
       "      <td>2.0</td>\n",
       "      <td>1980.0</td>\n",
       "      <td>1199.0</td>\n",
       "      <td>1286.0</td>\n",
       "      <td>97051.0</td>\n",
       "      <td>6059.0</td>\n",
       "      <td>319668.0</td>\n",
       "    </tr>\n",
       "    <tr>\n",
       "      <th>3</th>\n",
       "      <td>3.0</td>\n",
       "      <td>2.5</td>\n",
       "      <td>1371.0</td>\n",
       "      <td>0.0</td>\n",
       "      <td>0.0</td>\n",
       "      <td>0.0</td>\n",
       "      <td>0.0</td>\n",
       "      <td>2.0</td>\n",
       "      <td>2.0</td>\n",
       "      <td>2.0</td>\n",
       "      <td>2.0</td>\n",
       "      <td>2004.0</td>\n",
       "      <td>3445.0</td>\n",
       "      <td>2061.0</td>\n",
       "      <td>97107.0</td>\n",
       "      <td>6111.0</td>\n",
       "      <td>198054.0</td>\n",
       "    </tr>\n",
       "    <tr>\n",
       "      <th>4</th>\n",
       "      <td>4.0</td>\n",
       "      <td>2.0</td>\n",
       "      <td>1677.0</td>\n",
       "      <td>0.0</td>\n",
       "      <td>0.0</td>\n",
       "      <td>0.0</td>\n",
       "      <td>0.0</td>\n",
       "      <td>2.0</td>\n",
       "      <td>1.0</td>\n",
       "      <td>1.0</td>\n",
       "      <td>2.0</td>\n",
       "      <td>1981.0</td>\n",
       "      <td>5304.0</td>\n",
       "      <td>1286.0</td>\n",
       "      <td>96962.0</td>\n",
       "      <td>6059.0</td>\n",
       "      <td>528847.0</td>\n",
       "    </tr>\n",
       "  </tbody>\n",
       "</table>\n",
       "</div>"
      ],
      "text/plain": [
       "  bedrooms bathrooms  sqft_living num_pools pool_w_spa_or_hottub  \\\n",
       "0      2.0       1.0       1465.0       0.0                  0.0   \n",
       "1      3.0       2.0       1243.0       1.0                  0.0   \n",
       "2      3.0       2.5       1340.0       0.0                  0.0   \n",
       "3      3.0       2.5       1371.0       0.0                  0.0   \n",
       "4      4.0       2.0       1677.0       0.0                  0.0   \n",
       "\n",
       "  has_hottub_or_spa fireplaces garage_cars numberofstories ac_type  \\\n",
       "0               0.0        1.0         1.0             1.0     2.0   \n",
       "1               0.0        0.0         2.0             1.0     2.0   \n",
       "2               0.0        1.0         2.0             2.0     1.0   \n",
       "3               0.0        0.0         2.0             2.0     2.0   \n",
       "4               0.0        0.0         2.0             1.0     1.0   \n",
       "\n",
       "  heating_type year_built  sqft_lot countyid      zip    fips  taxvalue  \n",
       "0          2.0     1967.0   12647.0   2061.0  97099.0  6111.0  464000.0  \n",
       "1          2.0     1962.0    8432.0   1286.0  97078.0  6059.0  564778.0  \n",
       "2          2.0     1980.0    1199.0   1286.0  97051.0  6059.0  319668.0  \n",
       "3          2.0     2004.0    3445.0   2061.0  97107.0  6111.0  198054.0  \n",
       "4          2.0     1981.0    5304.0   1286.0  96962.0  6059.0  528847.0  "
      ]
     },
     "execution_count": 121,
     "metadata": {},
     "output_type": "execute_result"
    }
   ],
   "source": [
    "robust.head()"
   ]
  },
  {
   "cell_type": "code",
   "execution_count": null,
   "metadata": {},
   "outputs": [
    {
     "data": {
      "text/plain": [
       "bedrooms                0\n",
       "bathrooms               0\n",
       "sqft_living             0\n",
       "num_pools               0\n",
       "pool_w_spa_or_hottub    0\n",
       "has_hottub_or_spa       0\n",
       "fireplaces              0\n",
       "garage_cars             0\n",
       "numberofstories         0\n",
       "ac_type                 0\n",
       "heating_type            0\n",
       "year_built              0\n",
       "sqft_lot                0\n",
       "countyid                0\n",
       "zip                     0\n",
       "fips                    0\n",
       "taxvalue                0\n",
       "dtype: int64"
      ]
     },
     "execution_count": 122,
     "metadata": {},
     "output_type": "execute_result"
    }
   ],
   "source": [
    "robust.isnull().sum()"
   ]
  },
  {
   "cell_type": "code",
   "execution_count": null,
   "metadata": {},
   "outputs": [],
   "source": [
    "train_and_validate, robust_test = train_test_split(robust, random_state=123, test_size=.2)\n",
    "robust_train, robust_validate = train_test_split(train_and_validate, random_state=123, test_size=.3)"
   ]
  },
  {
   "cell_type": "code",
   "execution_count": null,
   "metadata": {},
   "outputs": [
    {
     "data": {
      "text/html": [
       "<div>\n",
       "<style scoped>\n",
       "    .dataframe tbody tr th:only-of-type {\n",
       "        vertical-align: middle;\n",
       "    }\n",
       "\n",
       "    .dataframe tbody tr th {\n",
       "        vertical-align: top;\n",
       "    }\n",
       "\n",
       "    .dataframe thead th {\n",
       "        text-align: right;\n",
       "    }\n",
       "</style>\n",
       "<table border=\"1\" class=\"dataframe\">\n",
       "  <thead>\n",
       "    <tr style=\"text-align: right;\">\n",
       "      <th></th>\n",
       "      <th>bedrooms</th>\n",
       "      <th>bathrooms</th>\n",
       "      <th>sqft_living</th>\n",
       "      <th>num_pools</th>\n",
       "      <th>pool_w_spa_or_hottub</th>\n",
       "      <th>has_hottub_or_spa</th>\n",
       "      <th>fireplaces</th>\n",
       "      <th>garage_cars</th>\n",
       "      <th>numberofstories</th>\n",
       "      <th>ac_type</th>\n",
       "      <th>heating_type</th>\n",
       "      <th>year_built</th>\n",
       "      <th>sqft_lot</th>\n",
       "      <th>countyid</th>\n",
       "      <th>zip</th>\n",
       "      <th>fips</th>\n",
       "      <th>taxvalue</th>\n",
       "    </tr>\n",
       "  </thead>\n",
       "  <tbody>\n",
       "    <tr>\n",
       "      <th>1081</th>\n",
       "      <td>3.0</td>\n",
       "      <td>1.5</td>\n",
       "      <td>1289.0</td>\n",
       "      <td>0.0</td>\n",
       "      <td>0.0</td>\n",
       "      <td>0.0</td>\n",
       "      <td>0.0</td>\n",
       "      <td>2.0</td>\n",
       "      <td>1.0</td>\n",
       "      <td>2.0</td>\n",
       "      <td>2.0</td>\n",
       "      <td>1962.0</td>\n",
       "      <td>6000.0</td>\n",
       "      <td>1286.0</td>\n",
       "      <td>96185.0</td>\n",
       "      <td>6059.0</td>\n",
       "      <td>141623.0</td>\n",
       "    </tr>\n",
       "    <tr>\n",
       "      <th>610</th>\n",
       "      <td>3.0</td>\n",
       "      <td>2.0</td>\n",
       "      <td>1823.0</td>\n",
       "      <td>0.0</td>\n",
       "      <td>0.0</td>\n",
       "      <td>0.0</td>\n",
       "      <td>0.0</td>\n",
       "      <td>1.0</td>\n",
       "      <td>1.0</td>\n",
       "      <td>2.0</td>\n",
       "      <td>2.0</td>\n",
       "      <td>1955.0</td>\n",
       "      <td>6600.0</td>\n",
       "      <td>1286.0</td>\n",
       "      <td>97041.0</td>\n",
       "      <td>6059.0</td>\n",
       "      <td>432903.0</td>\n",
       "    </tr>\n",
       "    <tr>\n",
       "      <th>2069</th>\n",
       "      <td>3.0</td>\n",
       "      <td>2.0</td>\n",
       "      <td>1041.0</td>\n",
       "      <td>0.0</td>\n",
       "      <td>0.0</td>\n",
       "      <td>0.0</td>\n",
       "      <td>0.0</td>\n",
       "      <td>1.0</td>\n",
       "      <td>1.0</td>\n",
       "      <td>2.0</td>\n",
       "      <td>2.0</td>\n",
       "      <td>1957.0</td>\n",
       "      <td>5860.0</td>\n",
       "      <td>1286.0</td>\n",
       "      <td>96186.0</td>\n",
       "      <td>6059.0</td>\n",
       "      <td>371706.0</td>\n",
       "    </tr>\n",
       "    <tr>\n",
       "      <th>7016</th>\n",
       "      <td>3.0</td>\n",
       "      <td>3.5</td>\n",
       "      <td>3113.0</td>\n",
       "      <td>1.0</td>\n",
       "      <td>0.0</td>\n",
       "      <td>0.0</td>\n",
       "      <td>2.0</td>\n",
       "      <td>2.0</td>\n",
       "      <td>2.0</td>\n",
       "      <td>0.0</td>\n",
       "      <td>6.0</td>\n",
       "      <td>1976.0</td>\n",
       "      <td>15180.0</td>\n",
       "      <td>1286.0</td>\n",
       "      <td>97005.0</td>\n",
       "      <td>6059.0</td>\n",
       "      <td>870258.0</td>\n",
       "    </tr>\n",
       "    <tr>\n",
       "      <th>4871</th>\n",
       "      <td>2.0</td>\n",
       "      <td>1.0</td>\n",
       "      <td>899.0</td>\n",
       "      <td>0.0</td>\n",
       "      <td>0.0</td>\n",
       "      <td>0.0</td>\n",
       "      <td>1.0</td>\n",
       "      <td>1.0</td>\n",
       "      <td>1.0</td>\n",
       "      <td>2.0</td>\n",
       "      <td>2.0</td>\n",
       "      <td>1948.0</td>\n",
       "      <td>7048.0</td>\n",
       "      <td>1286.0</td>\n",
       "      <td>96181.0</td>\n",
       "      <td>6059.0</td>\n",
       "      <td>45883.0</td>\n",
       "    </tr>\n",
       "  </tbody>\n",
       "</table>\n",
       "</div>"
      ],
      "text/plain": [
       "     bedrooms bathrooms  sqft_living num_pools pool_w_spa_or_hottub  \\\n",
       "1081      3.0       1.5       1289.0       0.0                  0.0   \n",
       "610       3.0       2.0       1823.0       0.0                  0.0   \n",
       "2069      3.0       2.0       1041.0       0.0                  0.0   \n",
       "7016      3.0       3.5       3113.0       1.0                  0.0   \n",
       "4871      2.0       1.0        899.0       0.0                  0.0   \n",
       "\n",
       "     has_hottub_or_spa fireplaces garage_cars numberofstories ac_type  \\\n",
       "1081               0.0        0.0         2.0             1.0     2.0   \n",
       "610                0.0        0.0         1.0             1.0     2.0   \n",
       "2069               0.0        0.0         1.0             1.0     2.0   \n",
       "7016               0.0        2.0         2.0             2.0     0.0   \n",
       "4871               0.0        1.0         1.0             1.0     2.0   \n",
       "\n",
       "     heating_type year_built  sqft_lot countyid      zip    fips  taxvalue  \n",
       "1081          2.0     1962.0    6000.0   1286.0  96185.0  6059.0  141623.0  \n",
       "610           2.0     1955.0    6600.0   1286.0  97041.0  6059.0  432903.0  \n",
       "2069          2.0     1957.0    5860.0   1286.0  96186.0  6059.0  371706.0  \n",
       "7016          6.0     1976.0   15180.0   1286.0  97005.0  6059.0  870258.0  \n",
       "4871          2.0     1948.0    7048.0   1286.0  96181.0  6059.0   45883.0  "
      ]
     },
     "execution_count": 172,
     "metadata": {},
     "output_type": "execute_result"
    }
   ],
   "source": [
    "robust_train.head()"
   ]
  },
  {
   "cell_type": "code",
   "execution_count": null,
   "metadata": {},
   "outputs": [
    {
     "data": {
      "image/png": "[encoded data removed]",
      "text/plain": [
       "<Figure size 936x504 with 1 Axes>"
      ]
     },
     "metadata": {},
     "output_type": "display_data"
    }
   ],
   "source": [
    "fig, axes = plt.subplots(figsize=(13, 7))\n",
    "\n",
    "r, p = stats.pearsonr(robust_train.sqft_living, robust_train.taxvalue)\n",
    "\n",
    "sns.scatterplot(data=robust_train, x=robust_train.sqft_living, y=robust_train.taxvalue)\n",
    "axes.set(\n",
    "    xlabel='Sqft Living',\n",
    "    ylabel='tax value',\n",
    "    title='Sqft Living vs. tax value',\n",
    ")\n",
    "text = f'r = {r:.4f}, p = {p:.4f}'\n",
    "#axes.text(25, 120, text, va='top', ha='right')"
   ]
  },
  {
   "cell_type": "code",
   "execution_count": null,
   "metadata": {},
   "outputs": [
    {
     "data": {
      "image/png": "[encoded data removed]",
      "text/plain": [
       "<Figure size 936x504 with 1 Axes>"
      ]
     },
     "metadata": {},
     "output_type": "display_data"
    }
   ],
   "source": [
    "fig, axes = plt.subplots(figsize=(13, 7))\n",
    "\n",
    "r, p = stats.pearsonr(robust_train.sqft_living, robust_train.taxvalue)\n",
    "\n",
    "sns.boxplot(data=robust_train, x=robust_train.sqft_living, y=robust_train.taxvalue)\n",
    "axes.set(\n",
    "    xlabel='Sqft Living',\n",
    "    ylabel='tax value',\n",
    "    title='Sqft Living vs. tax value',\n",
    ")\n",
    "text = f'r = {r:.4f}, p = {p:.4f}'"
   ]
  },
  {
   "cell_type": "code",
   "execution_count": null,
   "metadata": {},
   "outputs": [],
   "source": [
    "dummy_train = pd.get_dummies(robust_test[['bedrooms', 'bathrooms', 'num_pools','pool_w_spa_or_hottub', 'has_hottub_or_spa', 'fireplaces','garage_cars', 'numberofstories', 'heating_type',\n",
    "    'ac_type','year_built','countyid', 'fips', 'zip']], drop_first=[True])\n",
    "dummy_validate = pd.get_dummies(robust_validate[['bedrooms', 'bathrooms', 'num_pools','pool_w_spa_or_hottub', 'has_hottub_or_spa', 'fireplaces','garage_cars', 'numberofstories','heating_type',\n",
    "    'ac_type','year_built','countyid', 'fips', 'zip']], drop_first=[True])\n",
    "dummy_test = pd.get_dummies(robust_train[['bedrooms', 'bathrooms', 'num_pools','pool_w_spa_or_hottub', 'has_hottub_or_spa', 'fireplaces','garage_cars', 'numberofstories', 'heating_type',\n",
    "    'ac_type','year_built','countyid', 'fips', 'zip']], drop_first=[True])\n",
    "# merge dummies with orginal dataframe\n",
    "robust_test = pd.concat([robust_test, dummy_train], axis=1)\n",
    "robust_validate = pd.concat([robust_validate, dummy_validate], axis=1)\n",
    "robust_train = pd.concat([robust_train, dummy_test], axis=1)\n",
    "# drop columns with corresponding dummies\n",
    "robust_test = robust_test.drop(columns=['bedrooms', 'bathrooms', 'num_pools','pool_w_spa_or_hottub', 'has_hottub_or_spa', 'fireplaces','garage_cars', 'numberofstories', 'heating_type',\n",
    "    'ac_type','year_built','countyid', 'fips','zip'])\n",
    "robust_validate = robust_validate.drop(columns=['bedrooms', 'bathrooms', 'num_pools','pool_w_spa_or_hottub', 'has_hottub_or_spa', 'fireplaces','garage_cars', 'numberofstories', 'heating_type',\n",
    "    'ac_type','year_built','countyid', 'fips','zip'])\n",
    "robust_train = robust_train.drop(columns=['bedrooms', 'bathrooms', 'num_pools','pool_w_spa_or_hottub', 'has_hottub_or_spa', 'fireplaces','garage_cars', 'numberofstories', 'heating_type',\n",
    "    'ac_type','year_built','countyid', 'fips', 'zip'])"
   ]
  },
  {
   "cell_type": "code",
   "execution_count": null,
   "metadata": {},
   "outputs": [],
   "source": [
    "def robust_scale_data(train, validate, test, return_scaler=False):\n",
    "    '''\n",
    "    Scales the 3 data splits.\n",
    "    \n",
    "    takes in the train, validate, and test data splits and returns their scaled counterparts.\n",
    "    \n",
    "    If return_scaler is true, the scaler object will be returned as well.\n",
    "    '''\n",
    "    columns_to_scale = ['sqft_living','sqft_lot']\n",
    "    \n",
    "    train_scaled = train.copy()\n",
    "    validate_scaled = validate.copy()\n",
    "    test_scaled = test.copy()\n",
    "    \n",
    "    scaler = RobustScaler()\n",
    "    scaler.fit(train[columns_to_scale])\n",
    "    \n",
    "    train_scaled[columns_to_scale] = scaler.transform(train[columns_to_scale])\n",
    "    validate_scaled[columns_to_scale] = scaler.transform(validate[columns_to_scale])\n",
    "    test_scaled[columns_to_scale] = scaler.transform(test[columns_to_scale])\n",
    "    \n",
    "    if return_scaler:\n",
    "        return scaler, train_scaled, validate_scaled, test_scaled\n",
    "    else:\n",
    "        return train_scaled, validate_scaled, test_scaled"
   ]
  },
  {
   "cell_type": "code",
   "execution_count": null,
   "metadata": {},
   "outputs": [],
   "source": [
    "robust_train, robust_validate, robust_test = robust_scale_data(robust_train, robust_validate, robust_test, return_scaler=False)"
   ]
  },
  {
   "cell_type": "code",
   "execution_count": null,
   "metadata": {},
   "outputs": [
    {
     "data": {
      "text/html": [
       "<div>\n",
       "<style scoped>\n",
       "    .dataframe tbody tr th:only-of-type {\n",
       "        vertical-align: middle;\n",
       "    }\n",
       "\n",
       "    .dataframe tbody tr th {\n",
       "        vertical-align: top;\n",
       "    }\n",
       "\n",
       "    .dataframe thead th {\n",
       "        text-align: right;\n",
       "    }\n",
       "</style>\n",
       "<table border=\"1\" class=\"dataframe\">\n",
       "  <thead>\n",
       "    <tr style=\"text-align: right;\">\n",
       "      <th></th>\n",
       "      <th>sqft_living</th>\n",
       "      <th>sqft_lot</th>\n",
       "      <th>taxvalue</th>\n",
       "      <th>bedrooms_2.0</th>\n",
       "      <th>bedrooms_3.0</th>\n",
       "      <th>bedrooms_4.0</th>\n",
       "      <th>bedrooms_5.0</th>\n",
       "      <th>bedrooms_6.0</th>\n",
       "      <th>bedrooms_7.0</th>\n",
       "      <th>bedrooms_8.0</th>\n",
       "      <th>...</th>\n",
       "      <th>zip_97101.0</th>\n",
       "      <th>zip_97104.0</th>\n",
       "      <th>zip_97106.0</th>\n",
       "      <th>zip_97107.0</th>\n",
       "      <th>zip_97108.0</th>\n",
       "      <th>zip_97109.0</th>\n",
       "      <th>zip_97113.0</th>\n",
       "      <th>zip_97116.0</th>\n",
       "      <th>zip_97118.0</th>\n",
       "      <th>zip_97119.0</th>\n",
       "    </tr>\n",
       "  </thead>\n",
       "  <tbody>\n",
       "    <tr>\n",
       "      <th>1081</th>\n",
       "      <td>-0.453968</td>\n",
       "      <td>-0.315264</td>\n",
       "      <td>141623.0</td>\n",
       "      <td>0</td>\n",
       "      <td>1</td>\n",
       "      <td>0</td>\n",
       "      <td>0</td>\n",
       "      <td>0</td>\n",
       "      <td>0</td>\n",
       "      <td>0</td>\n",
       "      <td>...</td>\n",
       "      <td>0</td>\n",
       "      <td>0</td>\n",
       "      <td>0</td>\n",
       "      <td>0</td>\n",
       "      <td>0</td>\n",
       "      <td>0</td>\n",
       "      <td>0</td>\n",
       "      <td>0</td>\n",
       "      <td>0</td>\n",
       "      <td>0</td>\n",
       "    </tr>\n",
       "    <tr>\n",
       "      <th>610</th>\n",
       "      <td>0.111111</td>\n",
       "      <td>-0.105088</td>\n",
       "      <td>432903.0</td>\n",
       "      <td>0</td>\n",
       "      <td>1</td>\n",
       "      <td>0</td>\n",
       "      <td>0</td>\n",
       "      <td>0</td>\n",
       "      <td>0</td>\n",
       "      <td>0</td>\n",
       "      <td>...</td>\n",
       "      <td>0</td>\n",
       "      <td>0</td>\n",
       "      <td>0</td>\n",
       "      <td>0</td>\n",
       "      <td>0</td>\n",
       "      <td>0</td>\n",
       "      <td>0</td>\n",
       "      <td>0</td>\n",
       "      <td>0</td>\n",
       "      <td>0</td>\n",
       "    </tr>\n",
       "    <tr>\n",
       "      <th>2069</th>\n",
       "      <td>-0.716402</td>\n",
       "      <td>-0.364305</td>\n",
       "      <td>371706.0</td>\n",
       "      <td>0</td>\n",
       "      <td>1</td>\n",
       "      <td>0</td>\n",
       "      <td>0</td>\n",
       "      <td>0</td>\n",
       "      <td>0</td>\n",
       "      <td>0</td>\n",
       "      <td>...</td>\n",
       "      <td>0</td>\n",
       "      <td>0</td>\n",
       "      <td>0</td>\n",
       "      <td>0</td>\n",
       "      <td>0</td>\n",
       "      <td>0</td>\n",
       "      <td>0</td>\n",
       "      <td>0</td>\n",
       "      <td>0</td>\n",
       "      <td>0</td>\n",
       "    </tr>\n",
       "    <tr>\n",
       "      <th>7016</th>\n",
       "      <td>1.476190</td>\n",
       "      <td>2.900429</td>\n",
       "      <td>870258.0</td>\n",
       "      <td>0</td>\n",
       "      <td>1</td>\n",
       "      <td>0</td>\n",
       "      <td>0</td>\n",
       "      <td>0</td>\n",
       "      <td>0</td>\n",
       "      <td>0</td>\n",
       "      <td>...</td>\n",
       "      <td>0</td>\n",
       "      <td>0</td>\n",
       "      <td>0</td>\n",
       "      <td>0</td>\n",
       "      <td>0</td>\n",
       "      <td>0</td>\n",
       "      <td>0</td>\n",
       "      <td>0</td>\n",
       "      <td>0</td>\n",
       "      <td>0</td>\n",
       "    </tr>\n",
       "    <tr>\n",
       "      <th>4871</th>\n",
       "      <td>-0.866667</td>\n",
       "      <td>0.051843</td>\n",
       "      <td>45883.0</td>\n",
       "      <td>1</td>\n",
       "      <td>0</td>\n",
       "      <td>0</td>\n",
       "      <td>0</td>\n",
       "      <td>0</td>\n",
       "      <td>0</td>\n",
       "      <td>0</td>\n",
       "      <td>...</td>\n",
       "      <td>0</td>\n",
       "      <td>0</td>\n",
       "      <td>0</td>\n",
       "      <td>0</td>\n",
       "      <td>0</td>\n",
       "      <td>0</td>\n",
       "      <td>0</td>\n",
       "      <td>0</td>\n",
       "      <td>0</td>\n",
       "      <td>0</td>\n",
       "    </tr>\n",
       "  </tbody>\n",
       "</table>\n",
       "<p>5 rows × 287 columns</p>\n",
       "</div>"
      ],
      "text/plain": [
       "      sqft_living  sqft_lot  taxvalue  bedrooms_2.0  bedrooms_3.0  \\\n",
       "1081    -0.453968 -0.315264  141623.0             0             1   \n",
       "610      0.111111 -0.105088  432903.0             0             1   \n",
       "2069    -0.716402 -0.364305  371706.0             0             1   \n",
       "7016     1.476190  2.900429  870258.0             0             1   \n",
       "4871    -0.866667  0.051843   45883.0             1             0   \n",
       "\n",
       "      bedrooms_4.0  bedrooms_5.0  bedrooms_6.0  bedrooms_7.0  bedrooms_8.0  \\\n",
       "1081             0             0             0             0             0   \n",
       "610              0             0             0             0             0   \n",
       "2069             0             0             0             0             0   \n",
       "7016             0             0             0             0             0   \n",
       "4871             0             0             0             0             0   \n",
       "\n",
       "      ...  zip_97101.0  zip_97104.0  zip_97106.0  zip_97107.0  zip_97108.0  \\\n",
       "1081  ...            0            0            0            0            0   \n",
       "610   ...            0            0            0            0            0   \n",
       "2069  ...            0            0            0            0            0   \n",
       "7016  ...            0            0            0            0            0   \n",
       "4871  ...            0            0            0            0            0   \n",
       "\n",
       "      zip_97109.0  zip_97113.0  zip_97116.0  zip_97118.0  zip_97119.0  \n",
       "1081            0            0            0            0            0  \n",
       "610             0            0            0            0            0  \n",
       "2069            0            0            0            0            0  \n",
       "7016            0            0            0            0            0  \n",
       "4871            0            0            0            0            0  \n",
       "\n",
       "[5 rows x 287 columns]"
      ]
     },
     "execution_count": 176,
     "metadata": {},
     "output_type": "execute_result"
    }
   ],
   "source": [
    "robust_train.head()"
   ]
  },
  {
   "cell_type": "code",
   "execution_count": null,
   "metadata": {},
   "outputs": [
    {
     "data": {
      "image/png": "[encoded data removed]",
      "text/plain": [
       "<Figure size 936x504 with 1 Axes>"
      ]
     },
     "metadata": {},
     "output_type": "display_data"
    }
   ],
   "source": [
    "fig, axes = plt.subplots(figsize=(13, 7))\n",
    "\n",
    "r, p = stats.pearsonr(robust_train.sqft_living, robust_train.taxvalue)\n",
    "\n",
    "sns.scatterplot(data=robust_train, x=robust_train.sqft_living, y=robust_train.taxvalue)\n",
    "axes.set(\n",
    "    xlabel='Sqft Living',\n",
    "    ylabel='tax value',\n",
    "    title='Sqft Living vs. tax value',\n",
    ")\n",
    "text = f'r = {r:.4f}, p = {p:.4f}'\n",
    "#axes.text(25, 120, text, va='top', ha='right')"
   ]
  },
  {
   "cell_type": "code",
   "execution_count": null,
   "metadata": {},
   "outputs": [],
   "source": [
    "rs_X_train, rs_y_train, rs_X_validate,rs_y_validate, rs_X_test, rs_y_test = bs_X_y(robust_train, robust_validate, robust_test)"
   ]
  },
  {
   "cell_type": "code",
   "execution_count": null,
   "metadata": {},
   "outputs": [],
   "source": [
    "predictions_robust_scale = pd.DataFrame({'actual': robust_validate.taxvalue})"
   ]
  },
  {
   "cell_type": "code",
   "execution_count": null,
   "metadata": {},
   "outputs": [
    {
     "data": {
      "text/html": [
       "<div>\n",
       "<style scoped>\n",
       "    .dataframe tbody tr th:only-of-type {\n",
       "        vertical-align: middle;\n",
       "    }\n",
       "\n",
       "    .dataframe tbody tr th {\n",
       "        vertical-align: top;\n",
       "    }\n",
       "\n",
       "    .dataframe thead th {\n",
       "        text-align: right;\n",
       "    }\n",
       "</style>\n",
       "<table border=\"1\" class=\"dataframe\">\n",
       "  <thead>\n",
       "    <tr style=\"text-align: right;\">\n",
       "      <th></th>\n",
       "      <th>r2</th>\n",
       "      <th>mse</th>\n",
       "      <th>rmse</th>\n",
       "    </tr>\n",
       "  </thead>\n",
       "  <tbody>\n",
       "    <tr>\n",
       "      <th>actual</th>\n",
       "      <td>1.000000</td>\n",
       "      <td>0.000000e+00</td>\n",
       "      <td>0.00000</td>\n",
       "    </tr>\n",
       "    <tr>\n",
       "      <th>Ridge</th>\n",
       "      <td>0.526568</td>\n",
       "      <td>1.084243e+11</td>\n",
       "      <td>329278.46708</td>\n",
       "    </tr>\n",
       "  </tbody>\n",
       "</table>\n",
       "</div>"
      ],
      "text/plain": [
       "              r2           mse          rmse\n",
       "actual  1.000000  0.000000e+00       0.00000\n",
       "Ridge   0.526568  1.084243e+11  329278.46708"
      ]
     },
     "execution_count": 187,
     "metadata": {},
     "output_type": "execute_result"
    }
   ],
   "source": [
    "pd.concat([\n",
    "    predictions_robust_scale.apply(lambda col: r2_score(predictions_robust_scale.actual, col)).rename('r2'),\n",
    "    predictions_robust_scale.apply(lambda col: mean_squared_error(predictions_robust_scale.actual, col)).rename('mse'),\n",
    "], axis=1).assign(\n",
    "    rmse=lambda df: df.mse.apply(math.sqrt)\n",
    ")"
   ]
  },
  {
   "cell_type": "code",
   "execution_count": null,
   "metadata": {},
   "outputs": [
    {
     "data": {
      "text/plain": [
       "0.5365092904784301"
      ]
     },
     "execution_count": 186,
     "metadata": {},
     "output_type": "execute_result"
    }
   ],
   "source": [
    "model = Ridge(alpha= 1, max_iter=2000, solver= 'lsqr')\n",
    "model.fit(rs_X_train, rs_y_train)\n",
    "predictions_robust_scale['Ridge'] = model.predict(rs_X_validate)\n",
    "model.score(rs_X_train, rs_y_train)"
   ]
  },
  {
   "cell_type": "code",
   "execution_count": null,
   "metadata": {},
   "outputs": [
    {
     "data": {
      "text/plain": [
       "0.5466371788250151"
      ]
     },
     "execution_count": 182,
     "metadata": {},
     "output_type": "execute_result"
    }
   ],
   "source": [
    "model = LinearRegression()\n",
    "model.fit(rs_X_train, rs_y_train)\n",
    "predictions_robust_scale['LinearReg'] = model.predict(rs_X_validate)\n",
    "model.score(rs_X_train, rs_y_train)"
   ]
  },
  {
   "cell_type": "code",
   "execution_count": null,
   "metadata": {},
   "outputs": [
    {
     "name": "stderr",
     "output_type": "stream",
     "text": [
      "/opt/homebrew/Caskroom/miniforge/base/envs/codeup/lib/python3.9/site-packages/sklearn/neural_network/_multilayer_perceptron.py:692: ConvergenceWarning: Stochastic Optimizer: Maximum iterations (5000) reached and the optimization hasn't converged yet.\n",
      "  warnings.warn(\n"
     ]
    },
    {
     "data": {
      "text/plain": [
       "0.521900383465452"
      ]
     },
     "execution_count": 155,
     "metadata": {},
     "output_type": "execute_result"
    }
   ],
   "source": [
    "model = MLPRegressor(max_iter=5000)\n",
    "model.fit(rs_X_train, rs_y_train)\n",
    "predictions_robust_scale['MLPr'] = model.predict(rs_X_validate)\n",
    "model.score(rs_X_train, rs_y_train)"
   ]
  },
  {
   "cell_type": "code",
   "execution_count": null,
   "metadata": {},
   "outputs": [
    {
     "data": {
      "text/plain": [
       "Int64Index([ 1081,   610,  2069,  7016,  4871, 13690, 12217, 10057,  9804,\n",
       "             1743,\n",
       "            ...\n",
       "             7094,  3516, 14074,  1045,  6298, 10116,   638, 13997,   123,\n",
       "              858],\n",
       "           dtype='int64', length=8102)"
      ]
     },
     "execution_count": 153,
     "metadata": {},
     "output_type": "execute_result"
    }
   ],
   "source": [
    "rs_X_train.index"
   ]
  },
  {
   "cell_type": "code",
   "execution_count": null,
   "metadata": {},
   "outputs": [
    {
     "data": {
      "text/plain": [
       "GridSearchCV(cv=5, estimator=LinearRegression(), n_jobs=-1,\n",
       "             param_grid={'fit_intercept': ['True', 'False'], 'n_jobs': [-1],\n",
       "                         'positive': ['True', 'False']},\n",
       "             scoring='neg_mean_squared_error')"
      ]
     },
     "execution_count": 157,
     "metadata": {},
     "output_type": "execute_result"
    }
   ],
   "source": [
    "# specify number of folds for k-fold CV\n",
    "n_folds = 5\n",
    "\n",
    "# # parameters to build the model on\n",
    "mlp_parameters = {\n",
    "    'fit_intercept': ['True', 'False'],\n",
    "    'n_jobs': [-1],\n",
    "    'positive': ['True', 'False'],\n",
    "\n",
    "\n",
    "}\n",
    "\n",
    "# # instantiate the model\n",
    "mlp = LinearRegression()\n",
    "\n",
    "# # fit tree on training data\n",
    "mlp = GridSearchCV(mlp, mlp_parameters,\n",
    "                n_jobs=-1, cv=n_folds, \n",
    "                scoring='neg_mean_squared_error')\n",
    "mlp.fit(rs_X_train, rs_y_train)"
   ]
  },
  {
   "cell_type": "code",
   "execution_count": null,
   "metadata": {},
   "outputs": [
    {
     "name": "stdout",
     "output_type": "stream",
     "text": [
      "Best parameters found:\n",
      " {'fit_intercept': 'True', 'n_jobs': -1, 'positive': 'True'}\n"
     ]
    }
   ],
   "source": [
    "print('Best parameters found:\\n', mlp.best_params_)"
   ]
  },
  {
   "cell_type": "code",
   "execution_count": null,
   "metadata": {},
   "outputs": [
    {
     "data": {
      "text/plain": [
       "GridSearchCV(cv=5, estimator=Ridge(), n_jobs=-1,\n",
       "             param_grid={'alpha': [0.0001, 0.001, 0.01, 0.1, 1],\n",
       "                         'max_iter': [2000],\n",
       "                         'solver': ['svd', 'cholesky', 'lsqr', 'sparse_cg',\n",
       "                                    'sag', 'saga']},\n",
       "             scoring='neg_mean_squared_error')"
      ]
     },
     "execution_count": 165,
     "metadata": {},
     "output_type": "execute_result"
    }
   ],
   "source": [
    "# specify number of folds for k-fold CV\n",
    "n_folds = 5\n",
    "\n",
    "# # parameters to build the model on\n",
    "mlp_parameters = {\n",
    "    'solver': ['svd', 'cholesky', 'lsqr', 'sparse_cg', 'sag', 'saga'],\n",
    "    'alpha': [0.0001, 0.001, 0.01, 0.1, 1],\n",
    "    'max_iter': [2000],\n",
    "}\n",
    "\n",
    "\n",
    "# # instantiate the model\n",
    "mlp = Ridge()\n",
    "# # fit tree on training data\n",
    "mlp = GridSearchCV(mlp, mlp_parameters,\n",
    "                n_jobs=-1, cv=n_folds, \n",
    "                scoring='neg_mean_squared_error')\n",
    "mlp.fit(rs_X_train, rs_y_train)"
   ]
  },
  {
   "cell_type": "code",
   "execution_count": null,
   "metadata": {},
   "outputs": [
    {
     "name": "stdout",
     "output_type": "stream",
     "text": [
      "Best parameters found:\n",
      " {'alpha': 1, 'max_iter': 2000, 'solver': 'lsqr'}\n"
     ]
    }
   ],
   "source": [
    "print('Best parameters found:\\n', mlp.best_params_)"
   ]
  },
  {
   "cell_type": "code",
   "execution_count": null,
   "metadata": {},
   "outputs": [
    {
     "name": "stdout",
     "output_type": "stream",
     "text": [
      "-1.8435006692956205e+21\n",
      "-1.8435006692956205e+21\n"
     ]
    },
    {
     "data": {
      "text/plain": [
       "1.4566240752920257e+34"
      ]
     },
     "execution_count": 78,
     "metadata": {},
     "output_type": "execute_result"
    }
   ],
   "source": [
    "LinearRegression(), SGDRegressor(), BayesianRidge(), Lasso(), Ridge(), ElasticNet(), SVR(), KNeighborsRegressor(), ExtraTreesRegressor()\n",
    "\n",
    "# create pipeline\n",
    "estimators = []\n",
    "estimators.append(('Scaler', MinMaxScaler()))\n",
    "estimators.append(('LR', LinearRegression()))\n",
    "model = Pipeline(estimators)\n",
    "# create make_pipeline\n",
    "make_model = make_pipeline(MinMaxScaler(),\n",
    "                           LinearRegression())\n",
    "\n",
    "# evaluate pipeline\n",
    "seed = 123\n",
    "scoring = make_scorer(r2_score)\n",
    "results = cross_val_score(model, X_train, y_train, scoring=scoring)\n",
    "print(results.mean())\n",
    "# evaluate make_pipeline\n",
    "make_results = cross_val_score(make_model, X_train, y_train, scoring=scoring)\n",
    "print(make_results.mean())\n",
    "\n",
    "# fit and predict on pipeline\n",
    "model.fit(X_train, y_train)\n",
    "mean_squared_error(model.predict(X_test), y_test)"
   ]
  }
 ],
 "metadata": {
  "interpreter": {
   "hash": "d4254dfede92ed85b1e7effbb0ae0c06b8ef5710a6a6be3bdd84af0ac16bdfc5"
  },
  "kernelspec": {
   "display_name": "Python 3.9.10 ('codeup')",
   "language": "python",
   "name": "python3"
  },
  "language_info": {
   "codemirror_mode": {
    "name": "ipython",
    "version": 3
   },
   "file_extension": ".py",
   "mimetype": "text/x-python",
   "name": "python",
   "nbconvert_exporter": "python",
   "pygments_lexer": "ipython3",
   "version": "3.9.12"
  },
  "orig_nbformat": 4
 },
 "nbformat": 4,
 "nbformat_minor": 2
}
